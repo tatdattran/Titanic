{
 "cells": [
  {
   "cell_type": "markdown",
   "id": "a5c76e72",
   "metadata": {},
   "source": [
    "<font size=\"7\" color=\"#0000ff\"><center>Titanic - Abschlussprojekt </center></font>"
   ]
  },
  {
   "cell_type": "markdown",
   "id": "0692e7d5",
   "metadata": {},
   "source": [
    "<font size=\"5\" color=\"#0000ff\"><center>Gruppe B (15-18 Februar 2022)</center></font>\n",
    "<font size=\"3\" color=\"#0000ff\"><center>Mohanad Abdaldayem, Sinan Hinislioglu, Tat Dat Tran</center></font>"
   ]
  },
  {
   "cell_type": "markdown",
   "id": "848c7e17",
   "metadata": {},
   "source": [
    "<img src=\"titanic.jpg\" width=100%>"
   ]
  },
  {
   "cell_type": "markdown",
   "id": "111e6e7e",
   "metadata": {},
   "source": [
    "# Einführung"
   ]
  },
  {
   "cell_type": "markdown",
   "id": "919308d8",
   "metadata": {},
   "source": [
    "Der Untergang der Titanic ist eines der berüchtigtsten Schiffswracks der Geschichte.\n",
    "\n",
    "Am 15. April 1912, während ihrer Jungfernfahrt, sank die RMS Titanic, die weithin als „unsinkbar“ galt, nachdem sie mit einem Eisberg kollidierte. Leider waren nicht genügend Rettungsboote für alle an Bord, was zum Tod von 1502 von 2224 Passagieren und Besatzungsmitgliedern führte.\n",
    "\n",
    "Obwohl das Überleben ein Glückselement war, scheint es, dass einige Gruppen von Menschen mit größerer Wahrscheinlichkeit überleben als andere.\n",
    "\n",
    "In diesem Projekt erstellen wir ein Vorhersagemodell, um das Überleben von Titanic-Passagieren vorherzusagen. Dies würde dann die Frage beantworten: \"Welche Art von Menschen würde eher überleben?\", oder genauer gesagt, \"wenn Frauen und Kinder eher überleben würden?\".\n",
    "\n",
    "<b>Referenz:<b> \n",
    "\n",
    "- https://www.kaggle.com/c/titanic <br>\n",
    "- https://www.kaggle.com/pavlofesenko/titanic-extended?select=full.csv <br>\n",
    "- https://en.wikipedia.org/wiki/Passengers_of_the_Titanic <br>\n",
    "- https://www.kaggle.com/alexisbcook/titanic-tutorial <br>\n",
    "- Material von dem Kurs\n",
    "- google\n",
    "    \n",
    "\n"
   ]
  },
  {
   "cell_type": "markdown",
   "id": "8a855ea1",
   "metadata": {},
   "source": [
    "# Datensammlung"
   ]
  },
  {
   "cell_type": "markdown",
   "id": "0b06f9e0",
   "metadata": {},
   "source": [
    "## Bibliothek"
   ]
  },
  {
   "cell_type": "code",
   "execution_count": 1,
   "id": "b60c9f69",
   "metadata": {},
   "outputs": [],
   "source": [
    "import pandas as pd\n",
    "import matplotlib.pyplot as plt\n",
    "import numpy as np\n",
    "import seaborn as sns\n",
    "import statistics\n",
    "\n",
    "from sklearn import linear_model\n",
    "from sklearn.linear_model import LogisticRegression\n",
    "from sklearn.ensemble import RandomForestClassifier\n",
    "from sklearn.linear_model import Perceptron\n",
    "from sklearn.linear_model import SGDClassifier\n",
    "from sklearn.tree import DecisionTreeClassifier\n",
    "from sklearn.neighbors import KNeighborsClassifier\n",
    "from sklearn.svm import SVC, LinearSVC\n",
    "from sklearn.naive_bayes import GaussianNB\n",
    "\n",
    "# We are importing WARNINGS class to suppress warnings\n",
    "import warnings\n",
    "warnings.filterwarnings('ignore')"
   ]
  },
  {
   "cell_type": "markdown",
   "id": "c1a7726a",
   "metadata": {},
   "source": [
    "## Daten importieren"
   ]
  },
  {
   "cell_type": "code",
   "execution_count": 2,
   "id": "e1b0a9c7",
   "metadata": {},
   "outputs": [],
   "source": [
    "# Daten importieren von https://www.kaggle.com/pavlofesenko/titanic-extended?select=full.csv\n",
    "df = pd.read_csv(\"train.csv\")\n",
    "df_test =  pd.read_csv(\"test.csv\")"
   ]
  },
  {
   "cell_type": "markdown",
   "id": "4c8bd978",
   "metadata": {},
   "source": [
    "## Datenrecherche und Entfernung unwichtiger und doppelter Daten "
   ]
  },
  {
   "cell_type": "code",
   "execution_count": 3,
   "id": "6a164bc4",
   "metadata": {
    "scrolled": true
   },
   "outputs": [
    {
     "name": "stdout",
     "output_type": "stream",
     "text": [
      "<class 'pandas.core.frame.DataFrame'>\n",
      "RangeIndex: 891 entries, 0 to 890\n",
      "Data columns (total 21 columns):\n",
      " #   Column       Non-Null Count  Dtype  \n",
      "---  ------       --------------  -----  \n",
      " 0   PassengerId  891 non-null    int64  \n",
      " 1   Survived     891 non-null    float64\n",
      " 2   Pclass       891 non-null    int64  \n",
      " 3   Name         891 non-null    object \n",
      " 4   Sex          891 non-null    object \n",
      " 5   Age          714 non-null    float64\n",
      " 6   SibSp        891 non-null    int64  \n",
      " 7   Parch        891 non-null    int64  \n",
      " 8   Ticket       891 non-null    object \n",
      " 9   Fare         891 non-null    float64\n",
      " 10  Cabin        204 non-null    object \n",
      " 11  Embarked     889 non-null    object \n",
      " 12  WikiId       889 non-null    float64\n",
      " 13  Name_wiki    889 non-null    object \n",
      " 14  Age_wiki     887 non-null    float64\n",
      " 15  Hometown     889 non-null    object \n",
      " 16  Boarded      889 non-null    object \n",
      " 17  Destination  889 non-null    object \n",
      " 18  Lifeboat     345 non-null    object \n",
      " 19  Body         87 non-null     object \n",
      " 20  Class        889 non-null    float64\n",
      "dtypes: float64(6), int64(4), object(11)\n",
      "memory usage: 146.3+ KB\n"
     ]
    }
   ],
   "source": [
    "df.info()"
   ]
  },
  {
   "cell_type": "code",
   "execution_count": 4,
   "id": "232d16b3",
   "metadata": {},
   "outputs": [
    {
     "name": "stdout",
     "output_type": "stream",
     "text": [
      "<class 'pandas.core.frame.DataFrame'>\n",
      "RangeIndex: 418 entries, 0 to 417\n",
      "Data columns (total 20 columns):\n",
      " #   Column       Non-Null Count  Dtype  \n",
      "---  ------       --------------  -----  \n",
      " 0   PassengerId  418 non-null    int64  \n",
      " 1   Pclass       418 non-null    int64  \n",
      " 2   Name         418 non-null    object \n",
      " 3   Sex          418 non-null    object \n",
      " 4   Age          332 non-null    float64\n",
      " 5   SibSp        418 non-null    int64  \n",
      " 6   Parch        418 non-null    int64  \n",
      " 7   Ticket       418 non-null    object \n",
      " 8   Fare         417 non-null    float64\n",
      " 9   Cabin        91 non-null     object \n",
      " 10  Embarked     418 non-null    object \n",
      " 11  WikiId       415 non-null    float64\n",
      " 12  Name_wiki    415 non-null    object \n",
      " 13  Age_wiki     415 non-null    float64\n",
      " 14  Hometown     415 non-null    object \n",
      " 15  Boarded      415 non-null    object \n",
      " 16  Destination  415 non-null    object \n",
      " 17  Lifeboat     157 non-null    object \n",
      " 18  Body         43 non-null     object \n",
      " 19  Class        415 non-null    float64\n",
      "dtypes: float64(5), int64(4), object(11)\n",
      "memory usage: 65.4+ KB\n"
     ]
    }
   ],
   "source": [
    "df_test.info()"
   ]
  },
  {
   "cell_type": "code",
   "execution_count": 5,
   "id": "3e9efd63",
   "metadata": {
    "scrolled": false
   },
   "outputs": [
    {
     "data": {
      "text/html": [
       "<div>\n",
       "<style scoped>\n",
       "    .dataframe tbody tr th:only-of-type {\n",
       "        vertical-align: middle;\n",
       "    }\n",
       "\n",
       "    .dataframe tbody tr th {\n",
       "        vertical-align: top;\n",
       "    }\n",
       "\n",
       "    .dataframe thead th {\n",
       "        text-align: right;\n",
       "    }\n",
       "</style>\n",
       "<table border=\"1\" class=\"dataframe\">\n",
       "  <thead>\n",
       "    <tr style=\"text-align: right;\">\n",
       "      <th></th>\n",
       "      <th>PassengerId</th>\n",
       "      <th>Survived</th>\n",
       "      <th>Pclass</th>\n",
       "      <th>Name</th>\n",
       "      <th>Sex</th>\n",
       "      <th>Age</th>\n",
       "      <th>SibSp</th>\n",
       "      <th>Parch</th>\n",
       "      <th>Ticket</th>\n",
       "      <th>Fare</th>\n",
       "      <th>...</th>\n",
       "      <th>Embarked</th>\n",
       "      <th>WikiId</th>\n",
       "      <th>Name_wiki</th>\n",
       "      <th>Age_wiki</th>\n",
       "      <th>Hometown</th>\n",
       "      <th>Boarded</th>\n",
       "      <th>Destination</th>\n",
       "      <th>Lifeboat</th>\n",
       "      <th>Body</th>\n",
       "      <th>Class</th>\n",
       "    </tr>\n",
       "  </thead>\n",
       "  <tbody>\n",
       "    <tr>\n",
       "      <th>0</th>\n",
       "      <td>1</td>\n",
       "      <td>0.0</td>\n",
       "      <td>3</td>\n",
       "      <td>Braund, Mr. Owen Harris</td>\n",
       "      <td>male</td>\n",
       "      <td>22.0</td>\n",
       "      <td>1</td>\n",
       "      <td>0</td>\n",
       "      <td>A/5 21171</td>\n",
       "      <td>7.2500</td>\n",
       "      <td>...</td>\n",
       "      <td>S</td>\n",
       "      <td>691.0</td>\n",
       "      <td>Braund, Mr. Owen Harris</td>\n",
       "      <td>22.0</td>\n",
       "      <td>Bridgerule, Devon, England</td>\n",
       "      <td>Southampton</td>\n",
       "      <td>Qu'Appelle Valley, Saskatchewan, Canada</td>\n",
       "      <td>NaN</td>\n",
       "      <td>NaN</td>\n",
       "      <td>3.0</td>\n",
       "    </tr>\n",
       "    <tr>\n",
       "      <th>1</th>\n",
       "      <td>2</td>\n",
       "      <td>1.0</td>\n",
       "      <td>1</td>\n",
       "      <td>Cumings, Mrs. John Bradley (Florence Briggs Th...</td>\n",
       "      <td>female</td>\n",
       "      <td>38.0</td>\n",
       "      <td>1</td>\n",
       "      <td>0</td>\n",
       "      <td>PC 17599</td>\n",
       "      <td>71.2833</td>\n",
       "      <td>...</td>\n",
       "      <td>C</td>\n",
       "      <td>90.0</td>\n",
       "      <td>Cumings, Mrs. Florence Briggs (née Thayer)</td>\n",
       "      <td>35.0</td>\n",
       "      <td>New York, New York, US</td>\n",
       "      <td>Cherbourg</td>\n",
       "      <td>New York, New York, US</td>\n",
       "      <td>4</td>\n",
       "      <td>NaN</td>\n",
       "      <td>1.0</td>\n",
       "    </tr>\n",
       "    <tr>\n",
       "      <th>2</th>\n",
       "      <td>3</td>\n",
       "      <td>1.0</td>\n",
       "      <td>3</td>\n",
       "      <td>Heikkinen, Miss. Laina</td>\n",
       "      <td>female</td>\n",
       "      <td>26.0</td>\n",
       "      <td>0</td>\n",
       "      <td>0</td>\n",
       "      <td>STON/O2. 3101282</td>\n",
       "      <td>7.9250</td>\n",
       "      <td>...</td>\n",
       "      <td>S</td>\n",
       "      <td>865.0</td>\n",
       "      <td>Heikkinen, Miss Laina</td>\n",
       "      <td>26.0</td>\n",
       "      <td>Jyväskylä, Finland</td>\n",
       "      <td>Southampton</td>\n",
       "      <td>New York City</td>\n",
       "      <td>14?</td>\n",
       "      <td>NaN</td>\n",
       "      <td>3.0</td>\n",
       "    </tr>\n",
       "    <tr>\n",
       "      <th>3</th>\n",
       "      <td>4</td>\n",
       "      <td>1.0</td>\n",
       "      <td>1</td>\n",
       "      <td>Futrelle, Mrs. Jacques Heath (Lily May Peel)</td>\n",
       "      <td>female</td>\n",
       "      <td>35.0</td>\n",
       "      <td>1</td>\n",
       "      <td>0</td>\n",
       "      <td>113803</td>\n",
       "      <td>53.1000</td>\n",
       "      <td>...</td>\n",
       "      <td>S</td>\n",
       "      <td>127.0</td>\n",
       "      <td>Futrelle, Mrs. Lily May (née Peel)</td>\n",
       "      <td>35.0</td>\n",
       "      <td>Scituate, Massachusetts, US</td>\n",
       "      <td>Southampton</td>\n",
       "      <td>Scituate, Massachusetts, US</td>\n",
       "      <td>D</td>\n",
       "      <td>NaN</td>\n",
       "      <td>1.0</td>\n",
       "    </tr>\n",
       "    <tr>\n",
       "      <th>4</th>\n",
       "      <td>5</td>\n",
       "      <td>0.0</td>\n",
       "      <td>3</td>\n",
       "      <td>Allen, Mr. William Henry</td>\n",
       "      <td>male</td>\n",
       "      <td>35.0</td>\n",
       "      <td>0</td>\n",
       "      <td>0</td>\n",
       "      <td>373450</td>\n",
       "      <td>8.0500</td>\n",
       "      <td>...</td>\n",
       "      <td>S</td>\n",
       "      <td>627.0</td>\n",
       "      <td>Allen, Mr. William Henry</td>\n",
       "      <td>35.0</td>\n",
       "      <td>Birmingham, West Midlands, England</td>\n",
       "      <td>Southampton</td>\n",
       "      <td>New York City</td>\n",
       "      <td>NaN</td>\n",
       "      <td>NaN</td>\n",
       "      <td>3.0</td>\n",
       "    </tr>\n",
       "  </tbody>\n",
       "</table>\n",
       "<p>5 rows × 21 columns</p>\n",
       "</div>"
      ],
      "text/plain": [
       "   PassengerId  Survived  Pclass  \\\n",
       "0            1       0.0       3   \n",
       "1            2       1.0       1   \n",
       "2            3       1.0       3   \n",
       "3            4       1.0       1   \n",
       "4            5       0.0       3   \n",
       "\n",
       "                                                Name     Sex   Age  SibSp  \\\n",
       "0                            Braund, Mr. Owen Harris    male  22.0      1   \n",
       "1  Cumings, Mrs. John Bradley (Florence Briggs Th...  female  38.0      1   \n",
       "2                             Heikkinen, Miss. Laina  female  26.0      0   \n",
       "3       Futrelle, Mrs. Jacques Heath (Lily May Peel)  female  35.0      1   \n",
       "4                           Allen, Mr. William Henry    male  35.0      0   \n",
       "\n",
       "   Parch            Ticket     Fare  ... Embarked WikiId  \\\n",
       "0      0         A/5 21171   7.2500  ...        S  691.0   \n",
       "1      0          PC 17599  71.2833  ...        C   90.0   \n",
       "2      0  STON/O2. 3101282   7.9250  ...        S  865.0   \n",
       "3      0            113803  53.1000  ...        S  127.0   \n",
       "4      0            373450   8.0500  ...        S  627.0   \n",
       "\n",
       "                                    Name_wiki Age_wiki  \\\n",
       "0                     Braund, Mr. Owen Harris     22.0   \n",
       "1  Cumings, Mrs. Florence Briggs (née Thayer)     35.0   \n",
       "2                       Heikkinen, Miss Laina     26.0   \n",
       "3          Futrelle, Mrs. Lily May (née Peel)     35.0   \n",
       "4                    Allen, Mr. William Henry     35.0   \n",
       "\n",
       "                             Hometown      Boarded  \\\n",
       "0          Bridgerule, Devon, England  Southampton   \n",
       "1              New York, New York, US    Cherbourg   \n",
       "2                  Jyväskylä, Finland  Southampton   \n",
       "3         Scituate, Massachusetts, US  Southampton   \n",
       "4  Birmingham, West Midlands, England  Southampton   \n",
       "\n",
       "                               Destination Lifeboat Body Class  \n",
       "0  Qu'Appelle Valley, Saskatchewan, Canada      NaN  NaN   3.0  \n",
       "1                   New York, New York, US        4  NaN   1.0  \n",
       "2                            New York City      14?  NaN   3.0  \n",
       "3              Scituate, Massachusetts, US        D  NaN   1.0  \n",
       "4                            New York City      NaN  NaN   3.0  \n",
       "\n",
       "[5 rows x 21 columns]"
      ]
     },
     "execution_count": 5,
     "metadata": {},
     "output_type": "execute_result"
    }
   ],
   "source": [
    "df.head(5)"
   ]
  },
  {
   "cell_type": "code",
   "execution_count": 6,
   "id": "9f6eaa86",
   "metadata": {
    "scrolled": true
   },
   "outputs": [
    {
     "data": {
      "text/html": [
       "<div>\n",
       "<style scoped>\n",
       "    .dataframe tbody tr th:only-of-type {\n",
       "        vertical-align: middle;\n",
       "    }\n",
       "\n",
       "    .dataframe tbody tr th {\n",
       "        vertical-align: top;\n",
       "    }\n",
       "\n",
       "    .dataframe thead th {\n",
       "        text-align: right;\n",
       "    }\n",
       "</style>\n",
       "<table border=\"1\" class=\"dataframe\">\n",
       "  <thead>\n",
       "    <tr style=\"text-align: right;\">\n",
       "      <th></th>\n",
       "      <th>PassengerId</th>\n",
       "      <th>Pclass</th>\n",
       "      <th>Name</th>\n",
       "      <th>Sex</th>\n",
       "      <th>Age</th>\n",
       "      <th>SibSp</th>\n",
       "      <th>Parch</th>\n",
       "      <th>Ticket</th>\n",
       "      <th>Fare</th>\n",
       "      <th>Cabin</th>\n",
       "      <th>Embarked</th>\n",
       "      <th>WikiId</th>\n",
       "      <th>Name_wiki</th>\n",
       "      <th>Age_wiki</th>\n",
       "      <th>Hometown</th>\n",
       "      <th>Boarded</th>\n",
       "      <th>Destination</th>\n",
       "      <th>Lifeboat</th>\n",
       "      <th>Body</th>\n",
       "      <th>Class</th>\n",
       "    </tr>\n",
       "  </thead>\n",
       "  <tbody>\n",
       "    <tr>\n",
       "      <th>0</th>\n",
       "      <td>892</td>\n",
       "      <td>3</td>\n",
       "      <td>Kelly, Mr. James</td>\n",
       "      <td>male</td>\n",
       "      <td>34.5</td>\n",
       "      <td>0</td>\n",
       "      <td>0</td>\n",
       "      <td>330911</td>\n",
       "      <td>7.8292</td>\n",
       "      <td>NaN</td>\n",
       "      <td>Q</td>\n",
       "      <td>928.0</td>\n",
       "      <td>Kelly, Mr. James</td>\n",
       "      <td>19.0</td>\n",
       "      <td>Unknown, Ireland</td>\n",
       "      <td>Southampton</td>\n",
       "      <td>New York City</td>\n",
       "      <td>NaN</td>\n",
       "      <td>70MB</td>\n",
       "      <td>3.0</td>\n",
       "    </tr>\n",
       "    <tr>\n",
       "      <th>1</th>\n",
       "      <td>893</td>\n",
       "      <td>3</td>\n",
       "      <td>Wilkes, Mrs. James (Ellen Needs)</td>\n",
       "      <td>female</td>\n",
       "      <td>47.0</td>\n",
       "      <td>1</td>\n",
       "      <td>0</td>\n",
       "      <td>363272</td>\n",
       "      <td>7.0000</td>\n",
       "      <td>NaN</td>\n",
       "      <td>S</td>\n",
       "      <td>1297.0</td>\n",
       "      <td>Wilkes, Mrs. Ellen</td>\n",
       "      <td>47.0</td>\n",
       "      <td>Penzance, Cornwall, England</td>\n",
       "      <td>Southampton</td>\n",
       "      <td>Akron, Ohio, US</td>\n",
       "      <td>16</td>\n",
       "      <td>NaN</td>\n",
       "      <td>3.0</td>\n",
       "    </tr>\n",
       "    <tr>\n",
       "      <th>2</th>\n",
       "      <td>894</td>\n",
       "      <td>2</td>\n",
       "      <td>Myles, Mr. Thomas Francis</td>\n",
       "      <td>male</td>\n",
       "      <td>62.0</td>\n",
       "      <td>0</td>\n",
       "      <td>0</td>\n",
       "      <td>240276</td>\n",
       "      <td>9.6875</td>\n",
       "      <td>NaN</td>\n",
       "      <td>Q</td>\n",
       "      <td>518.0</td>\n",
       "      <td>Myles, Mr. Thomas Francis</td>\n",
       "      <td>63.0</td>\n",
       "      <td>Fermoy, Ireland[note 1]</td>\n",
       "      <td>Queenstown</td>\n",
       "      <td>Waban, Massachusetts, US</td>\n",
       "      <td>NaN</td>\n",
       "      <td>NaN</td>\n",
       "      <td>2.0</td>\n",
       "    </tr>\n",
       "    <tr>\n",
       "      <th>3</th>\n",
       "      <td>895</td>\n",
       "      <td>3</td>\n",
       "      <td>Wirz, Mr. Albert</td>\n",
       "      <td>male</td>\n",
       "      <td>27.0</td>\n",
       "      <td>0</td>\n",
       "      <td>0</td>\n",
       "      <td>315154</td>\n",
       "      <td>8.6625</td>\n",
       "      <td>NaN</td>\n",
       "      <td>S</td>\n",
       "      <td>1303.0</td>\n",
       "      <td>Wirz, Mr. Albert</td>\n",
       "      <td>27.0</td>\n",
       "      <td>Uster, Switzerland</td>\n",
       "      <td>Southampton</td>\n",
       "      <td>Beloit, Wisconsin, US</td>\n",
       "      <td>NaN</td>\n",
       "      <td>131MB</td>\n",
       "      <td>3.0</td>\n",
       "    </tr>\n",
       "    <tr>\n",
       "      <th>4</th>\n",
       "      <td>896</td>\n",
       "      <td>3</td>\n",
       "      <td>Hirvonen, Mrs. Alexander (Helga E Lindqvist)</td>\n",
       "      <td>female</td>\n",
       "      <td>22.0</td>\n",
       "      <td>1</td>\n",
       "      <td>1</td>\n",
       "      <td>3101298</td>\n",
       "      <td>12.2875</td>\n",
       "      <td>NaN</td>\n",
       "      <td>S</td>\n",
       "      <td>871.0</td>\n",
       "      <td>Hirvonen, Mrs. Helga Elisabeth (née Lindqvist)</td>\n",
       "      <td>22.0</td>\n",
       "      <td>Taalintehdas, Finland</td>\n",
       "      <td>Southampton</td>\n",
       "      <td>Monessen, Pennsylvania, US</td>\n",
       "      <td>15</td>\n",
       "      <td>NaN</td>\n",
       "      <td>3.0</td>\n",
       "    </tr>\n",
       "  </tbody>\n",
       "</table>\n",
       "</div>"
      ],
      "text/plain": [
       "   PassengerId  Pclass                                          Name     Sex  \\\n",
       "0          892       3                              Kelly, Mr. James    male   \n",
       "1          893       3              Wilkes, Mrs. James (Ellen Needs)  female   \n",
       "2          894       2                     Myles, Mr. Thomas Francis    male   \n",
       "3          895       3                              Wirz, Mr. Albert    male   \n",
       "4          896       3  Hirvonen, Mrs. Alexander (Helga E Lindqvist)  female   \n",
       "\n",
       "    Age  SibSp  Parch   Ticket     Fare Cabin Embarked  WikiId  \\\n",
       "0  34.5      0      0   330911   7.8292   NaN        Q   928.0   \n",
       "1  47.0      1      0   363272   7.0000   NaN        S  1297.0   \n",
       "2  62.0      0      0   240276   9.6875   NaN        Q   518.0   \n",
       "3  27.0      0      0   315154   8.6625   NaN        S  1303.0   \n",
       "4  22.0      1      1  3101298  12.2875   NaN        S   871.0   \n",
       "\n",
       "                                        Name_wiki  Age_wiki  \\\n",
       "0                                Kelly, Mr. James      19.0   \n",
       "1                              Wilkes, Mrs. Ellen      47.0   \n",
       "2                       Myles, Mr. Thomas Francis      63.0   \n",
       "3                                Wirz, Mr. Albert      27.0   \n",
       "4  Hirvonen, Mrs. Helga Elisabeth (née Lindqvist)      22.0   \n",
       "\n",
       "                      Hometown      Boarded                 Destination  \\\n",
       "0             Unknown, Ireland  Southampton               New York City   \n",
       "1  Penzance, Cornwall, England  Southampton             Akron, Ohio, US   \n",
       "2      Fermoy, Ireland[note 1]   Queenstown    Waban, Massachusetts, US   \n",
       "3           Uster, Switzerland  Southampton       Beloit, Wisconsin, US   \n",
       "4        Taalintehdas, Finland  Southampton  Monessen, Pennsylvania, US   \n",
       "\n",
       "  Lifeboat   Body  Class  \n",
       "0      NaN   70MB    3.0  \n",
       "1       16    NaN    3.0  \n",
       "2      NaN    NaN    2.0  \n",
       "3      NaN  131MB    3.0  \n",
       "4       15    NaN    3.0  "
      ]
     },
     "execution_count": 6,
     "metadata": {},
     "output_type": "execute_result"
    }
   ],
   "source": [
    "df_test.head()"
   ]
  },
  {
   "cell_type": "code",
   "execution_count": 7,
   "id": "b1a2f778",
   "metadata": {
    "scrolled": true
   },
   "outputs": [
    {
     "data": {
      "text/html": [
       "<div>\n",
       "<style scoped>\n",
       "    .dataframe tbody tr th:only-of-type {\n",
       "        vertical-align: middle;\n",
       "    }\n",
       "\n",
       "    .dataframe tbody tr th {\n",
       "        vertical-align: top;\n",
       "    }\n",
       "\n",
       "    .dataframe thead th {\n",
       "        text-align: right;\n",
       "    }\n",
       "</style>\n",
       "<table border=\"1\" class=\"dataframe\">\n",
       "  <thead>\n",
       "    <tr style=\"text-align: right;\">\n",
       "      <th></th>\n",
       "      <th>PassengerId</th>\n",
       "      <th>Survived</th>\n",
       "      <th>Pclass</th>\n",
       "      <th>Age</th>\n",
       "      <th>SibSp</th>\n",
       "      <th>Parch</th>\n",
       "      <th>Fare</th>\n",
       "      <th>WikiId</th>\n",
       "      <th>Age_wiki</th>\n",
       "      <th>Class</th>\n",
       "    </tr>\n",
       "  </thead>\n",
       "  <tbody>\n",
       "    <tr>\n",
       "      <th>count</th>\n",
       "      <td>891.000000</td>\n",
       "      <td>891.000000</td>\n",
       "      <td>891.000000</td>\n",
       "      <td>714.000000</td>\n",
       "      <td>891.000000</td>\n",
       "      <td>891.000000</td>\n",
       "      <td>891.000000</td>\n",
       "      <td>889.000000</td>\n",
       "      <td>887.000000</td>\n",
       "      <td>889.000000</td>\n",
       "    </tr>\n",
       "    <tr>\n",
       "      <th>mean</th>\n",
       "      <td>446.000000</td>\n",
       "      <td>0.383838</td>\n",
       "      <td>2.308642</td>\n",
       "      <td>29.699118</td>\n",
       "      <td>0.523008</td>\n",
       "      <td>0.381594</td>\n",
       "      <td>32.204208</td>\n",
       "      <td>665.466817</td>\n",
       "      <td>29.322063</td>\n",
       "      <td>2.307087</td>\n",
       "    </tr>\n",
       "    <tr>\n",
       "      <th>std</th>\n",
       "      <td>257.353842</td>\n",
       "      <td>0.486592</td>\n",
       "      <td>0.836071</td>\n",
       "      <td>14.526497</td>\n",
       "      <td>1.102743</td>\n",
       "      <td>0.806057</td>\n",
       "      <td>49.693429</td>\n",
       "      <td>380.796997</td>\n",
       "      <td>13.930089</td>\n",
       "      <td>0.837713</td>\n",
       "    </tr>\n",
       "    <tr>\n",
       "      <th>min</th>\n",
       "      <td>1.000000</td>\n",
       "      <td>0.000000</td>\n",
       "      <td>1.000000</td>\n",
       "      <td>0.420000</td>\n",
       "      <td>0.000000</td>\n",
       "      <td>0.000000</td>\n",
       "      <td>0.000000</td>\n",
       "      <td>1.000000</td>\n",
       "      <td>0.420000</td>\n",
       "      <td>1.000000</td>\n",
       "    </tr>\n",
       "    <tr>\n",
       "      <th>25%</th>\n",
       "      <td>223.500000</td>\n",
       "      <td>0.000000</td>\n",
       "      <td>2.000000</td>\n",
       "      <td>20.125000</td>\n",
       "      <td>0.000000</td>\n",
       "      <td>0.000000</td>\n",
       "      <td>7.910400</td>\n",
       "      <td>336.000000</td>\n",
       "      <td>20.000000</td>\n",
       "      <td>2.000000</td>\n",
       "    </tr>\n",
       "    <tr>\n",
       "      <th>50%</th>\n",
       "      <td>446.000000</td>\n",
       "      <td>0.000000</td>\n",
       "      <td>3.000000</td>\n",
       "      <td>28.000000</td>\n",
       "      <td>0.000000</td>\n",
       "      <td>0.000000</td>\n",
       "      <td>14.454200</td>\n",
       "      <td>672.000000</td>\n",
       "      <td>28.000000</td>\n",
       "      <td>3.000000</td>\n",
       "    </tr>\n",
       "    <tr>\n",
       "      <th>75%</th>\n",
       "      <td>668.500000</td>\n",
       "      <td>1.000000</td>\n",
       "      <td>3.000000</td>\n",
       "      <td>38.000000</td>\n",
       "      <td>1.000000</td>\n",
       "      <td>0.000000</td>\n",
       "      <td>31.000000</td>\n",
       "      <td>996.000000</td>\n",
       "      <td>38.000000</td>\n",
       "      <td>3.000000</td>\n",
       "    </tr>\n",
       "    <tr>\n",
       "      <th>max</th>\n",
       "      <td>891.000000</td>\n",
       "      <td>1.000000</td>\n",
       "      <td>3.000000</td>\n",
       "      <td>80.000000</td>\n",
       "      <td>8.000000</td>\n",
       "      <td>6.000000</td>\n",
       "      <td>512.329200</td>\n",
       "      <td>1314.000000</td>\n",
       "      <td>74.000000</td>\n",
       "      <td>3.000000</td>\n",
       "    </tr>\n",
       "  </tbody>\n",
       "</table>\n",
       "</div>"
      ],
      "text/plain": [
       "       PassengerId    Survived      Pclass         Age       SibSp  \\\n",
       "count   891.000000  891.000000  891.000000  714.000000  891.000000   \n",
       "mean    446.000000    0.383838    2.308642   29.699118    0.523008   \n",
       "std     257.353842    0.486592    0.836071   14.526497    1.102743   \n",
       "min       1.000000    0.000000    1.000000    0.420000    0.000000   \n",
       "25%     223.500000    0.000000    2.000000   20.125000    0.000000   \n",
       "50%     446.000000    0.000000    3.000000   28.000000    0.000000   \n",
       "75%     668.500000    1.000000    3.000000   38.000000    1.000000   \n",
       "max     891.000000    1.000000    3.000000   80.000000    8.000000   \n",
       "\n",
       "            Parch        Fare       WikiId    Age_wiki       Class  \n",
       "count  891.000000  891.000000   889.000000  887.000000  889.000000  \n",
       "mean     0.381594   32.204208   665.466817   29.322063    2.307087  \n",
       "std      0.806057   49.693429   380.796997   13.930089    0.837713  \n",
       "min      0.000000    0.000000     1.000000    0.420000    1.000000  \n",
       "25%      0.000000    7.910400   336.000000   20.000000    2.000000  \n",
       "50%      0.000000   14.454200   672.000000   28.000000    3.000000  \n",
       "75%      0.000000   31.000000   996.000000   38.000000    3.000000  \n",
       "max      6.000000  512.329200  1314.000000   74.000000    3.000000  "
      ]
     },
     "execution_count": 7,
     "metadata": {},
     "output_type": "execute_result"
    }
   ],
   "source": [
    "df.describe()"
   ]
  },
  {
   "cell_type": "code",
   "execution_count": 8,
   "id": "c5e7aa75",
   "metadata": {},
   "outputs": [
    {
     "data": {
      "image/png": "[encoded data removed]",
      "text/plain": [
       "<Figure size 1152x432 with 2 Axes>"
      ]
     },
     "metadata": {
      "needs_background": "light"
     },
     "output_type": "display_data"
    }
   ],
   "source": [
    "plt.figure(figsize=(16, 6))\n",
    "heatmap = sns.heatmap(df.corr(), vmin=-1, vmax=1, annot=True)\n",
    "heatmap.set_title('Correlation Heatmap', fontdict={'fontsize':18}, pad=12);"
   ]
  },
  {
   "cell_type": "markdown",
   "id": "de0e6996",
   "metadata": {},
   "source": [
    "An dieser Stelle ist es wichtig, wie viele Variablen und Werte unsere Datensätze haben, um welche Art von Variablen es sich handelt und welche davon fehlende Werte haben.\n",
    "\n",
    "Wir können sehen, dass beide Datensätze 19 erklärende Variablen haben. Der df_test-Datensatz enthält etwa 30 % aller Beobachtungen, sodass die Proportionen der Train- und Testdatensätze in Ordnung sind. Die entsprechenden Variablen haben die gleichen Typen, sodass es keine Probleme mit möglichen Variablentransformationen gibt. Das gemeinsame Merkmal beider Sätze ist die große Anzahl von Lücken in den Variablen Age und Cabin, während die verbleibenden Variablen einzelne fehlende Beobachtungen aufweisen, die im zweiten Satz nicht unbedingt vorhanden sind."
   ]
  },
  {
   "cell_type": "markdown",
   "id": "f9549a9e",
   "metadata": {},
   "source": [
    "<b>Diskutieren:<b>\n",
    "\n",
    "- Unwichtig Spalten: WikiId, Hometown, Destination, Lifeboat, Body\n",
    "- Duplikate Spalten: Name_wiki = Name, Age_wiki = Age, Boarded = Embarked, Class = Pclass"
   ]
  },
  {
   "cell_type": "markdown",
   "id": "1c0d922c",
   "metadata": {},
   "source": [
    "<b>Spalten Erklären<b>\n",
    "\n",
    "PassengerId: eindeutige ID-Nummer für jeden Passagier\n",
    "\n",
    "Survived: Passagier überlebt(1) oder ist gestorben(0)\n",
    "\n",
    "Pclass: Passagierklasse\n",
    "\n",
    "Name: Name\n",
    "\n",
    "Sex: Geschlecht des Passagiers\n",
    "\n",
    "Age: Alter des Passagiers\n",
    "\n",
    "SibSp: Anzahl der Geschwister/Ehepartner\n",
    "\n",
    "Parch: Anzahl der Eltern/Kinder\n",
    "\n",
    "Ticket: Ticketnummer\n",
    "\n",
    "Fare: Geldbetrag, der für das Ticket ausgegeben wird\n",
    "\n",
    "Cabin: Kabinenkategorie\n",
    "\n",
    "Embarked : Hafen, in dem die Passagiere eingeschifft wurden (C = Cherbourg, Q = Queenstown, S = Southampton)"
   ]
  },
  {
   "cell_type": "code",
   "execution_count": 9,
   "id": "85b11a19",
   "metadata": {
    "scrolled": true
   },
   "outputs": [
    {
     "data": {
      "text/html": [
       "<div>\n",
       "<style scoped>\n",
       "    .dataframe tbody tr th:only-of-type {\n",
       "        vertical-align: middle;\n",
       "    }\n",
       "\n",
       "    .dataframe tbody tr th {\n",
       "        vertical-align: top;\n",
       "    }\n",
       "\n",
       "    .dataframe thead th {\n",
       "        text-align: right;\n",
       "    }\n",
       "</style>\n",
       "<table border=\"1\" class=\"dataframe\">\n",
       "  <thead>\n",
       "    <tr style=\"text-align: right;\">\n",
       "      <th></th>\n",
       "      <th>PassengerId</th>\n",
       "      <th>Survived</th>\n",
       "      <th>Pclass</th>\n",
       "      <th>Name</th>\n",
       "      <th>Sex</th>\n",
       "      <th>Age</th>\n",
       "      <th>SibSp</th>\n",
       "      <th>Parch</th>\n",
       "      <th>Ticket</th>\n",
       "      <th>Fare</th>\n",
       "      <th>Cabin</th>\n",
       "      <th>Embarked</th>\n",
       "    </tr>\n",
       "  </thead>\n",
       "  <tbody>\n",
       "    <tr>\n",
       "      <th>0</th>\n",
       "      <td>1</td>\n",
       "      <td>0.0</td>\n",
       "      <td>3</td>\n",
       "      <td>Braund, Mr. Owen Harris</td>\n",
       "      <td>male</td>\n",
       "      <td>22.0</td>\n",
       "      <td>1</td>\n",
       "      <td>0</td>\n",
       "      <td>A/5 21171</td>\n",
       "      <td>7.2500</td>\n",
       "      <td>NaN</td>\n",
       "      <td>S</td>\n",
       "    </tr>\n",
       "    <tr>\n",
       "      <th>1</th>\n",
       "      <td>2</td>\n",
       "      <td>1.0</td>\n",
       "      <td>1</td>\n",
       "      <td>Cumings, Mrs. John Bradley (Florence Briggs Th...</td>\n",
       "      <td>female</td>\n",
       "      <td>38.0</td>\n",
       "      <td>1</td>\n",
       "      <td>0</td>\n",
       "      <td>PC 17599</td>\n",
       "      <td>71.2833</td>\n",
       "      <td>C85</td>\n",
       "      <td>C</td>\n",
       "    </tr>\n",
       "    <tr>\n",
       "      <th>2</th>\n",
       "      <td>3</td>\n",
       "      <td>1.0</td>\n",
       "      <td>3</td>\n",
       "      <td>Heikkinen, Miss. Laina</td>\n",
       "      <td>female</td>\n",
       "      <td>26.0</td>\n",
       "      <td>0</td>\n",
       "      <td>0</td>\n",
       "      <td>STON/O2. 3101282</td>\n",
       "      <td>7.9250</td>\n",
       "      <td>NaN</td>\n",
       "      <td>S</td>\n",
       "    </tr>\n",
       "    <tr>\n",
       "      <th>3</th>\n",
       "      <td>4</td>\n",
       "      <td>1.0</td>\n",
       "      <td>1</td>\n",
       "      <td>Futrelle, Mrs. Jacques Heath (Lily May Peel)</td>\n",
       "      <td>female</td>\n",
       "      <td>35.0</td>\n",
       "      <td>1</td>\n",
       "      <td>0</td>\n",
       "      <td>113803</td>\n",
       "      <td>53.1000</td>\n",
       "      <td>C123</td>\n",
       "      <td>S</td>\n",
       "    </tr>\n",
       "    <tr>\n",
       "      <th>4</th>\n",
       "      <td>5</td>\n",
       "      <td>0.0</td>\n",
       "      <td>3</td>\n",
       "      <td>Allen, Mr. William Henry</td>\n",
       "      <td>male</td>\n",
       "      <td>35.0</td>\n",
       "      <td>0</td>\n",
       "      <td>0</td>\n",
       "      <td>373450</td>\n",
       "      <td>8.0500</td>\n",
       "      <td>NaN</td>\n",
       "      <td>S</td>\n",
       "    </tr>\n",
       "    <tr>\n",
       "      <th>...</th>\n",
       "      <td>...</td>\n",
       "      <td>...</td>\n",
       "      <td>...</td>\n",
       "      <td>...</td>\n",
       "      <td>...</td>\n",
       "      <td>...</td>\n",
       "      <td>...</td>\n",
       "      <td>...</td>\n",
       "      <td>...</td>\n",
       "      <td>...</td>\n",
       "      <td>...</td>\n",
       "      <td>...</td>\n",
       "    </tr>\n",
       "    <tr>\n",
       "      <th>886</th>\n",
       "      <td>887</td>\n",
       "      <td>0.0</td>\n",
       "      <td>2</td>\n",
       "      <td>Montvila, Rev. Juozas</td>\n",
       "      <td>male</td>\n",
       "      <td>27.0</td>\n",
       "      <td>0</td>\n",
       "      <td>0</td>\n",
       "      <td>211536</td>\n",
       "      <td>13.0000</td>\n",
       "      <td>NaN</td>\n",
       "      <td>S</td>\n",
       "    </tr>\n",
       "    <tr>\n",
       "      <th>887</th>\n",
       "      <td>888</td>\n",
       "      <td>1.0</td>\n",
       "      <td>1</td>\n",
       "      <td>Graham, Miss. Margaret Edith</td>\n",
       "      <td>female</td>\n",
       "      <td>19.0</td>\n",
       "      <td>0</td>\n",
       "      <td>0</td>\n",
       "      <td>112053</td>\n",
       "      <td>30.0000</td>\n",
       "      <td>B42</td>\n",
       "      <td>S</td>\n",
       "    </tr>\n",
       "    <tr>\n",
       "      <th>888</th>\n",
       "      <td>889</td>\n",
       "      <td>0.0</td>\n",
       "      <td>3</td>\n",
       "      <td>Johnston, Miss. Catherine Helen \"Carrie\"</td>\n",
       "      <td>female</td>\n",
       "      <td>NaN</td>\n",
       "      <td>1</td>\n",
       "      <td>2</td>\n",
       "      <td>W./C. 6607</td>\n",
       "      <td>23.4500</td>\n",
       "      <td>NaN</td>\n",
       "      <td>S</td>\n",
       "    </tr>\n",
       "    <tr>\n",
       "      <th>889</th>\n",
       "      <td>890</td>\n",
       "      <td>1.0</td>\n",
       "      <td>1</td>\n",
       "      <td>Behr, Mr. Karl Howell</td>\n",
       "      <td>male</td>\n",
       "      <td>26.0</td>\n",
       "      <td>0</td>\n",
       "      <td>0</td>\n",
       "      <td>111369</td>\n",
       "      <td>30.0000</td>\n",
       "      <td>C148</td>\n",
       "      <td>C</td>\n",
       "    </tr>\n",
       "    <tr>\n",
       "      <th>890</th>\n",
       "      <td>891</td>\n",
       "      <td>0.0</td>\n",
       "      <td>3</td>\n",
       "      <td>Dooley, Mr. Patrick</td>\n",
       "      <td>male</td>\n",
       "      <td>32.0</td>\n",
       "      <td>0</td>\n",
       "      <td>0</td>\n",
       "      <td>370376</td>\n",
       "      <td>7.7500</td>\n",
       "      <td>NaN</td>\n",
       "      <td>Q</td>\n",
       "    </tr>\n",
       "  </tbody>\n",
       "</table>\n",
       "<p>891 rows × 12 columns</p>\n",
       "</div>"
      ],
      "text/plain": [
       "     PassengerId  Survived  Pclass  \\\n",
       "0              1       0.0       3   \n",
       "1              2       1.0       1   \n",
       "2              3       1.0       3   \n",
       "3              4       1.0       1   \n",
       "4              5       0.0       3   \n",
       "..           ...       ...     ...   \n",
       "886          887       0.0       2   \n",
       "887          888       1.0       1   \n",
       "888          889       0.0       3   \n",
       "889          890       1.0       1   \n",
       "890          891       0.0       3   \n",
       "\n",
       "                                                  Name     Sex   Age  SibSp  \\\n",
       "0                              Braund, Mr. Owen Harris    male  22.0      1   \n",
       "1    Cumings, Mrs. John Bradley (Florence Briggs Th...  female  38.0      1   \n",
       "2                               Heikkinen, Miss. Laina  female  26.0      0   \n",
       "3         Futrelle, Mrs. Jacques Heath (Lily May Peel)  female  35.0      1   \n",
       "4                             Allen, Mr. William Henry    male  35.0      0   \n",
       "..                                                 ...     ...   ...    ...   \n",
       "886                              Montvila, Rev. Juozas    male  27.0      0   \n",
       "887                       Graham, Miss. Margaret Edith  female  19.0      0   \n",
       "888           Johnston, Miss. Catherine Helen \"Carrie\"  female   NaN      1   \n",
       "889                              Behr, Mr. Karl Howell    male  26.0      0   \n",
       "890                                Dooley, Mr. Patrick    male  32.0      0   \n",
       "\n",
       "     Parch            Ticket     Fare Cabin Embarked  \n",
       "0        0         A/5 21171   7.2500   NaN        S  \n",
       "1        0          PC 17599  71.2833   C85        C  \n",
       "2        0  STON/O2. 3101282   7.9250   NaN        S  \n",
       "3        0            113803  53.1000  C123        S  \n",
       "4        0            373450   8.0500   NaN        S  \n",
       "..     ...               ...      ...   ...      ...  \n",
       "886      0            211536  13.0000   NaN        S  \n",
       "887      0            112053  30.0000   B42        S  \n",
       "888      2        W./C. 6607  23.4500   NaN        S  \n",
       "889      0            111369  30.0000  C148        C  \n",
       "890      0            370376   7.7500   NaN        Q  \n",
       "\n",
       "[891 rows x 12 columns]"
      ]
     },
     "execution_count": 9,
     "metadata": {},
     "output_type": "execute_result"
    }
   ],
   "source": [
    "df = df.drop(['WikiId', 'Name_wiki','Age_wiki', 'Hometown', 'Boarded', 'Destination', 'Lifeboat', 'Body',\n",
    "'Class'], axis=1)\n",
    "df"
   ]
  },
  {
   "cell_type": "code",
   "execution_count": 10,
   "id": "be9e7859",
   "metadata": {
    "scrolled": true
   },
   "outputs": [
    {
     "name": "stdout",
     "output_type": "stream",
     "text": [
      "<class 'pandas.core.frame.DataFrame'>\n",
      "RangeIndex: 891 entries, 0 to 890\n",
      "Data columns (total 12 columns):\n",
      " #   Column       Non-Null Count  Dtype  \n",
      "---  ------       --------------  -----  \n",
      " 0   PassengerId  891 non-null    int64  \n",
      " 1   Survived     891 non-null    float64\n",
      " 2   Pclass       891 non-null    int64  \n",
      " 3   Name         891 non-null    object \n",
      " 4   Sex          891 non-null    object \n",
      " 5   Age          714 non-null    float64\n",
      " 6   SibSp        891 non-null    int64  \n",
      " 7   Parch        891 non-null    int64  \n",
      " 8   Ticket       891 non-null    object \n",
      " 9   Fare         891 non-null    float64\n",
      " 10  Cabin        204 non-null    object \n",
      " 11  Embarked     889 non-null    object \n",
      "dtypes: float64(3), int64(4), object(5)\n",
      "memory usage: 83.7+ KB\n"
     ]
    }
   ],
   "source": [
    "df.info()"
   ]
  },
  {
   "cell_type": "code",
   "execution_count": 11,
   "id": "fe168f3c",
   "metadata": {
    "scrolled": true
   },
   "outputs": [
    {
     "data": {
      "text/html": [
       "<div>\n",
       "<style scoped>\n",
       "    .dataframe tbody tr th:only-of-type {\n",
       "        vertical-align: middle;\n",
       "    }\n",
       "\n",
       "    .dataframe tbody tr th {\n",
       "        vertical-align: top;\n",
       "    }\n",
       "\n",
       "    .dataframe thead th {\n",
       "        text-align: right;\n",
       "    }\n",
       "</style>\n",
       "<table border=\"1\" class=\"dataframe\">\n",
       "  <thead>\n",
       "    <tr style=\"text-align: right;\">\n",
       "      <th></th>\n",
       "      <th>PassengerId</th>\n",
       "      <th>Survived</th>\n",
       "      <th>Pclass</th>\n",
       "      <th>Age</th>\n",
       "      <th>SibSp</th>\n",
       "      <th>Parch</th>\n",
       "      <th>Fare</th>\n",
       "    </tr>\n",
       "  </thead>\n",
       "  <tbody>\n",
       "    <tr>\n",
       "      <th>count</th>\n",
       "      <td>891.000000</td>\n",
       "      <td>891.000000</td>\n",
       "      <td>891.000000</td>\n",
       "      <td>714.000000</td>\n",
       "      <td>891.000000</td>\n",
       "      <td>891.000000</td>\n",
       "      <td>891.000000</td>\n",
       "    </tr>\n",
       "    <tr>\n",
       "      <th>mean</th>\n",
       "      <td>446.000000</td>\n",
       "      <td>0.383838</td>\n",
       "      <td>2.308642</td>\n",
       "      <td>29.699118</td>\n",
       "      <td>0.523008</td>\n",
       "      <td>0.381594</td>\n",
       "      <td>32.204208</td>\n",
       "    </tr>\n",
       "    <tr>\n",
       "      <th>std</th>\n",
       "      <td>257.353842</td>\n",
       "      <td>0.486592</td>\n",
       "      <td>0.836071</td>\n",
       "      <td>14.526497</td>\n",
       "      <td>1.102743</td>\n",
       "      <td>0.806057</td>\n",
       "      <td>49.693429</td>\n",
       "    </tr>\n",
       "    <tr>\n",
       "      <th>min</th>\n",
       "      <td>1.000000</td>\n",
       "      <td>0.000000</td>\n",
       "      <td>1.000000</td>\n",
       "      <td>0.420000</td>\n",
       "      <td>0.000000</td>\n",
       "      <td>0.000000</td>\n",
       "      <td>0.000000</td>\n",
       "    </tr>\n",
       "    <tr>\n",
       "      <th>25%</th>\n",
       "      <td>223.500000</td>\n",
       "      <td>0.000000</td>\n",
       "      <td>2.000000</td>\n",
       "      <td>20.125000</td>\n",
       "      <td>0.000000</td>\n",
       "      <td>0.000000</td>\n",
       "      <td>7.910400</td>\n",
       "    </tr>\n",
       "    <tr>\n",
       "      <th>50%</th>\n",
       "      <td>446.000000</td>\n",
       "      <td>0.000000</td>\n",
       "      <td>3.000000</td>\n",
       "      <td>28.000000</td>\n",
       "      <td>0.000000</td>\n",
       "      <td>0.000000</td>\n",
       "      <td>14.454200</td>\n",
       "    </tr>\n",
       "    <tr>\n",
       "      <th>75%</th>\n",
       "      <td>668.500000</td>\n",
       "      <td>1.000000</td>\n",
       "      <td>3.000000</td>\n",
       "      <td>38.000000</td>\n",
       "      <td>1.000000</td>\n",
       "      <td>0.000000</td>\n",
       "      <td>31.000000</td>\n",
       "    </tr>\n",
       "    <tr>\n",
       "      <th>max</th>\n",
       "      <td>891.000000</td>\n",
       "      <td>1.000000</td>\n",
       "      <td>3.000000</td>\n",
       "      <td>80.000000</td>\n",
       "      <td>8.000000</td>\n",
       "      <td>6.000000</td>\n",
       "      <td>512.329200</td>\n",
       "    </tr>\n",
       "  </tbody>\n",
       "</table>\n",
       "</div>"
      ],
      "text/plain": [
       "       PassengerId    Survived      Pclass         Age       SibSp  \\\n",
       "count   891.000000  891.000000  891.000000  714.000000  891.000000   \n",
       "mean    446.000000    0.383838    2.308642   29.699118    0.523008   \n",
       "std     257.353842    0.486592    0.836071   14.526497    1.102743   \n",
       "min       1.000000    0.000000    1.000000    0.420000    0.000000   \n",
       "25%     223.500000    0.000000    2.000000   20.125000    0.000000   \n",
       "50%     446.000000    0.000000    3.000000   28.000000    0.000000   \n",
       "75%     668.500000    1.000000    3.000000   38.000000    1.000000   \n",
       "max     891.000000    1.000000    3.000000   80.000000    8.000000   \n",
       "\n",
       "            Parch        Fare  \n",
       "count  891.000000  891.000000  \n",
       "mean     0.381594   32.204208  \n",
       "std      0.806057   49.693429  \n",
       "min      0.000000    0.000000  \n",
       "25%      0.000000    7.910400  \n",
       "50%      0.000000   14.454200  \n",
       "75%      0.000000   31.000000  \n",
       "max      6.000000  512.329200  "
      ]
     },
     "execution_count": 11,
     "metadata": {},
     "output_type": "execute_result"
    }
   ],
   "source": [
    "df.describe()"
   ]
  },
  {
   "cell_type": "code",
   "execution_count": 12,
   "id": "5856dc5d",
   "metadata": {
    "scrolled": true
   },
   "outputs": [
    {
     "data": {
      "text/html": [
       "<div>\n",
       "<style scoped>\n",
       "    .dataframe tbody tr th:only-of-type {\n",
       "        vertical-align: middle;\n",
       "    }\n",
       "\n",
       "    .dataframe tbody tr th {\n",
       "        vertical-align: top;\n",
       "    }\n",
       "\n",
       "    .dataframe thead th {\n",
       "        text-align: right;\n",
       "    }\n",
       "</style>\n",
       "<table border=\"1\" class=\"dataframe\">\n",
       "  <thead>\n",
       "    <tr style=\"text-align: right;\">\n",
       "      <th></th>\n",
       "      <th>PassengerId</th>\n",
       "      <th>Survived</th>\n",
       "      <th>Pclass</th>\n",
       "      <th>Name</th>\n",
       "      <th>Sex</th>\n",
       "      <th>Age</th>\n",
       "      <th>SibSp</th>\n",
       "      <th>Parch</th>\n",
       "      <th>Ticket</th>\n",
       "      <th>Fare</th>\n",
       "      <th>Cabin</th>\n",
       "      <th>Embarked</th>\n",
       "    </tr>\n",
       "  </thead>\n",
       "  <tbody>\n",
       "    <tr>\n",
       "      <th>0</th>\n",
       "      <td>1</td>\n",
       "      <td>0.0</td>\n",
       "      <td>3</td>\n",
       "      <td>Braund, Mr. Owen Harris</td>\n",
       "      <td>male</td>\n",
       "      <td>22.0</td>\n",
       "      <td>1</td>\n",
       "      <td>0</td>\n",
       "      <td>A/5 21171</td>\n",
       "      <td>7.2500</td>\n",
       "      <td>NaN</td>\n",
       "      <td>S</td>\n",
       "    </tr>\n",
       "    <tr>\n",
       "      <th>1</th>\n",
       "      <td>2</td>\n",
       "      <td>1.0</td>\n",
       "      <td>1</td>\n",
       "      <td>Cumings, Mrs. John Bradley (Florence Briggs Th...</td>\n",
       "      <td>female</td>\n",
       "      <td>38.0</td>\n",
       "      <td>1</td>\n",
       "      <td>0</td>\n",
       "      <td>PC 17599</td>\n",
       "      <td>71.2833</td>\n",
       "      <td>C85</td>\n",
       "      <td>C</td>\n",
       "    </tr>\n",
       "    <tr>\n",
       "      <th>2</th>\n",
       "      <td>3</td>\n",
       "      <td>1.0</td>\n",
       "      <td>3</td>\n",
       "      <td>Heikkinen, Miss. Laina</td>\n",
       "      <td>female</td>\n",
       "      <td>26.0</td>\n",
       "      <td>0</td>\n",
       "      <td>0</td>\n",
       "      <td>STON/O2. 3101282</td>\n",
       "      <td>7.9250</td>\n",
       "      <td>NaN</td>\n",
       "      <td>S</td>\n",
       "    </tr>\n",
       "    <tr>\n",
       "      <th>3</th>\n",
       "      <td>4</td>\n",
       "      <td>1.0</td>\n",
       "      <td>1</td>\n",
       "      <td>Futrelle, Mrs. Jacques Heath (Lily May Peel)</td>\n",
       "      <td>female</td>\n",
       "      <td>35.0</td>\n",
       "      <td>1</td>\n",
       "      <td>0</td>\n",
       "      <td>113803</td>\n",
       "      <td>53.1000</td>\n",
       "      <td>C123</td>\n",
       "      <td>S</td>\n",
       "    </tr>\n",
       "    <tr>\n",
       "      <th>4</th>\n",
       "      <td>5</td>\n",
       "      <td>0.0</td>\n",
       "      <td>3</td>\n",
       "      <td>Allen, Mr. William Henry</td>\n",
       "      <td>male</td>\n",
       "      <td>35.0</td>\n",
       "      <td>0</td>\n",
       "      <td>0</td>\n",
       "      <td>373450</td>\n",
       "      <td>8.0500</td>\n",
       "      <td>NaN</td>\n",
       "      <td>S</td>\n",
       "    </tr>\n",
       "  </tbody>\n",
       "</table>\n",
       "</div>"
      ],
      "text/plain": [
       "   PassengerId  Survived  Pclass  \\\n",
       "0            1       0.0       3   \n",
       "1            2       1.0       1   \n",
       "2            3       1.0       3   \n",
       "3            4       1.0       1   \n",
       "4            5       0.0       3   \n",
       "\n",
       "                                                Name     Sex   Age  SibSp  \\\n",
       "0                            Braund, Mr. Owen Harris    male  22.0      1   \n",
       "1  Cumings, Mrs. John Bradley (Florence Briggs Th...  female  38.0      1   \n",
       "2                             Heikkinen, Miss. Laina  female  26.0      0   \n",
       "3       Futrelle, Mrs. Jacques Heath (Lily May Peel)  female  35.0      1   \n",
       "4                           Allen, Mr. William Henry    male  35.0      0   \n",
       "\n",
       "   Parch            Ticket     Fare Cabin Embarked  \n",
       "0      0         A/5 21171   7.2500   NaN        S  \n",
       "1      0          PC 17599  71.2833   C85        C  \n",
       "2      0  STON/O2. 3101282   7.9250   NaN        S  \n",
       "3      0            113803  53.1000  C123        S  \n",
       "4      0            373450   8.0500   NaN        S  "
      ]
     },
     "execution_count": 12,
     "metadata": {},
     "output_type": "execute_result"
    }
   ],
   "source": [
    "df.head(5)"
   ]
  },
  {
   "cell_type": "code",
   "execution_count": 13,
   "id": "10955542",
   "metadata": {},
   "outputs": [
    {
     "data": {
      "image/png": "[encoded data removed]",
      "text/plain": [
       "<Figure size 1152x432 with 2 Axes>"
      ]
     },
     "metadata": {
      "needs_background": "light"
     },
     "output_type": "display_data"
    }
   ],
   "source": [
    "plt.figure(figsize=(16, 6))\n",
    "heatmap = sns.heatmap(df.corr(), vmin=-1, vmax=1, annot=True)\n",
    "heatmap.set_title('Correlation Heatmap', fontdict={'fontsize':18}, pad=12);"
   ]
  },
  {
   "cell_type": "markdown",
   "id": "ce054ec0",
   "metadata": {},
   "source": [
    "Um die erstellten Modelle zu überprüfen und zu überprüfen, ob es keine Modellüberanpassung gibt, weisen wir 20 % des Zugsets dem Validierungsset zu, was ungefähr 10 % aller Passagiere der Titanic entspricht. Wir verwenden einen stratifizierten Shuffle-Split, der ähnliche Proportionen in beiden Sets ermöglicht. Die Proportionen basieren auf dem Geschlecht, nach dem Prinzip „Frauen und Kinder zuerst“. Auf diese Weise wird beispielsweise vermieden, dass in einem der Datensätze die überwiegende Mehrheit aus Männern besteht, die sicherlich weniger Überlebenschancen hatten (die Aufteilung nach Alter wäre aufgrund der Vielzahl von Werten zu kompliziert und die Notwendigkeit, das Kindheitsalter zu definieren)."
   ]
  },
  {
   "cell_type": "code",
   "execution_count": 14,
   "id": "04b6d3b6",
   "metadata": {},
   "outputs": [],
   "source": [
    "from sklearn.model_selection import StratifiedShuffleSplit\n",
    "split = StratifiedShuffleSplit(n_splits=1, test_size=0.2, random_state=42)\n",
    "for train_index, valid_index in split.split(df, df['Sex']):\n",
    "    df_train = df.loc[train_index]\n",
    "    df_valid = df.loc[valid_index]\n",
    "\n",
    "df_train = df_train.reset_index(drop=True)"
   ]
  },
  {
   "cell_type": "markdown",
   "id": "d1f3ad5b",
   "metadata": {},
   "source": [
    "# Explorative Datenanalyse und Feature-Engineering"
   ]
  },
  {
   "cell_type": "code",
   "execution_count": 15,
   "id": "6b36c9ff",
   "metadata": {},
   "outputs": [
    {
     "name": "stdout",
     "output_type": "stream",
     "text": [
      "<class 'pandas.core.frame.DataFrame'>\n",
      "RangeIndex: 712 entries, 0 to 711\n",
      "Data columns (total 12 columns):\n",
      " #   Column       Non-Null Count  Dtype  \n",
      "---  ------       --------------  -----  \n",
      " 0   PassengerId  712 non-null    int64  \n",
      " 1   Survived     712 non-null    float64\n",
      " 2   Pclass       712 non-null    int64  \n",
      " 3   Name         712 non-null    object \n",
      " 4   Sex          712 non-null    object \n",
      " 5   Age          578 non-null    float64\n",
      " 6   SibSp        712 non-null    int64  \n",
      " 7   Parch        712 non-null    int64  \n",
      " 8   Ticket       712 non-null    object \n",
      " 9   Fare         712 non-null    float64\n",
      " 10  Cabin        164 non-null    object \n",
      " 11  Embarked     710 non-null    object \n",
      "dtypes: float64(3), int64(4), object(5)\n",
      "memory usage: 66.9+ KB\n"
     ]
    }
   ],
   "source": [
    "df_train.info()"
   ]
  },
  {
   "cell_type": "markdown",
   "id": "dd01e43d",
   "metadata": {},
   "source": [
    "## PassengerId"
   ]
  },
  {
   "cell_type": "markdown",
   "id": "1c93d6a4",
   "metadata": {},
   "source": [
    "In diesem Fall gibt es nicht viel zu analysieren. PassengerId ist einfach die Position des Passagiers im Datensatz und, wie wir annehmen, zufällig. Diese Variable muss einfach verworfen und beim Erstellen von Modellen nicht berücksichtigt werden."
   ]
  },
  {
   "cell_type": "markdown",
   "id": "32c25bfc",
   "metadata": {},
   "source": [
    "## Survived"
   ]
  },
  {
   "cell_type": "markdown",
   "id": "9521d8eb",
   "metadata": {},
   "source": [
    "Response variable in unserem Datensatz. Ihre Beziehung zu den anderen Variablen wird bei der Untersuchung der anderen Variablen überprüft, aber an dieser Stelle wird es interessant sein, die Überlebensrate der gesamten Passagiere zu zeigen."
   ]
  },
  {
   "cell_type": "code",
   "execution_count": 16,
   "id": "539bb61a",
   "metadata": {
    "scrolled": true
   },
   "outputs": [
    {
     "data": {
      "text/plain": [
       "Text(0.5, 1.0, 'Titanic survivors')"
      ]
     },
     "execution_count": 16,
     "metadata": {},
     "output_type": "execute_result"
    },
    {
     "data": {
      "image/png": "[encoded data removed]",
      "text/plain": [
       "<Figure size 432x288 with 1 Axes>"
      ]
     },
     "metadata": {},
     "output_type": "display_data"
    }
   ],
   "source": [
    "df_train['Survived'].value_counts().plot(kind='pie', labels=None, explode=[0,0.1],autopct='%1.1f%%')\n",
    "plt.legend(['No','Yes'], title=\"Survived\", loc='upper right', bbox_to_anchor=(1.1,1))\n",
    "plt.title(\"Titanic survivors\")"
   ]
  },
  {
   "cell_type": "markdown",
   "id": "bbc26f3b",
   "metadata": {},
   "source": [
    "Wie wir aus der Grafik ersehen können, überlebten die meisten Passagiere aus der Trainingskollektion die Katastrophe nicht (fast zwei Drittel von ihnen). Die Frage ist, welchen Einfluss die Variablen im Modell auf die Überlebensrate haben."
   ]
  },
  {
   "cell_type": "markdown",
   "id": "19b25d51",
   "metadata": {},
   "source": [
    "## Pclass"
   ]
  },
  {
   "cell_type": "markdown",
   "id": "778f819b",
   "metadata": {},
   "source": [
    "Auf der Titanic gab es 3 Reiseklassen: dritte (niedrigster Standard), zweite und erste (höchster Standard). Das folgende Diagramm zeigt ihre Beziehung zur Survived-Variablen."
   ]
  },
  {
   "cell_type": "code",
   "execution_count": 17,
   "id": "179a5802",
   "metadata": {
    "scrolled": true
   },
   "outputs": [
    {
     "data": {
      "image/png": "[encoded data removed]",
      "text/plain": [
       "<Figure size 432x288 with 1 Axes>"
      ]
     },
     "metadata": {
      "needs_background": "light"
     },
     "output_type": "display_data"
    }
   ],
   "source": [
    "sns.countplot('Pclass',hue='Survived',data=df_train)\n",
    "plt.legend(['No','Yes'], title=\"Survived\")\n",
    "plt.title(\"Pclass: Survived vs Dead\")\n",
    "plt.show()"
   ]
  },
  {
   "cell_type": "markdown",
   "id": "53cbc630",
   "metadata": {},
   "source": [
    "Aus der obigen Grafik lassen sich zwei wichtige Botschaften ablesen:\n",
    "\n",
    "- Die am häufigsten gewählte Klasse war die niedrigste Klasse, während in der zweiten und dritten Klasse die Anzahl der Passagiere ähnlich war.\n",
    "- Die dritte Klasse hat die niedrigste Überlebensfähigkeit, während die erste Klasse die höchste Überlebensfähigkeit hat (die zweite Klasse ist ungefähr zur Hälfte geteilt).\n",
    "Fragen wir nun unsere Passagiere, wie sie heißen."
   ]
  },
  {
   "cell_type": "markdown",
   "id": "a6c41f34",
   "metadata": {},
   "source": [
    "## Name"
   ]
  },
  {
   "cell_type": "markdown",
   "id": "cfe58024",
   "metadata": {},
   "source": [
    "Es scheint, dass in diesem Fall die Dinge denen von PassengerId ähnlich sind. Die Verwendung von Namen macht wenig Sinn, bei null Interpretierbarkeit. Für jeden Passagier haben wir aber neben dem Vor- und Nachnamen auch einen Titel. Es wäre interessant, es zu extrahieren und zu untersuchen, wie es mit dem Überleben zusammenhängt."
   ]
  },
  {
   "cell_type": "code",
   "execution_count": 18,
   "id": "cb653e90",
   "metadata": {
    "scrolled": true
   },
   "outputs": [
    {
     "data": {
      "text/html": [
       "<div>\n",
       "<style scoped>\n",
       "    .dataframe tbody tr th:only-of-type {\n",
       "        vertical-align: middle;\n",
       "    }\n",
       "\n",
       "    .dataframe tbody tr th {\n",
       "        vertical-align: top;\n",
       "    }\n",
       "\n",
       "    .dataframe thead th {\n",
       "        text-align: right;\n",
       "    }\n",
       "</style>\n",
       "<table border=\"1\" class=\"dataframe\">\n",
       "  <thead>\n",
       "    <tr style=\"text-align: right;\">\n",
       "      <th>Survived</th>\n",
       "      <th>0.0</th>\n",
       "      <th>1.0</th>\n",
       "    </tr>\n",
       "    <tr>\n",
       "      <th>Title</th>\n",
       "      <th></th>\n",
       "      <th></th>\n",
       "    </tr>\n",
       "  </thead>\n",
       "  <tbody>\n",
       "    <tr>\n",
       "      <th>Capt</th>\n",
       "      <td>1</td>\n",
       "      <td>0</td>\n",
       "    </tr>\n",
       "    <tr>\n",
       "      <th>Col</th>\n",
       "      <td>1</td>\n",
       "      <td>1</td>\n",
       "    </tr>\n",
       "    <tr>\n",
       "      <th>Don</th>\n",
       "      <td>1</td>\n",
       "      <td>0</td>\n",
       "    </tr>\n",
       "    <tr>\n",
       "      <th>Dr</th>\n",
       "      <td>3</td>\n",
       "      <td>3</td>\n",
       "    </tr>\n",
       "    <tr>\n",
       "      <th>Jonkheer</th>\n",
       "      <td>1</td>\n",
       "      <td>0</td>\n",
       "    </tr>\n",
       "    <tr>\n",
       "      <th>Lady</th>\n",
       "      <td>0</td>\n",
       "      <td>1</td>\n",
       "    </tr>\n",
       "    <tr>\n",
       "      <th>Major</th>\n",
       "      <td>1</td>\n",
       "      <td>1</td>\n",
       "    </tr>\n",
       "    <tr>\n",
       "      <th>Master</th>\n",
       "      <td>13</td>\n",
       "      <td>16</td>\n",
       "    </tr>\n",
       "    <tr>\n",
       "      <th>Miss</th>\n",
       "      <td>41</td>\n",
       "      <td>104</td>\n",
       "    </tr>\n",
       "    <tr>\n",
       "      <th>Mlle</th>\n",
       "      <td>0</td>\n",
       "      <td>1</td>\n",
       "    </tr>\n",
       "    <tr>\n",
       "      <th>Mme</th>\n",
       "      <td>0</td>\n",
       "      <td>1</td>\n",
       "    </tr>\n",
       "    <tr>\n",
       "      <th>Mr</th>\n",
       "      <td>348</td>\n",
       "      <td>67</td>\n",
       "    </tr>\n",
       "    <tr>\n",
       "      <th>Mrs</th>\n",
       "      <td>21</td>\n",
       "      <td>79</td>\n",
       "    </tr>\n",
       "    <tr>\n",
       "      <th>Ms</th>\n",
       "      <td>0</td>\n",
       "      <td>1</td>\n",
       "    </tr>\n",
       "    <tr>\n",
       "      <th>Rev</th>\n",
       "      <td>4</td>\n",
       "      <td>0</td>\n",
       "    </tr>\n",
       "    <tr>\n",
       "      <th>Sir</th>\n",
       "      <td>0</td>\n",
       "      <td>1</td>\n",
       "    </tr>\n",
       "    <tr>\n",
       "      <th>the Countess</th>\n",
       "      <td>0</td>\n",
       "      <td>1</td>\n",
       "    </tr>\n",
       "  </tbody>\n",
       "</table>\n",
       "</div>"
      ],
      "text/plain": [
       "Survived      0.0  1.0\n",
       "Title                 \n",
       "Capt            1    0\n",
       "Col             1    1\n",
       "Don             1    0\n",
       "Dr              3    3\n",
       "Jonkheer        1    0\n",
       "Lady            0    1\n",
       "Major           1    1\n",
       "Master         13   16\n",
       "Miss           41  104\n",
       "Mlle            0    1\n",
       "Mme             0    1\n",
       "Mr            348   67\n",
       "Mrs            21   79\n",
       "Ms              0    1\n",
       "Rev             4    0\n",
       "Sir             0    1\n",
       "the Countess    0    1"
      ]
     },
     "execution_count": 18,
     "metadata": {},
     "output_type": "execute_result"
    }
   ],
   "source": [
    "Title = list()\n",
    "for i in range(0, len(df_train['Name'])):\n",
    "    Title.append(((df_train['Name'][i].rsplit(',', 1)[1]).rsplit('.', 1)[0]).strip())\n",
    "\n",
    "pd.crosstab([Title], df_train['Survived'], rownames=['Title'])"
   ]
  },
  {
   "cell_type": "markdown",
   "id": "9ccb5f8f",
   "metadata": {},
   "source": [
    "Es erscheint vernünftig, die beliebtesten Titel (Master, Miss, Mr, Mrs) zu belassen und den Rest zu einem zu kombinieren. Es kann durchaus zu Datenfehlern kommen (z. B. alle Personen mit Rev-Titeln haben überlebt, und Personen mit Dr-Titeln halbiert), aber Einzelwerte werden beim späteren One-Hot Encoding problematisch (die Variablen werden zu monoton und damit ungeeignet für das Model)."
   ]
  },
  {
   "cell_type": "code",
   "execution_count": 19,
   "id": "c5fa0f31",
   "metadata": {
    "scrolled": true
   },
   "outputs": [
    {
     "data": {
      "text/html": [
       "<div>\n",
       "<style scoped>\n",
       "    .dataframe tbody tr th:only-of-type {\n",
       "        vertical-align: middle;\n",
       "    }\n",
       "\n",
       "    .dataframe tbody tr th {\n",
       "        vertical-align: top;\n",
       "    }\n",
       "\n",
       "    .dataframe thead th {\n",
       "        text-align: right;\n",
       "    }\n",
       "</style>\n",
       "<table border=\"1\" class=\"dataframe\">\n",
       "  <thead>\n",
       "    <tr style=\"text-align: right;\">\n",
       "      <th>Survived</th>\n",
       "      <th>0.0</th>\n",
       "      <th>1.0</th>\n",
       "    </tr>\n",
       "    <tr>\n",
       "      <th>Title</th>\n",
       "      <th></th>\n",
       "      <th></th>\n",
       "    </tr>\n",
       "  </thead>\n",
       "  <tbody>\n",
       "    <tr>\n",
       "      <th>Master</th>\n",
       "      <td>13</td>\n",
       "      <td>16</td>\n",
       "    </tr>\n",
       "    <tr>\n",
       "      <th>Miss</th>\n",
       "      <td>41</td>\n",
       "      <td>104</td>\n",
       "    </tr>\n",
       "    <tr>\n",
       "      <th>Mr</th>\n",
       "      <td>348</td>\n",
       "      <td>67</td>\n",
       "    </tr>\n",
       "    <tr>\n",
       "      <th>Mrs</th>\n",
       "      <td>21</td>\n",
       "      <td>79</td>\n",
       "    </tr>\n",
       "    <tr>\n",
       "      <th>Other</th>\n",
       "      <td>12</td>\n",
       "      <td>11</td>\n",
       "    </tr>\n",
       "  </tbody>\n",
       "</table>\n",
       "</div>"
      ],
      "text/plain": [
       "Survived  0.0  1.0\n",
       "Title             \n",
       "Master     13   16\n",
       "Miss       41  104\n",
       "Mr        348   67\n",
       "Mrs        21   79\n",
       "Other      12   11"
      ]
     },
     "execution_count": 19,
     "metadata": {},
     "output_type": "execute_result"
    }
   ],
   "source": [
    "Title = ['Other' if x!='Mr' and x!='Mrs' and x!='Master' and x!='Miss' else x for x in Title]\n",
    "pd.crosstab([Title], df_train['Survived'], rownames=['Title'])"
   ]
  },
  {
   "cell_type": "markdown",
   "id": "b490e87b",
   "metadata": {},
   "source": [
    "Es scheint viel klarer zu sein, eine Kreuztabelle anstelle eines Diagramms zu verwenden. Einige wenige Werte enthalten fast alle Titel, sodass das Diagramm zu unleserlich wäre."
   ]
  },
  {
   "cell_type": "code",
   "execution_count": 20,
   "id": "e0034087",
   "metadata": {
    "scrolled": false
   },
   "outputs": [
    {
     "data": {
      "image/png": "[encoded data removed]",
      "text/plain": [
       "<Figure size 432x288 with 1 Axes>"
      ]
     },
     "metadata": {
      "needs_background": "light"
     },
     "output_type": "display_data"
    }
   ],
   "source": [
    "Title = pd.Series(Title)\n",
    "sns.countplot(Title,hue='Survived',data=df_train)\n",
    "plt.legend(['No','Yes'], title=\"Survived\")\n",
    "plt.title(\"Title: Survived vs Dead\")\n",
    "plt.show()"
   ]
  },
  {
   "cell_type": "markdown",
   "id": "9c263f7c",
   "metadata": {},
   "source": [
    "- Mrs:  eine geheiratete Frau\n",
    "- Mr:  ein Mann\n",
    "- Miss: eine ledige Frau\n",
    "- Master: ein Jung"
   ]
  },
  {
   "cell_type": "markdown",
   "id": "62363977",
   "metadata": {},
   "source": [
    "Aus Grafik und Tabelle lassen sich folgende Schlüsse ziehen:\n",
    "\n",
    "- überwiegende Mehrheit der Passagiere sind reife Männer.\n",
    "\n",
    "- Es waren mehr unverheiratete Frauen an Bord als verheiratete Frauen.\n",
    "\n",
    "- Es gab relativ wenige junge Männer und Personen mit ungewöhnlichen Titeln (einschließlich Besatzungsmitglieder).\n",
    "\n",
    "- Reife Männer haben die niedrigste Überlebensfähigkeit (16,1 %)\n",
    "\n",
    "- Unverheiratete Frauen haben eine etwas höhere Überlebensrate (Fräulein: 28,3 %, Frau: 21 %).\n",
    "\n",
    "- Das Überleben junger Männer und solcher mit seltenen Titeln liegt bei etwa 50 % (Meister: 55,2 %, Andere: 47,8 %).\n",
    "\n",
    "Aus Punkt 5 scheint eine interessante Schlussfolgerung gezogen zu werden: Hat ein Ehemann wirklich die Überlebenschancen verringert?"
   ]
  },
  {
   "cell_type": "markdown",
   "id": "6d035471",
   "metadata": {},
   "source": [
    "Miss:"
   ]
  },
  {
   "cell_type": "code",
   "execution_count": 21,
   "id": "4d81a144",
   "metadata": {},
   "outputs": [
    {
     "data": {
      "text/plain": [
       "21.56637168141593"
      ]
     },
     "execution_count": 21,
     "metadata": {},
     "output_type": "execute_result"
    }
   ],
   "source": [
    "np.nanmean(df_train['Age'].loc[Title[Title == 'Miss'].index])"
   ]
  },
  {
   "cell_type": "markdown",
   "id": "2f2e911e",
   "metadata": {},
   "source": [
    "Mrs:"
   ]
  },
  {
   "cell_type": "code",
   "execution_count": 22,
   "id": "879f3556",
   "metadata": {
    "scrolled": true
   },
   "outputs": [
    {
     "data": {
      "text/plain": [
       "34.98823529411764"
      ]
     },
     "execution_count": 22,
     "metadata": {},
     "output_type": "execute_result"
    }
   ],
   "source": [
    "np.nanmean(df_train['Age'].loc[Title[Title == 'Mrs'].index])"
   ]
  },
  {
   "cell_type": "markdown",
   "id": "c739d710",
   "metadata": {},
   "source": [
    "Das Durchschnittsalter für Frauen mit dem Titel „Miss“ ist viel niedriger als für Frauen mit dem Titel „Mrs“. Dies könnte ein Grund dafür sein, dass die erstgenannte Gruppe nach dem „Women and children first“-Prinzip eine etwas bessere Überlebensrate aufweist und junge Frauen bevorzugt."
   ]
  },
  {
   "cell_type": "markdown",
   "id": "c2d1b24e",
   "metadata": {},
   "source": [
    "## Sex"
   ]
  },
  {
   "cell_type": "markdown",
   "id": "d57ff052",
   "metadata": {},
   "source": [
    "Die Schlussfolgerungen dieser Variablen überschneiden sich wahrscheinlich mit denen der Titel. Es kann jedoch hilfreich sein, beide Variablen (Titel und Geschlecht) beizubehalten, da die Titelvariable nicht so tief in seltene Titel eindringt und die Geschlechtsvariable einen allgemeineren Überblick über Titanic-Passagiere gibt, was in einigen Fällen nützlicher sein kann .\n",
    "\n",
    "Das folgende Diagramm zeigt die Verteilung der Passagiere nach Geschlecht und Überleben."
   ]
  },
  {
   "cell_type": "code",
   "execution_count": 23,
   "id": "beb5def5",
   "metadata": {
    "scrolled": true
   },
   "outputs": [
    {
     "data": {
      "image/png": "[encoded data removed]",
      "text/plain": [
       "<Figure size 432x288 with 1 Axes>"
      ]
     },
     "metadata": {
      "needs_background": "light"
     },
     "output_type": "display_data"
    }
   ],
   "source": [
    "sns.countplot('Sex',hue='Survived',data=df_train)\n",
    "plt.legend(['No','Yes'], title=\"Survived\")\n",
    "plt.title(\"Sex: Survived vs Dead\")\n",
    "plt.show()"
   ]
  },
  {
   "cell_type": "markdown",
   "id": "b811ad60",
   "metadata": {},
   "source": [
    "Tatsächlich zieht die Geschlechtsvariable ähnliche Schlussfolgerungen wie der Titel, jedoch in einem allgemeineren Sinne:\n",
    "\n",
    "- Es waren mehr Männer an Bord als alle Frauen insgesamt\n",
    "- Die Gesamtüberlebensrate der Männer (19,1 %) ist viel niedriger als die Gesamtüberlebensrate der Frauen (75,3 %).\n",
    "\n",
    "Es ist auch eine gute Idee, den Zusammenhang zwischen Geschlecht und Klassenzugehörigkeit zu überprüfen. Es ist möglich, dass die höhere Überlebensrate von Frauen nur auf eine oder zwei Klassen zurückzuführen ist, obwohl dies angesichts eines so großen Vorteils in der Gesamtüberlebensrate zweifelhaft ist."
   ]
  },
  {
   "cell_type": "code",
   "execution_count": 24,
   "id": "5ddea875",
   "metadata": {
    "scrolled": true
   },
   "outputs": [
    {
     "data": {
      "text/plain": [
       "<seaborn.axisgrid.FacetGrid at 0x7ff54a6caac0>"
      ]
     },
     "execution_count": 24,
     "metadata": {},
     "output_type": "execute_result"
    },
    {
     "data": {
      "image/png": "[encoded data removed]",
      "text/plain": [
       "<Figure size 648x360 with 3 Axes>"
      ]
     },
     "metadata": {
      "needs_background": "light"
     },
     "output_type": "display_data"
    }
   ],
   "source": [
    "plot = sns.catplot(x=\"Sex\", y=\"Survived\", col=\"Pclass\", data=df_train, kind=\"bar\", ci=None, aspect=.6)\n",
    "plot.set_axis_labels(\"\", \"Survival Rate\")"
   ]
  },
  {
   "cell_type": "markdown",
   "id": "f05bd22b",
   "metadata": {},
   "source": [
    "\"Frauen und Kinder zuerst. Die reichsten Männer an zweiter Stelle\"\n",
    "\n",
    "Es gibt keine Klasse, in der das Überleben der Männer dem der Frauen ein wenig näher gekommen ist. Der kleinste Unterschied liegt in der ersten Klasse, die recht intuitiv ist. Die folgenden Dinge sind auch interessant und nicht so offensichtlich:\n",
    "\n",
    "Bei Frauen liegt der größte Sprung in der Überlebensrate bereits zwischen der dritten und zweiten Klasse\n",
    "Bei Männern tritt der größte Sprung in der Überlebensrate zwischen der zweiten und der ersten Klasse auf, zwischen der dritten und der zweiten Klasse ist sogar ein leichter Rückgang zu verzeichnen\n",
    "Lassen Sie uns weitermachen und nach interessanteren Beziehungen suchen, diesmal in das Privatleben der Titanic-Passagiere eintreten."
   ]
  },
  {
   "cell_type": "markdown",
   "id": "9224108f",
   "metadata": {},
   "source": [
    "## SibSp"
   ]
  },
  {
   "cell_type": "markdown",
   "id": "712d045d",
   "metadata": {},
   "source": [
    "Die Variable SibSp bedeutet die Anzahl der Geschwister/Ehepartner an Bord der Titanic. Einerseits kann eine größere Anzahl an Geschwistern oder die Anwesenheit eines Ehepartners (oder beides gleichzeitig) an Bord dazu beitragen, die Überlebenschancen zu verbessern, da wir mit einer größeren Unterstützung durch die Angehörigen rechnen können. Andererseits könnte die große Anzahl dieser Familienmitglieder eine effektive Evakuierung aufgrund der Streuung von Familienmitgliedern über das Deck behindert und Einwände erhoben haben, wenn das Rettungsboot fast ausschließlich von einer Familie besetzt war.\n",
    "\n",
    "Die daraus resultierenden Zweifel können sicherlich durch ein altes, zuverlässiges Zähldiagramm ausgeräumt werden."
   ]
  },
  {
   "cell_type": "code",
   "execution_count": 25,
   "id": "157aef41",
   "metadata": {
    "scrolled": true
   },
   "outputs": [
    {
     "data": {
      "image/png": "[encoded data removed]",
      "text/plain": [
       "<Figure size 432x288 with 1 Axes>"
      ]
     },
     "metadata": {
      "needs_background": "light"
     },
     "output_type": "display_data"
    }
   ],
   "source": [
    "sns.countplot('SibSp',hue='Survived',data=df_train)\n",
    "plt.legend(['No','Yes'], title=\"Survived\", loc=\"upper right\")\n",
    "plt.title(\"SibSp: Survived vs Dead\")\n",
    "plt.show()"
   ]
  },
  {
   "cell_type": "markdown",
   "id": "535412ba",
   "metadata": {},
   "source": [
    "Tatsächlich ist es aufgrund des großen Vorteils der Werte 0 und 1 besser, sich für eine bessere Lesbarkeit auf die Tabelle zu konzentrieren."
   ]
  },
  {
   "cell_type": "code",
   "execution_count": 26,
   "id": "2267c0c5",
   "metadata": {
    "scrolled": true
   },
   "outputs": [
    {
     "data": {
      "text/html": [
       "<div>\n",
       "<style scoped>\n",
       "    .dataframe tbody tr th:only-of-type {\n",
       "        vertical-align: middle;\n",
       "    }\n",
       "\n",
       "    .dataframe tbody tr th {\n",
       "        vertical-align: top;\n",
       "    }\n",
       "\n",
       "    .dataframe thead th {\n",
       "        text-align: right;\n",
       "    }\n",
       "</style>\n",
       "<table border=\"1\" class=\"dataframe\">\n",
       "  <thead>\n",
       "    <tr style=\"text-align: right;\">\n",
       "      <th>SibSp</th>\n",
       "      <th>0</th>\n",
       "      <th>1</th>\n",
       "      <th>2</th>\n",
       "      <th>3</th>\n",
       "      <th>4</th>\n",
       "      <th>5</th>\n",
       "      <th>8</th>\n",
       "    </tr>\n",
       "    <tr>\n",
       "      <th>Survived</th>\n",
       "      <th></th>\n",
       "      <th></th>\n",
       "      <th></th>\n",
       "      <th></th>\n",
       "      <th></th>\n",
       "      <th></th>\n",
       "      <th></th>\n",
       "    </tr>\n",
       "  </thead>\n",
       "  <tbody>\n",
       "    <tr>\n",
       "      <th>0.0</th>\n",
       "      <td>308</td>\n",
       "      <td>80</td>\n",
       "      <td>14</td>\n",
       "      <td>10</td>\n",
       "      <td>13</td>\n",
       "      <td>5</td>\n",
       "      <td>5</td>\n",
       "    </tr>\n",
       "    <tr>\n",
       "      <th>1.0</th>\n",
       "      <td>169</td>\n",
       "      <td>91</td>\n",
       "      <td>11</td>\n",
       "      <td>3</td>\n",
       "      <td>3</td>\n",
       "      <td>0</td>\n",
       "      <td>0</td>\n",
       "    </tr>\n",
       "  </tbody>\n",
       "</table>\n",
       "</div>"
      ],
      "text/plain": [
       "SibSp       0   1   2   3   4  5  8\n",
       "Survived                           \n",
       "0.0       308  80  14  10  13  5  5\n",
       "1.0       169  91  11   3   3  0  0"
      ]
     },
     "execution_count": 26,
     "metadata": {},
     "output_type": "execute_result"
    }
   ],
   "source": [
    "pd.crosstab(df_train['Survived'], df_train['SibSp'])"
   ]
  },
  {
   "cell_type": "markdown",
   "id": "2f606f22",
   "metadata": {},
   "source": [
    "Es ist festzustellen, dass anhand der SibSp-Variablen drei charakteristische Klassen unterschieden werden können:\n",
    "\n",
    "- Personen ohne Geschwister und Ehepartner an Bord (Überlebensrate: 35,4 %).\n",
    "\n",
    "- Personen mit Ehepartner oder Geschwister an Bord (Überlebensrate: 53,2 %).\n",
    "\n",
    "- Menschen mit einer höheren Gesamtzahl dieser Verwandten (Überlebensrate: 26,6 %).\n",
    "\n",
    "Aufgrund der höheren Überlebensrate als bei den Gruppen mit den Werten 3, 4, 5 und 8 mag es fragwürdig erscheinen, der dritten Gruppe einen Wert von 2 hinzuzufügen. Das Ergebnis für diesen Wert (44 %) überzeichnet das Ergebnis für die gesamte Gruppe deutlich (15,4 % ohne Wert 2). Allerdings sollte man auf die Anzahl der Beobachtungen achten, die deutlich näher an den Werten 3, 4, 5 und 8 liegt als an den Werten 0 oder 1. Gruppe mit Wert 2 hat auch mehr Todesfälle als Überlebende, was bei a nicht der Fall ist Gruppe mit dem Wert 1. Aus diesem Grund ist es meines Erachtens sicherer, die Zahl 2 der letzten Gruppe zuzuordnen und keine eigene Gruppe für die Zahl 2 selbst zu erstellen, die die Variable in zu viele Gruppen aufteilen könnte.\n",
    "\n",
    "Im obigen Absatz habe wir uns ausführlich mit der Unterteilung bezüglich der SibSp-Variablen befasst, da es sich als gute Idee herausstellen kann, die Variable von numerisch auf kategorisch umzuwandeln, mit den oben angegebenen Kategorien. Wie das Diagramm und die Tabelle zeigten, ist die Beziehung zwischen der Überlebens- und der SibSp-Variable ziemlich kompliziert. Die beste Situation schien zu sein, nur einen Ehepartner oder ein Geschwister zu haben. Andererseits war es besser, ohne die genannten Angehörigen zu reisen, als zu viele von ihnen dabei zu haben."
   ]
  },
  {
   "cell_type": "markdown",
   "id": "8b56937a",
   "metadata": {},
   "source": [
    "## Parch"
   ]
  },
  {
   "cell_type": "markdown",
   "id": "09d6cb95",
   "metadata": {},
   "source": [
    "Die Variable Parch ist eine weitere Variable, die familiäre Verbindungen zwischen Titanic-Passagieren anzeigt. Es gibt die Anzahl der Eltern/Kinder an Bord an. Werden die Schlussfolgerungen dieser Variablen der Anzahl der Ehepartner/Geschwister ähnlich sein? Hat die Anwesenheit einer kleinen Anzahl von Eltern/Kindern die Überlebenschancen erhöht, aber es ist besser, ein einsamer Wolf zu sein, als mit einer großen Gruppe von Verwandten zu reisen? Bleiben Sie dran!"
   ]
  },
  {
   "cell_type": "code",
   "execution_count": 27,
   "id": "4b92a65b",
   "metadata": {
    "scrolled": true
   },
   "outputs": [
    {
     "data": {
      "image/png": "[encoded data removed]",
      "text/plain": [
       "<Figure size 432x288 with 1 Axes>"
      ]
     },
     "metadata": {
      "needs_background": "light"
     },
     "output_type": "display_data"
    }
   ],
   "source": [
    "sns.countplot('Parch',hue='Survived',data=df_train)\n",
    "plt.legend(['No','Yes'], title=\"Survived\", loc=\"upper right\")\n",
    "plt.title(\"Parch: Survived vs Dead\")\n",
    "plt.show()"
   ]
  },
  {
   "cell_type": "markdown",
   "id": "375016a1",
   "metadata": {},
   "source": [
    "Lassen Sie uns zur besseren Lesbarkeit wieder die Tabelle verwenden"
   ]
  },
  {
   "cell_type": "code",
   "execution_count": 28,
   "id": "741419d8",
   "metadata": {
    "scrolled": true
   },
   "outputs": [
    {
     "data": {
      "text/html": [
       "<div>\n",
       "<style scoped>\n",
       "    .dataframe tbody tr th:only-of-type {\n",
       "        vertical-align: middle;\n",
       "    }\n",
       "\n",
       "    .dataframe tbody tr th {\n",
       "        vertical-align: top;\n",
       "    }\n",
       "\n",
       "    .dataframe thead th {\n",
       "        text-align: right;\n",
       "    }\n",
       "</style>\n",
       "<table border=\"1\" class=\"dataframe\">\n",
       "  <thead>\n",
       "    <tr style=\"text-align: right;\">\n",
       "      <th>Parch</th>\n",
       "      <th>0</th>\n",
       "      <th>1</th>\n",
       "      <th>2</th>\n",
       "      <th>3</th>\n",
       "      <th>4</th>\n",
       "      <th>5</th>\n",
       "      <th>6</th>\n",
       "    </tr>\n",
       "    <tr>\n",
       "      <th>Survived</th>\n",
       "      <th></th>\n",
       "      <th></th>\n",
       "      <th></th>\n",
       "      <th></th>\n",
       "      <th></th>\n",
       "      <th></th>\n",
       "      <th></th>\n",
       "    </tr>\n",
       "  </thead>\n",
       "  <tbody>\n",
       "    <tr>\n",
       "      <th>0.0</th>\n",
       "      <td>352</td>\n",
       "      <td>45</td>\n",
       "      <td>28</td>\n",
       "      <td>1</td>\n",
       "      <td>4</td>\n",
       "      <td>4</td>\n",
       "      <td>1</td>\n",
       "    </tr>\n",
       "    <tr>\n",
       "      <th>1.0</th>\n",
       "      <td>191</td>\n",
       "      <td>54</td>\n",
       "      <td>30</td>\n",
       "      <td>2</td>\n",
       "      <td>0</td>\n",
       "      <td>0</td>\n",
       "      <td>0</td>\n",
       "    </tr>\n",
       "  </tbody>\n",
       "</table>\n",
       "</div>"
      ],
      "text/plain": [
       "Parch       0   1   2  3  4  5  6\n",
       "Survived                         \n",
       "0.0       352  45  28  1  4  4  1\n",
       "1.0       191  54  30  2  0  0  0"
      ]
     },
     "execution_count": 28,
     "metadata": {},
     "output_type": "execute_result"
    }
   ],
   "source": [
    "pd.crosstab(df_train['Survived'], df_train['Parch'])"
   ]
  },
  {
   "cell_type": "markdown",
   "id": "3aa4094f",
   "metadata": {},
   "source": [
    "Aufgrund der obigen Erkenntnisse lassen sich auch drei charakteristische Klassen unterscheiden:\n",
    "\n",
    "Personen ohne Eltern und Kinder an Bord (Überlebensrate: 35,2 %)\n",
    "Personen mit einem/zwei Elternteilen/Kindern an Bord (Überlebensrate: 53,5 %)\n",
    "Menschen mit einer höheren Gesamtzahl dieser Verwandten (Überlebensrate: 16,7 %)\n",
    "Beide Fragen, die vor dem Zeichnen des Zähldiagramms gestellt wurden, können mit Ja beantwortet werden. Die Schlussfolgerungen sind ähnlich denen der SibSp-Variablen: Reisen ohne Eltern und Kinder ist sicherer als Reisen mit einer großen Gruppe, aber nicht so sicher wie Reisen mit nur 1-2 genannten Personen.\n",
    "\n",
    "Wie wir sehen können, haben wir dieses Mal 1 und 2 Werte in einer Klasse kombiniert. Es gibt keinen so großen Unterschied in der Anzahl der Beobachtungen wie bei SibSp, und in beiden Fällen gibt es mehr Überleben als Tod. Auch die Überlebensfähigkeit ist sehr ähnlich (für Wert 1: 54,5 %, für Wert 2: 51,7 %)."
   ]
  },
  {
   "cell_type": "markdown",
   "id": "dca9d839",
   "metadata": {},
   "source": [
    "## Family_members"
   ]
  },
  {
   "cell_type": "markdown",
   "id": "9c660aa1",
   "metadata": {},
   "source": [
    "Diese Variable befindet sich nicht im Datensatz. Die Variable Family_members ist nur eine Kombination aus SibSp und Parch. Da es einen Zusammenhang zwischen dem Überleben und der Anzahl der Ehepartner/Geschwister an Bord und der Anzahl der Eltern/Kinder an Bord gibt, warum nicht deren gemeinsame Auswirkungen untersuchen? Das Hindernis ist jedoch die Kollinearität, die auftritt, wenn beide Variablen SibSp, Parch und Family_members im Modell vorhanden sind. Es ist jedoch möglich, dass die Family_members-Variable neue Klassen erstellt, die nicht so einfach auf der Grundlage der Werte von SibSp- und Parch-Variablen berechnet werden können. Die einzige Möglichkeit, dies herauszufinden, besteht darin, eine Variable zu erstellen, also machen wir es."
   ]
  },
  {
   "cell_type": "code",
   "execution_count": 29,
   "id": "6fa50d6e",
   "metadata": {
    "scrolled": true
   },
   "outputs": [
    {
     "data": {
      "image/png": "[encoded data removed]",
      "text/plain": [
       "<Figure size 432x288 with 1 Axes>"
      ]
     },
     "metadata": {
      "needs_background": "light"
     },
     "output_type": "display_data"
    }
   ],
   "source": [
    "Family_members = df_train['SibSp'] + df_train['Parch']\n",
    "\n",
    "sns.countplot(Family_members,hue='Survived',data=df_train)\n",
    "plt.legend(['No','Yes'], title=\"Survived\", loc=\"upper right\")\n",
    "plt.title(\"Family_members: Survived vs Dead\")\n",
    "plt.show()\n",
    "\n"
   ]
  },
  {
   "cell_type": "markdown",
   "id": "982605c4",
   "metadata": {},
   "source": [
    "Natürlich wird die Tabelle wieder nützlich sein."
   ]
  },
  {
   "cell_type": "code",
   "execution_count": 30,
   "id": "e83ad1de",
   "metadata": {
    "scrolled": true
   },
   "outputs": [
    {
     "data": {
      "text/html": [
       "<div>\n",
       "<style scoped>\n",
       "    .dataframe tbody tr th:only-of-type {\n",
       "        vertical-align: middle;\n",
       "    }\n",
       "\n",
       "    .dataframe tbody tr th {\n",
       "        vertical-align: top;\n",
       "    }\n",
       "\n",
       "    .dataframe thead th {\n",
       "        text-align: right;\n",
       "    }\n",
       "</style>\n",
       "<table border=\"1\" class=\"dataframe\">\n",
       "  <thead>\n",
       "    <tr style=\"text-align: right;\">\n",
       "      <th>Family_members</th>\n",
       "      <th>0</th>\n",
       "      <th>1</th>\n",
       "      <th>2</th>\n",
       "      <th>3</th>\n",
       "      <th>4</th>\n",
       "      <th>5</th>\n",
       "      <th>6</th>\n",
       "      <th>7</th>\n",
       "      <th>10</th>\n",
       "    </tr>\n",
       "    <tr>\n",
       "      <th>Survived</th>\n",
       "      <th></th>\n",
       "      <th></th>\n",
       "      <th></th>\n",
       "      <th></th>\n",
       "      <th></th>\n",
       "      <th></th>\n",
       "      <th></th>\n",
       "      <th></th>\n",
       "      <th></th>\n",
       "    </tr>\n",
       "  </thead>\n",
       "  <tbody>\n",
       "    <tr>\n",
       "      <th>0.0</th>\n",
       "      <td>291</td>\n",
       "      <td>58</td>\n",
       "      <td>38</td>\n",
       "      <td>4</td>\n",
       "      <td>8</td>\n",
       "      <td>19</td>\n",
       "      <td>6</td>\n",
       "      <td>6</td>\n",
       "      <td>5</td>\n",
       "    </tr>\n",
       "    <tr>\n",
       "      <th>1.0</th>\n",
       "      <td>132</td>\n",
       "      <td>76</td>\n",
       "      <td>45</td>\n",
       "      <td>17</td>\n",
       "      <td>1</td>\n",
       "      <td>3</td>\n",
       "      <td>3</td>\n",
       "      <td>0</td>\n",
       "      <td>0</td>\n",
       "    </tr>\n",
       "  </tbody>\n",
       "</table>\n",
       "</div>"
      ],
      "text/plain": [
       "Family_members   0   1   2   3   4   5   6   7   10\n",
       "Survived                                           \n",
       "0.0             291  58  38   4   8  19   6   6   5\n",
       "1.0             132  76  45  17   1   3   3   0   0"
      ]
     },
     "execution_count": 30,
     "metadata": {},
     "output_type": "execute_result"
    }
   ],
   "source": [
    "pd.crosstab(df_train['Survived'], Family_members, colnames=['Family_members'])"
   ]
  },
  {
   "cell_type": "markdown",
   "id": "bc3b1e81",
   "metadata": {},
   "source": [
    "Diesmal lassen sich nicht 3, sondern 4 Klassen per Kreuztabelle und Zählplot unterscheiden:\n",
    "\n",
    "- Personen ohne Familienmitglieder an Bord (Überlebensrate: 31,2 %).\n",
    "\n",
    "- Personen mit höchstens zwei Familienmitgliedern an Bord (Überlebensrate: 55,8 %).\n",
    "\n",
    "- Personen mit drei Familienmitgliedern an Bord (Überlebensrate: 81 %).\n",
    "\n",
    "- Personen mit mehr als drei Familienmitgliedern an Bord (Überlebensrate: 13,7 %).\n",
    "\n",
    "Die Situation ist nicht allzu überraschend. Bis zu einem bestimmten Zeitpunkt erhöht die Erhöhung der Anzahl der mitreisenden Familienmitglieder die Überlebenschancen des Passagiers, ab dem Wert 3 ist jedoch eine deutliche Abnahme der Überlebensfähigkeit zu beobachten. Die Verwendung solcher ausgewählter Klassen verursacht kein Kollinearitätsproblem, da sie nicht auf einfachen arithmetischen Operationen basieren, sondern eine Codierung erfordern. Durch die Kodierung wird die Suche nach Ausreißern für Variablen von Familienmitgliedern vermieden, da alle Klassen mit einer größeren Anzahl in einem kategorialen Wert enthalten sind.\n",
    "\n",
    "Aus der Geschichte wissen wir, dass in der Vergangenheit die größten Familien arm waren, wo die Vielzahl der Kinder die Chancen der Eltern auf eine friedliche Zukunft erhöhte. Die Sterblichkeitsrate war viel höher als heute und die Eltern wollten zumindest ein paar ihrer Nachkommen behalten. In Familien mit höherem sozialen Status, mit besseren Lebensbedingungen, waren kleinere Familien damit zufrieden, dass jedes der Kinder einen größeren Anteil am Vermögen der Eltern hatte. "
   ]
  },
  {
   "cell_type": "code",
   "execution_count": 31,
   "id": "e49f45aa",
   "metadata": {},
   "outputs": [
    {
     "data": {
      "text/html": [
       "<div>\n",
       "<style scoped>\n",
       "    .dataframe tbody tr th:only-of-type {\n",
       "        vertical-align: middle;\n",
       "    }\n",
       "\n",
       "    .dataframe tbody tr th {\n",
       "        vertical-align: top;\n",
       "    }\n",
       "\n",
       "    .dataframe thead tr th {\n",
       "        text-align: left;\n",
       "    }\n",
       "\n",
       "    .dataframe thead tr:last-of-type th {\n",
       "        text-align: right;\n",
       "    }\n",
       "</style>\n",
       "<table border=\"1\" class=\"dataframe\">\n",
       "  <thead>\n",
       "    <tr>\n",
       "      <th>Family_members</th>\n",
       "      <th colspan=\"3\" halign=\"left\">0</th>\n",
       "      <th colspan=\"3\" halign=\"left\">1</th>\n",
       "      <th colspan=\"3\" halign=\"left\">2</th>\n",
       "      <th colspan=\"3\" halign=\"left\">3</th>\n",
       "      <th colspan=\"2\" halign=\"left\">4</th>\n",
       "      <th colspan=\"3\" halign=\"left\">5</th>\n",
       "      <th>6</th>\n",
       "      <th>7</th>\n",
       "      <th>10</th>\n",
       "    </tr>\n",
       "    <tr>\n",
       "      <th>Pclass</th>\n",
       "      <th>1</th>\n",
       "      <th>2</th>\n",
       "      <th>3</th>\n",
       "      <th>1</th>\n",
       "      <th>2</th>\n",
       "      <th>3</th>\n",
       "      <th>1</th>\n",
       "      <th>2</th>\n",
       "      <th>3</th>\n",
       "      <th>1</th>\n",
       "      <th>2</th>\n",
       "      <th>3</th>\n",
       "      <th>1</th>\n",
       "      <th>3</th>\n",
       "      <th>1</th>\n",
       "      <th>2</th>\n",
       "      <th>3</th>\n",
       "      <th>3</th>\n",
       "      <th>3</th>\n",
       "      <th>3</th>\n",
       "    </tr>\n",
       "    <tr>\n",
       "      <th>Survived</th>\n",
       "      <th></th>\n",
       "      <th></th>\n",
       "      <th></th>\n",
       "      <th></th>\n",
       "      <th></th>\n",
       "      <th></th>\n",
       "      <th></th>\n",
       "      <th></th>\n",
       "      <th></th>\n",
       "      <th></th>\n",
       "      <th></th>\n",
       "      <th></th>\n",
       "      <th></th>\n",
       "      <th></th>\n",
       "      <th></th>\n",
       "      <th></th>\n",
       "      <th></th>\n",
       "      <th></th>\n",
       "      <th></th>\n",
       "      <th></th>\n",
       "    </tr>\n",
       "  </thead>\n",
       "  <tbody>\n",
       "    <tr>\n",
       "      <th>0.0</th>\n",
       "      <td>40</td>\n",
       "      <td>48</td>\n",
       "      <td>203</td>\n",
       "      <td>17</td>\n",
       "      <td>13</td>\n",
       "      <td>28</td>\n",
       "      <td>6</td>\n",
       "      <td>8</td>\n",
       "      <td>24</td>\n",
       "      <td>1</td>\n",
       "      <td>2</td>\n",
       "      <td>1</td>\n",
       "      <td>0</td>\n",
       "      <td>8</td>\n",
       "      <td>2</td>\n",
       "      <td>0</td>\n",
       "      <td>17</td>\n",
       "      <td>6</td>\n",
       "      <td>6</td>\n",
       "      <td>5</td>\n",
       "    </tr>\n",
       "    <tr>\n",
       "      <th>1.0</th>\n",
       "      <td>45</td>\n",
       "      <td>29</td>\n",
       "      <td>58</td>\n",
       "      <td>41</td>\n",
       "      <td>16</td>\n",
       "      <td>19</td>\n",
       "      <td>14</td>\n",
       "      <td>13</td>\n",
       "      <td>18</td>\n",
       "      <td>3</td>\n",
       "      <td>8</td>\n",
       "      <td>6</td>\n",
       "      <td>1</td>\n",
       "      <td>0</td>\n",
       "      <td>2</td>\n",
       "      <td>1</td>\n",
       "      <td>0</td>\n",
       "      <td>3</td>\n",
       "      <td>0</td>\n",
       "      <td>0</td>\n",
       "    </tr>\n",
       "  </tbody>\n",
       "</table>\n",
       "</div>"
      ],
      "text/plain": [
       "Family_members  0            1           2          3        4     5          \\\n",
       "Pclass           1   2    3   1   2   3   1   2   3  1  2  3  1  3  1  2   3   \n",
       "Survived                                                                       \n",
       "0.0             40  48  203  17  13  28   6   8  24  1  2  1  0  8  2  0  17   \n",
       "1.0             45  29   58  41  16  19  14  13  18  3  8  6  1  0  2  1   0   \n",
       "\n",
       "Family_members 6  7  10  \n",
       "Pclass          3  3  3  \n",
       "Survived                 \n",
       "0.0             6  6  5  \n",
       "1.0             3  0  0  "
      ]
     },
     "execution_count": 31,
     "metadata": {},
     "output_type": "execute_result"
    }
   ],
   "source": [
    "pd.crosstab(df_train['Survived'], [Family_members, df_train['Pclass']], colnames=['Family_members', 'Pclass'])"
   ]
  },
  {
   "cell_type": "markdown",
   "id": "158f98fa",
   "metadata": {},
   "source": [
    "Tatsächlich waren die zahlreichsten Familien in der dritten Klasse. Es gab ein paar Leute aus höheren Klassen mit einem Wert der Family_members-Variablen gleich 4 oder 5, aber für sie war das Gleichgewicht gnädiger. Darüber hinaus gibt es einige Abhängigkeiten, die auf den ersten Blick nicht sichtbar sind:\n",
    "\n",
    "- Erstklassige Menschen haben nie eine Überlebensrate von weniger als 50 %, auch wenn sie keine Familie an Bord haben. Dennoch gibt es auch für sie Unterschiede im Überlebensverhältnis zur Variable Family_members\n",
    "- Bei einem Family_members-Wert von 3, bei dem die Überlebensfähigkeit am höchsten war, hatte jede Klasse mehr Überlebende als Todesfälle. Dies ist der einzige Wert, bei dem die Überlebensfähigkeit von Passagieren der dritten Klasse 50 % überstieg.\n",
    "\n",
    "Ein Familienunternehmen ist vorbei, also können wir uns dem Papierkram widmen."
   ]
  },
  {
   "cell_type": "markdown",
   "id": "c61fe012",
   "metadata": {},
   "source": [
    "## Ticket"
   ]
  },
  {
   "cell_type": "markdown",
   "id": "d52ab64c",
   "metadata": {},
   "source": [
    "Jeder hat eine Fahrkarte. Es waren also keine blinden Passagiere an Bord. Aber es gab Passagiere, die mit einem Ticket reisten. Wenn die Anwesenheit von Familienmitgliedern die Überlebensfähigkeit beeinträchtigen könnte, warum sollte sie dann nicht durch die Anwesenheit von Reisebegleitern beeinträchtigt werden, die nicht unbedingt Mitglieder der unmittelbaren Familie sind? Oder die Tatsache, dass wir mit der Familie fahren, aber auf getrennten Tickets?\n",
    "\n",
    "Es reicht jedoch nicht aus, die Ähnlichkeit der Tickets anhand nur eines aktuellen Datensatzes zu prüfen. Es ist möglich, dass Reisebegleiter auf zwei Teildatensätze aufgeteilt wurden, sodass die erstellte Variable nicht zuverlässig ist. Zu diesem Zweck wird eine Ticketdatenbank aller Titanic-Passagiere erstellt, die genaue Berechnungen und Plots ermöglicht."
   ]
  },
  {
   "cell_type": "code",
   "execution_count": 32,
   "id": "92fd33f5",
   "metadata": {
    "scrolled": true
   },
   "outputs": [
    {
     "data": {
      "image/png": "[encoded data removed]",
      "text/plain": [
       "<Figure size 432x288 with 1 Axes>"
      ]
     },
     "metadata": {
      "needs_background": "light"
     },
     "output_type": "display_data"
    }
   ],
   "source": [
    "ticket_base = []\n",
    "ticket_base.extend(df['Ticket'].tolist())\n",
    "ticket_base.extend(df_test['Ticket'].tolist())\n",
    "\n",
    "People_on_ticket = list()\n",
    "tickets = list(df_train['Ticket'])\n",
    "for i in tickets:\n",
    "    People_on_ticket.append(ticket_base.count(i))\n",
    "People_on_ticket = np.int64(People_on_ticket)\n",
    "\n",
    "sns.countplot(People_on_ticket,hue='Survived',data=df_train)\n",
    "plt.legend(['No','Yes'], title=\"Survived\", loc=\"upper right\")\n",
    "plt.title(\"People_on_ticket: Survived vs Dead\")\n",
    "plt.show()"
   ]
  },
  {
   "cell_type": "code",
   "execution_count": 33,
   "id": "9f0e4d6d",
   "metadata": {
    "scrolled": true
   },
   "outputs": [
    {
     "data": {
      "text/html": [
       "<div>\n",
       "<style scoped>\n",
       "    .dataframe tbody tr th:only-of-type {\n",
       "        vertical-align: middle;\n",
       "    }\n",
       "\n",
       "    .dataframe tbody tr th {\n",
       "        vertical-align: top;\n",
       "    }\n",
       "\n",
       "    .dataframe thead th {\n",
       "        text-align: right;\n",
       "    }\n",
       "</style>\n",
       "<table border=\"1\" class=\"dataframe\">\n",
       "  <thead>\n",
       "    <tr style=\"text-align: right;\">\n",
       "      <th>Ticket_counts</th>\n",
       "      <th>1</th>\n",
       "      <th>2</th>\n",
       "      <th>3</th>\n",
       "      <th>4</th>\n",
       "      <th>5</th>\n",
       "      <th>6</th>\n",
       "      <th>7</th>\n",
       "      <th>8</th>\n",
       "      <th>11</th>\n",
       "    </tr>\n",
       "    <tr>\n",
       "      <th>Survived</th>\n",
       "      <th></th>\n",
       "      <th></th>\n",
       "      <th></th>\n",
       "      <th></th>\n",
       "      <th></th>\n",
       "      <th></th>\n",
       "      <th></th>\n",
       "      <th></th>\n",
       "      <th></th>\n",
       "    </tr>\n",
       "  </thead>\n",
       "  <tbody>\n",
       "    <tr>\n",
       "      <th>0.0</th>\n",
       "      <td>273</td>\n",
       "      <td>73</td>\n",
       "      <td>30</td>\n",
       "      <td>7</td>\n",
       "      <td>9</td>\n",
       "      <td>14</td>\n",
       "      <td>16</td>\n",
       "      <td>8</td>\n",
       "      <td>5</td>\n",
       "    </tr>\n",
       "    <tr>\n",
       "      <th>1.0</th>\n",
       "      <td>105</td>\n",
       "      <td>79</td>\n",
       "      <td>51</td>\n",
       "      <td>24</td>\n",
       "      <td>6</td>\n",
       "      <td>4</td>\n",
       "      <td>3</td>\n",
       "      <td>5</td>\n",
       "      <td>0</td>\n",
       "    </tr>\n",
       "  </tbody>\n",
       "</table>\n",
       "</div>"
      ],
      "text/plain": [
       "Ticket_counts   1   2   3   4   5   6   7   8   11\n",
       "Survived                                          \n",
       "0.0            273  73  30   7   9  14  16   8   5\n",
       "1.0            105  79  51  24   6   4   3   5   0"
      ]
     },
     "execution_count": 33,
     "metadata": {},
     "output_type": "execute_result"
    }
   ],
   "source": [
    "pd.crosstab(df_train['Survived'], People_on_ticket, colnames=['Ticket_counts'])"
   ]
  },
  {
   "cell_type": "markdown",
   "id": "dd0404ab",
   "metadata": {},
   "source": [
    "Auch bei People_on_ticket gibt es eine gewisse Abhängigkeit in der Anzahl der Tickets mit einer gemeinsamen Nummer:\n",
    "\n",
    "- Die meisten reisen mit ihrem eigenen Ticket. Ihre Überlebensrate ist niedrig (27,8 %).\n",
    "- Personen, die mit 1-2 Personen auf einem Ticket reisen, haben eine durchschnittliche Überlebensrate (1 Person: 52 %, 2 Personen: 63 %)\n",
    "- Personen, die mit 3 Personen auf einem Ticket reisen, haben eine hohe Überlebensrate (77,4 %).\n",
    "\n",
    "- Andere Menschen haben niedrige oder sehr niedrige Überlebensraten (zusammen: 25,7 %).\n",
    "\n",
    "Die Schlussfolgerungen sind ähnlich wie bei Familienvariablen: Es lohnt sich, mit wenigen Personen zu reisen, aber genug ist genug.\n",
    "\n",
    "Da die Schlussfolgerungen mit denen für Familienvariablen identisch sind und die Buckets, in die die People_on_ticket-Variable unterteilt werden kann, mit denen für Family_members identisch sind, ist es möglich, dass zwischen diesen Variablen eine hohe Korrelation besteht."
   ]
  },
  {
   "cell_type": "code",
   "execution_count": 34,
   "id": "a49532c2",
   "metadata": {},
   "outputs": [
    {
     "data": {
      "text/plain": [
       "array([[1.        , 0.81150939],\n",
       "       [0.81150939, 1.        ]])"
      ]
     },
     "execution_count": 34,
     "metadata": {},
     "output_type": "execute_result"
    }
   ],
   "source": [
    "np.corrcoef(Family_members, People_on_ticket)\n"
   ]
  },
  {
   "cell_type": "markdown",
   "id": "2be1c4c1",
   "metadata": {},
   "source": [
    "Tatsächlich ist die Korrelation hoch. Sicherlich lohnt es sich auch, eine Tabelle anzuzeigen, die beide Variablen vergleicht."
   ]
  },
  {
   "cell_type": "code",
   "execution_count": 35,
   "id": "4de5a663",
   "metadata": {
    "scrolled": true
   },
   "outputs": [
    {
     "data": {
      "text/html": [
       "<div>\n",
       "<style scoped>\n",
       "    .dataframe tbody tr th:only-of-type {\n",
       "        vertical-align: middle;\n",
       "    }\n",
       "\n",
       "    .dataframe tbody tr th {\n",
       "        vertical-align: top;\n",
       "    }\n",
       "\n",
       "    .dataframe thead th {\n",
       "        text-align: right;\n",
       "    }\n",
       "</style>\n",
       "<table border=\"1\" class=\"dataframe\">\n",
       "  <thead>\n",
       "    <tr style=\"text-align: right;\">\n",
       "      <th>People_on_ticket</th>\n",
       "      <th>1</th>\n",
       "      <th>2</th>\n",
       "      <th>3</th>\n",
       "      <th>4</th>\n",
       "      <th>5</th>\n",
       "      <th>6</th>\n",
       "      <th>7</th>\n",
       "      <th>8</th>\n",
       "      <th>11</th>\n",
       "    </tr>\n",
       "    <tr>\n",
       "      <th>Family_members</th>\n",
       "      <th></th>\n",
       "      <th></th>\n",
       "      <th></th>\n",
       "      <th></th>\n",
       "      <th></th>\n",
       "      <th></th>\n",
       "      <th></th>\n",
       "      <th></th>\n",
       "      <th></th>\n",
       "    </tr>\n",
       "  </thead>\n",
       "  <tbody>\n",
       "    <tr>\n",
       "      <th>0</th>\n",
       "      <td>352</td>\n",
       "      <td>36</td>\n",
       "      <td>15</td>\n",
       "      <td>8</td>\n",
       "      <td>3</td>\n",
       "      <td>1</td>\n",
       "      <td>1</td>\n",
       "      <td>7</td>\n",
       "      <td>0</td>\n",
       "    </tr>\n",
       "    <tr>\n",
       "      <th>1</th>\n",
       "      <td>16</td>\n",
       "      <td>101</td>\n",
       "      <td>15</td>\n",
       "      <td>2</td>\n",
       "      <td>0</td>\n",
       "      <td>0</td>\n",
       "      <td>0</td>\n",
       "      <td>0</td>\n",
       "      <td>0</td>\n",
       "    </tr>\n",
       "    <tr>\n",
       "      <th>2</th>\n",
       "      <td>8</td>\n",
       "      <td>13</td>\n",
       "      <td>50</td>\n",
       "      <td>7</td>\n",
       "      <td>2</td>\n",
       "      <td>0</td>\n",
       "      <td>3</td>\n",
       "      <td>0</td>\n",
       "      <td>0</td>\n",
       "    </tr>\n",
       "    <tr>\n",
       "      <th>3</th>\n",
       "      <td>1</td>\n",
       "      <td>2</td>\n",
       "      <td>0</td>\n",
       "      <td>14</td>\n",
       "      <td>2</td>\n",
       "      <td>2</td>\n",
       "      <td>0</td>\n",
       "      <td>0</td>\n",
       "      <td>0</td>\n",
       "    </tr>\n",
       "    <tr>\n",
       "      <th>4</th>\n",
       "      <td>0</td>\n",
       "      <td>0</td>\n",
       "      <td>0</td>\n",
       "      <td>0</td>\n",
       "      <td>8</td>\n",
       "      <td>0</td>\n",
       "      <td>1</td>\n",
       "      <td>0</td>\n",
       "      <td>0</td>\n",
       "    </tr>\n",
       "    <tr>\n",
       "      <th>5</th>\n",
       "      <td>0</td>\n",
       "      <td>0</td>\n",
       "      <td>1</td>\n",
       "      <td>0</td>\n",
       "      <td>0</td>\n",
       "      <td>15</td>\n",
       "      <td>6</td>\n",
       "      <td>0</td>\n",
       "      <td>0</td>\n",
       "    </tr>\n",
       "    <tr>\n",
       "      <th>6</th>\n",
       "      <td>1</td>\n",
       "      <td>0</td>\n",
       "      <td>0</td>\n",
       "      <td>0</td>\n",
       "      <td>0</td>\n",
       "      <td>0</td>\n",
       "      <td>8</td>\n",
       "      <td>0</td>\n",
       "      <td>0</td>\n",
       "    </tr>\n",
       "    <tr>\n",
       "      <th>7</th>\n",
       "      <td>0</td>\n",
       "      <td>0</td>\n",
       "      <td>0</td>\n",
       "      <td>0</td>\n",
       "      <td>0</td>\n",
       "      <td>0</td>\n",
       "      <td>0</td>\n",
       "      <td>6</td>\n",
       "      <td>0</td>\n",
       "    </tr>\n",
       "    <tr>\n",
       "      <th>10</th>\n",
       "      <td>0</td>\n",
       "      <td>0</td>\n",
       "      <td>0</td>\n",
       "      <td>0</td>\n",
       "      <td>0</td>\n",
       "      <td>0</td>\n",
       "      <td>0</td>\n",
       "      <td>0</td>\n",
       "      <td>5</td>\n",
       "    </tr>\n",
       "  </tbody>\n",
       "</table>\n",
       "</div>"
      ],
      "text/plain": [
       "People_on_ticket   1    2   3   4   5   6   7   8   11\n",
       "Family_members                                        \n",
       "0                 352   36  15   8   3   1   1   7   0\n",
       "1                  16  101  15   2   0   0   0   0   0\n",
       "2                   8   13  50   7   2   0   3   0   0\n",
       "3                   1    2   0  14   2   2   0   0   0\n",
       "4                   0    0   0   0   8   0   1   0   0\n",
       "5                   0    0   1   0   0  15   6   0   0\n",
       "6                   1    0   0   0   0   0   8   0   0\n",
       "7                   0    0   0   0   0   0   0   6   0\n",
       "10                  0    0   0   0   0   0   0   0   5"
      ]
     },
     "execution_count": 35,
     "metadata": {},
     "output_type": "execute_result"
    }
   ],
   "source": [
    "pd.crosstab(Family_members, People_on_ticket, colnames=['People_on_ticket'], rownames=['Family_members'])"
   ]
  },
  {
   "cell_type": "code",
   "execution_count": 36,
   "id": "20b2255c",
   "metadata": {},
   "outputs": [
    {
     "data": {
      "text/plain": [
       "42"
      ]
     },
     "execution_count": 36,
     "metadata": {},
     "output_type": "execute_result"
    }
   ],
   "source": [
    "sum(People_on_ticket<Family_members+1)"
   ]
  },
  {
   "cell_type": "code",
   "execution_count": 37,
   "id": "0b9ad45e",
   "metadata": {},
   "outputs": [
    {
     "data": {
      "text/plain": [
       "111"
      ]
     },
     "execution_count": 37,
     "metadata": {},
     "output_type": "execute_result"
    }
   ],
   "source": [
    "sum(People_on_ticket>Family_members+1)"
   ]
  },
  {
   "cell_type": "markdown",
   "id": "40f2f62c",
   "metadata": {},
   "source": [
    "Die Korrelation ist nicht perfekt, da es Fälle gibt, in denen die Werte zweier Variablen nicht übereinstimmen (d. h. Family_members + 1 ist nicht gleich People_on_ticket). Es sind 42 Fahrgäste, die sich und ihren Mitreisenden wahrscheinlich kein einziges, gemeinsames Ticket besorgt haben. Es gibt auch 111 Passagiere, die nicht nur mit ihrer Familie, sondern auch mit jemand anderem mit einem gemeinsamen Ticket gereist sind. Wahrscheinlich war es ein weiteres Familienmitglied, ein Babysitter oder ein Freund.\n",
    "\n",
    "Aufgrund der bereitgestellten Informationen ist davon auszugehen, dass nur eine der beiden Variablen in das endgültige Modell aufgenommen wird. Die Variable People_on_ticket kann noch transformiert werden. Die Werte sich selbst zu überlassen ist eine mögliche Lösung, aber es kann auch eine gute Idee sein, die gezählte Variable zu codieren oder sie in binärer Form zu verwenden (Fahrt mit einem Einzelticket oder nicht). Die Wahl des geeigneten Ansatzes erfolgt in einer späteren Phase des Projekts."
   ]
  },
  {
   "cell_type": "markdown",
   "id": "1ebb8f27",
   "metadata": {},
   "source": [
    "## Is_alone"
   ]
  },
  {
   "cell_type": "markdown",
   "id": "254a9334",
   "metadata": {},
   "source": [
    "Mit der Variable People_on_ticket wurden 352 echte Einzelgänger identifiziert. Keine Familienmitglieder an Bord, keine anderen Reisebegleiter. Menschen, die sich entschieden haben, eine so lange Strecke allein an Bord eines der größten Ozeandampfer zurückzulegen. Wir denken, es ist eine der interessantesten Gruppen auf diesem Schiff, die eine kleine zusätzliche Untersuchung wert ist."
   ]
  },
  {
   "cell_type": "code",
   "execution_count": 38,
   "id": "cd1459f3",
   "metadata": {
    "scrolled": true
   },
   "outputs": [
    {
     "data": {
      "image/png": "[encoded data removed]",
      "text/plain": [
       "<Figure size 432x288 with 1 Axes>"
      ]
     },
     "metadata": {
      "needs_background": "light"
     },
     "output_type": "display_data"
    }
   ],
   "source": [
    "Is_alone = list()\n",
    "for i in range(0, len(People_on_ticket)):\n",
    "    if(People_on_ticket[i] == 1 and Family_members[i] == 0):\n",
    "        Is_alone.append(1)\n",
    "    else:\n",
    "        Is_alone.append(0)\n",
    "Is_alone = np.int64(Is_alone)\n",
    "\n",
    "sns.countplot(Is_alone,hue='Survived',data=df_train)\n",
    "plt.legend(['No','Yes'], title=\"Survived\", loc=\"upper right\")\n",
    "plt.title(\"Is_alone: Survived vs Dead\")\n",
    "plt.show()"
   ]
  },
  {
   "cell_type": "code",
   "execution_count": 39,
   "id": "cc203563",
   "metadata": {
    "scrolled": false
   },
   "outputs": [
    {
     "data": {
      "text/html": [
       "<div>\n",
       "<style scoped>\n",
       "    .dataframe tbody tr th:only-of-type {\n",
       "        vertical-align: middle;\n",
       "    }\n",
       "\n",
       "    .dataframe tbody tr th {\n",
       "        vertical-align: top;\n",
       "    }\n",
       "\n",
       "    .dataframe thead th {\n",
       "        text-align: right;\n",
       "    }\n",
       "</style>\n",
       "<table border=\"1\" class=\"dataframe\">\n",
       "  <thead>\n",
       "    <tr style=\"text-align: right;\">\n",
       "      <th>Is_alone</th>\n",
       "      <th>0</th>\n",
       "      <th>1</th>\n",
       "    </tr>\n",
       "    <tr>\n",
       "      <th>Survived</th>\n",
       "      <th></th>\n",
       "      <th></th>\n",
       "    </tr>\n",
       "  </thead>\n",
       "  <tbody>\n",
       "    <tr>\n",
       "      <th>0.0</th>\n",
       "      <td>181</td>\n",
       "      <td>254</td>\n",
       "    </tr>\n",
       "    <tr>\n",
       "      <th>1.0</th>\n",
       "      <td>179</td>\n",
       "      <td>98</td>\n",
       "    </tr>\n",
       "  </tbody>\n",
       "</table>\n",
       "</div>"
      ],
      "text/plain": [
       "Is_alone    0    1\n",
       "Survived          \n",
       "0.0       181  254\n",
       "1.0       179   98"
      ]
     },
     "execution_count": 39,
     "metadata": {},
     "output_type": "execute_result"
    }
   ],
   "source": [
    "pd.crosstab(df_train['Survived'], Is_alone, colnames=['Is_alone'])"
   ]
  },
  {
   "cell_type": "markdown",
   "id": "d7a0bd3b",
   "metadata": {},
   "source": [
    "Während wir mit jemandem in unserer Nähe eine halbe Überlebenschance haben, hat das Alleinreisen nur eine Überlebenschance von 27,8 %. Kommt Ihnen diese Nummer bekannt vor? Kein Wunder, derselbe Wert war für Passagiere mit dem Wert der Variable People_on_ticket gleich 0. Wir denken, es ist der beste Zeitpunkt, um die Korrelation zwischen allen Familienvariablen zu überprüfen und die Variablen People_on_ticket und Is_alone hinzuzufügen."
   ]
  },
  {
   "cell_type": "code",
   "execution_count": 40,
   "id": "b57ecac4",
   "metadata": {
    "scrolled": true
   },
   "outputs": [
    {
     "data": {
      "text/plain": [
       "Text(0.5, 0.98, 'Travel Companions Correlation Heatmap')"
      ]
     },
     "execution_count": 40,
     "metadata": {},
     "output_type": "execute_result"
    },
    {
     "data": {
      "image/png": "[encoded data removed]",
      "text/plain": [
       "<Figure size 720x432 with 2 Axes>"
      ]
     },
     "metadata": {
      "needs_background": "light"
     },
     "output_type": "display_data"
    }
   ],
   "source": [
    "family_variables = pd.DataFrame({'SibSp': df_train['SibSp'], 'Parch': df_train['Parch'],\n",
    "                                 'Family_members': Family_members, 'People_on_ticket': People_on_ticket,\n",
    "                                 'Is_alone': Is_alone})\n",
    "\n",
    "corr = family_variables.corr()\n",
    "fig, (ax) = plt.subplots(1, 1, figsize=(10,6))\n",
    "hm = sns.heatmap(corr, ax=ax, cmap=\"coolwarm\", annot=True, fmt='.2f', linewidths=.05)\n",
    "\n",
    "fig.subplots_adjust(top=0.93)\n",
    "fig.suptitle('Travel Companions Correlation Heatmap', fontsize=14, fontweight='bold')\n"
   ]
  },
  {
   "cell_type": "markdown",
   "id": "f11d327e",
   "metadata": {},
   "source": [
    "Unsere blaue Variable Is_alone ist im Gegensatz zu den Variablen Family_members und People_on_ticket kein Problem. Wie wir bereits erwähnt haben, werden wir jedoch versuchen, die Variablen Family_members und/oder People_on_ticket in kategorisch zu ändern, wodurch die Korrelation verringert wird.\n",
    "\n",
    "Lassen wir die Zweifel für einen Moment beiseite und gehen wir zur Variablen Is_alone. Wer sind die einsamen Passagiere? Ein Tisch wird definitiv helfen, ihre Identität zu entdecken."
   ]
  },
  {
   "cell_type": "markdown",
   "id": "e137b36d",
   "metadata": {},
   "source": [
    "## Fare"
   ]
  },
  {
   "cell_type": "markdown",
   "id": "1c2758a0",
   "metadata": {},
   "source": [
    "Manche Leute sagen: Nichts gibt es umsonst. Wir glauben nicht, dass sie den Preis einiger Tickets für die Titanic gesehen haben, die 0 £ kosten könnten. In Wirklichkeit waren dies aber nur wenige Fälle und das Ticket musste meist bezahlt werden. Wie viel? Es musste hauptsächlich von der Klasse abhängen, mit der wir reisen wollten. Werfen wir also einen Blick auf die Preisliste auf dem berühmtesten Schiff der Welt."
   ]
  },
  {
   "cell_type": "code",
   "execution_count": 41,
   "id": "5be76659",
   "metadata": {
    "scrolled": true
   },
   "outputs": [
    {
     "data": {
      "image/png": "[encoded data removed]",
      "text/plain": [
       "<Figure size 432x288 with 1 Axes>"
      ]
     },
     "metadata": {
      "needs_background": "light"
     },
     "output_type": "display_data"
    }
   ],
   "source": [
    "df_train.pivot(columns=\"Pclass\", values=\"Fare\").plot.hist(bins=50, histtype='barstacked', alpha=0.5)\n",
    "plt.title(\"Fare by Pclass\")\n",
    "plt.show()"
   ]
  },
  {
   "cell_type": "markdown",
   "id": "a07c1214",
   "metadata": {},
   "source": [
    "Wir denken, es ist eine gute Idee, den train_set-Passagier mit dem teuersten Ticket im Wert von über 500 £ loszuwerden. Das zweitteuerste Ticket kostet weniger als 300 £, also ist die Lücke groß. Wir interessieren uns nicht für einen Passagier mit solch exorbitanten Reiseerwartungen."
   ]
  },
  {
   "cell_type": "code",
   "execution_count": 42,
   "id": "e79dfd0c",
   "metadata": {},
   "outputs": [],
   "source": [
    "outlier_ind = df_train.loc[df_train['Fare']==max(df_train['Fare'])].index\n",
    "df_train = df_train.drop(outlier_ind)\n",
    "df_train = df_train.reset_index(drop=True)"
   ]
  },
  {
   "cell_type": "markdown",
   "id": "e2b4b3d1",
   "metadata": {},
   "source": [
    "Nochmal das Histogramm, zur besseren Lesbarkeit:"
   ]
  },
  {
   "cell_type": "code",
   "execution_count": 43,
   "id": "c47081b0",
   "metadata": {},
   "outputs": [
    {
     "data": {
      "image/png": "[encoded data removed]",
      "text/plain": [
       "<Figure size 432x288 with 1 Axes>"
      ]
     },
     "metadata": {
      "needs_background": "light"
     },
     "output_type": "display_data"
    }
   ],
   "source": [
    "\n",
    "\n",
    "df_train.pivot(columns=\"Pclass\", values=\"Fare\").plot.hist(bins=50, histtype='barstacked', alpha=0.5)\n",
    "plt.title(\"Fare by Pclass\")\n",
    "plt.show()\n",
    "\n"
   ]
  },
  {
   "cell_type": "markdown",
   "id": "4cf09ec1",
   "metadata": {},
   "source": [
    "Trotz Streichung des teuersten Tickets gibt es noch viele Ausreißer. Dies liegt jedoch an der natürlichen Einteilung der Fahrgäste in Klassen, kann aber beim Bau des Modells hinderlich sein. An dieser Stelle haben wir jedoch nicht vor, die Tarifwerte zu normalisieren oder zu standardisieren. Wir werden diese Aktivität einer späteren Phase des Projekts überlassen.\n",
    "\n",
    "Es lohnt sich, einen genaueren Blick auf das Fahrpreis-Histogramm zu werfen. Die Preisverteilung für eine bestimmte Klasse kann sehr groß sein, was besonders in der ersten Klasse zu sehen ist:"
   ]
  },
  {
   "cell_type": "code",
   "execution_count": 44,
   "id": "cb20d6ae",
   "metadata": {},
   "outputs": [
    {
     "name": "stdout",
     "output_type": "stream",
     "text": [
      "Minimum price for ticket in first class: 0.0\n"
     ]
    }
   ],
   "source": [
    "print(\"Minimum price for ticket in first class: \", min(df_train.loc[df_train['Pclass']==1]['Fare']), sep=\"\")"
   ]
  },
  {
   "cell_type": "code",
   "execution_count": 45,
   "id": "cb71876a",
   "metadata": {
    "scrolled": true
   },
   "outputs": [
    {
     "name": "stdout",
     "output_type": "stream",
     "text": [
      "Maximum price for ticket in first class: 263.0\n"
     ]
    }
   ],
   "source": [
    "print(\"Maximum price for ticket in first class: \", max(df_train.loc[df_train['Pclass']==1]['Fare']), sep=\"\")"
   ]
  },
  {
   "cell_type": "markdown",
   "id": "bf2f157f",
   "metadata": {},
   "source": [
    "Die Tickets für die Titanic könnten wirklich kostenlos sein. Andererseits könnten sie auch ein Vermögen kosten. Es kann eine gute Idee sein, zwischen dem Normalpreis und den billigeren und teureren Tickets zu unterscheiden. Am sinnvollsten wäre es, den Ticketpreis mit dem Durchschnittspreis benachbarter Klassen in der Hierarchie zu vergleichen. Wenn beispielsweise unser Ticket der zweiten Klasse weniger kostet als der Durchschnittspreis für ein Ticket der dritten Klasse, sprechen wir von einem billigen Ticket. Wenn es mehr kostet als der Durchschnittspreis eines First-Class-Tickets, ist es ein teures Ticket. Wenn keine dieser Bedingungen erfüllt ist, handelt es sich um ein normales Ticket.\n",
    "\n",
    "Da die Methodik des Handelns diskutiert wurde, ist es an der Zeit, den Worten Taten folgen zu lassen. "
   ]
  },
  {
   "cell_type": "code",
   "execution_count": 46,
   "id": "de515fc9",
   "metadata": {},
   "outputs": [
    {
     "data": {
      "image/png": "[encoded data removed]",
      "text/plain": [
       "<Figure size 432x288 with 1 Axes>"
      ]
     },
     "metadata": {
      "needs_background": "light"
     },
     "output_type": "display_data"
    }
   ],
   "source": [
    "first_class = df_train.loc[df_train['Pclass']==1]\n",
    "second_class = df_train.loc[df_train['Pclass']==2]\n",
    "third_class = df_train.loc[df_train['Pclass']==3]\n",
    "p_class = list(df_train['Pclass'])\n",
    "fare = list(df_train['Fare'])\n",
    "Fare_class = list()\n",
    "\n",
    "for i in range(0,len(p_class)):\n",
    "    if (p_class[i] == 1):\n",
    "        if (fare[i] < statistics.mean(second_class['Fare'])):\n",
    "            Fare_class.append(\"cheap\")\n",
    "        else:\n",
    "            Fare_class.append(\"normal\")\n",
    "    elif (p_class[i] == 2):\n",
    "        if (fare[i] < statistics.mean(third_class['Fare'])):\n",
    "            Fare_class.append(\"cheap\")\n",
    "        elif (fare[i] > statistics.mean(first_class['Fare'])):\n",
    "            Fare_class.append(\"expensive\")\n",
    "        else:\n",
    "            Fare_class.append(\"normal\")\n",
    "    else:\n",
    "        if (fare[i] > statistics.mean(second_class['Fare'])):\n",
    "            Fare_class.append(\"expensive\")\n",
    "        else:\n",
    "            Fare_class.append(\"normal\")\n",
    "\n",
    "Fare_class = pd.Series(Fare_class)\n",
    "sns.countplot(Fare_class, hue='Survived', data=df_train)\n",
    "plt.legend(['No','Yes'], title=\"Survived\", loc=\"upper right\")\n",
    "plt.title(\"Fare_class: Survived vs Dead\")\n",
    "plt.show()"
   ]
  },
  {
   "cell_type": "code",
   "execution_count": 47,
   "id": "49722c85",
   "metadata": {},
   "outputs": [
    {
     "data": {
      "text/html": [
       "<div>\n",
       "<style scoped>\n",
       "    .dataframe tbody tr th:only-of-type {\n",
       "        vertical-align: middle;\n",
       "    }\n",
       "\n",
       "    .dataframe tbody tr th {\n",
       "        vertical-align: top;\n",
       "    }\n",
       "\n",
       "    .dataframe thead th {\n",
       "        text-align: right;\n",
       "    }\n",
       "</style>\n",
       "<table border=\"1\" class=\"dataframe\">\n",
       "  <thead>\n",
       "    <tr style=\"text-align: right;\">\n",
       "      <th></th>\n",
       "      <th>Pclass</th>\n",
       "      <th>1</th>\n",
       "      <th>2</th>\n",
       "      <th>3</th>\n",
       "    </tr>\n",
       "    <tr>\n",
       "      <th>Fare_class</th>\n",
       "      <th>Survived</th>\n",
       "      <th></th>\n",
       "      <th></th>\n",
       "      <th></th>\n",
       "    </tr>\n",
       "  </thead>\n",
       "  <tbody>\n",
       "    <tr>\n",
       "      <th rowspan=\"2\" valign=\"top\">cheap</th>\n",
       "      <th>0.0</th>\n",
       "      <td>6</td>\n",
       "      <td>42</td>\n",
       "      <td>0</td>\n",
       "    </tr>\n",
       "    <tr>\n",
       "      <th>1.0</th>\n",
       "      <td>0</td>\n",
       "      <td>26</td>\n",
       "      <td>0</td>\n",
       "    </tr>\n",
       "    <tr>\n",
       "      <th rowspan=\"2\" valign=\"top\">expensive</th>\n",
       "      <th>0.0</th>\n",
       "      <td>0</td>\n",
       "      <td>0</td>\n",
       "      <td>51</td>\n",
       "    </tr>\n",
       "    <tr>\n",
       "      <th>1.0</th>\n",
       "      <td>0</td>\n",
       "      <td>0</td>\n",
       "      <td>13</td>\n",
       "    </tr>\n",
       "    <tr>\n",
       "      <th rowspan=\"2\" valign=\"top\">normal</th>\n",
       "      <th>0.0</th>\n",
       "      <td>60</td>\n",
       "      <td>29</td>\n",
       "      <td>247</td>\n",
       "    </tr>\n",
       "    <tr>\n",
       "      <th>1.0</th>\n",
       "      <td>105</td>\n",
       "      <td>41</td>\n",
       "      <td>91</td>\n",
       "    </tr>\n",
       "  </tbody>\n",
       "</table>\n",
       "</div>"
      ],
      "text/plain": [
       "Pclass                 1   2    3\n",
       "Fare_class Survived              \n",
       "cheap      0.0         6  42    0\n",
       "           1.0         0  26    0\n",
       "expensive  0.0         0   0   51\n",
       "           1.0         0   0   13\n",
       "normal     0.0        60  29  247\n",
       "           1.0       105  41   91"
      ]
     },
     "execution_count": 47,
     "metadata": {},
     "output_type": "execute_result"
    }
   ],
   "source": [
    "pd.crosstab([Fare_class, df_train['Survived']], df_train['Pclass'], rownames=['Fare_class', 'Survived'])"
   ]
  },
  {
   "cell_type": "markdown",
   "id": "4b2e042b",
   "metadata": {},
   "source": [
    "Es ist schwierig, die Unterschiede in der Grafik selbst zu erkennen, da sie gering sind. Mit Hilfe der Tabelle können wir jedoch Folgendes ablesen:\n",
    "\n",
    "- Am größten war die Zahl der Passagiere mit Tickets zu normalen Preisen, sie hatten die größten Überlebenschancen: 41,4%\n",
    "- Passagiere mit Billigtickets hatten eine Überlebenschance von 35,1 %\n",
    "- Passagiere mit teuren Tickets starben am häufigsten (Überlebensrate: 20,3 %)\n",
    "\n",
    "Die Ergebnisse sind nicht intuitiv. Demnach haben Menschen mit teuren Tickets die geringste Überlebenschance. Zu beachten ist allerdings, dass alle Fahrgäste mit teuren Tickets aus der dritten, niedrigsten Klasse kommen.\n",
    "\n",
    "Keine der Gruppen hatte eine Überlebensrate von mehr als 50 %. Es ist möglich, dass die Variable dadurch nicht für das Modell geeignet ist. Es ist auch möglich, dass der Algorithmus selbst erkennt, welche Tickets ermäßigt und welche teurer sind, basierend auf den Variablen Fare und Pclass."
   ]
  },
  {
   "cell_type": "markdown",
   "id": "4461a2ae",
   "metadata": {},
   "source": [
    "## Cabin"
   ]
  },
  {
   "cell_type": "markdown",
   "id": "86d21903",
   "metadata": {},
   "source": [
    "Wir haben einen Rekordbrecher bei der Anzahl fehlender Beobachtungen. 23 % der vorhandenen Werte sind nicht beeindruckend. Oder besser gesagt, es wäre nicht schön, wenn wir es mit einer normalen Variablen zu tun hätten. In der Kabine-Variablen bedeuten nan-Werte jedoch höchstwahrscheinlich das Fehlen einer Kabine, die wahrscheinlich für höherklassige Passagiere zugänglich war. Schauen wir es uns genauer an."
   ]
  },
  {
   "cell_type": "code",
   "execution_count": 48,
   "id": "1f3df166",
   "metadata": {},
   "outputs": [
    {
     "data": {
      "text/plain": [
       "1    141\n",
       "3     11\n",
       "2     11\n",
       "Name: Pclass, dtype: int64"
      ]
     },
     "execution_count": 48,
     "metadata": {},
     "output_type": "execute_result"
    }
   ],
   "source": [
    "df_train_no_cabins = df_train.loc[np.where(pd.isnull(df_train['Cabin']))]\n",
    "df_train_cabins = df_train.loc[~df_train.index.isin(df_train_no_cabins.index)]\n",
    "\n",
    "df_train_cabins['Pclass'].value_counts()"
   ]
  },
  {
   "cell_type": "markdown",
   "id": "9c136e81",
   "metadata": {},
   "source": [
    "Tatsächlich waren fast alle Kabinen (86,6 %) mit First-Class-Passagieren besetzt. Es ist möglich, dass Passagiere der zweiten und dritten Klasse auch eine Kabine für zusätzliches Geld kaufen konnten.\n",
    "\n",
    "Wie sieht also die Überlebensfähigkeit für Menschen aus, die eine Kabine hatten, und für Menschen, die keine Möglichkeit hatten, darin zu reisen?"
   ]
  },
  {
   "cell_type": "code",
   "execution_count": 49,
   "id": "3a943fd6",
   "metadata": {},
   "outputs": [
    {
     "data": {
      "image/png": "[encoded data removed]",
      "text/plain": [
       "<Figure size 432x288 with 1 Axes>"
      ]
     },
     "metadata": {
      "needs_background": "light"
     },
     "output_type": "display_data"
    }
   ],
   "source": [
    "Is_Cabin = list()\n",
    "cabins = list(df_train['Cabin'])\n",
    "for i in cabins:\n",
    "        if (pd.isnull(i)):\n",
    "            Is_Cabin.append(0)\n",
    "        else:\n",
    "            Is_Cabin.append(1)\n",
    "Is_Cabin = pd.Series(Is_Cabin)\n",
    "\n",
    "sns.countplot(Is_Cabin,hue='Survived',data=df_train)\n",
    "plt.legend(['No','Yes'], title=\"Survived\", loc=\"upper right\")\n",
    "plt.title(\"Is_Cabin: Survived vs Dead\")\n",
    "plt.show()"
   ]
  },
  {
   "cell_type": "markdown",
   "id": "e5b1e9f7",
   "metadata": {},
   "source": [
    "Es scheint, dass die Anwesenheit der Kabine zum Überleben beigetragen hat. Aber ist das wahr? Wie die Tabelle zeigt, waren die meisten Leute mit Kabinen First-Class-Passagiere. Wie die Pclass-Variable zeigt, sind First-Class-Passagiere am überlebensfähigsten. Vielleicht liegt die niedrigere Überlebensrate bei Menschen ohne Kabine daran, dass es weniger First-Class-Passagiere gibt und die Kabine das Überleben in keiner Weise beeinträchtigt. Es gibt nichts anderes zu tun, als es zu überprüfen."
   ]
  },
  {
   "cell_type": "code",
   "execution_count": 50,
   "id": "c9ce8566",
   "metadata": {},
   "outputs": [
    {
     "data": {
      "text/plain": [
       "<seaborn.axisgrid.FacetGrid at 0x7ff54a43ff40>"
      ]
     },
     "execution_count": 50,
     "metadata": {},
     "output_type": "execute_result"
    },
    {
     "data": {
      "image/png": "[encoded data removed]",
      "text/plain": [
       "<Figure size 648x360 with 3 Axes>"
      ]
     },
     "metadata": {
      "needs_background": "light"
     },
     "output_type": "display_data"
    }
   ],
   "source": [
    "df_train2 = df_train\n",
    "df_train2['Is_Cabin'] = Is_Cabin\n",
    "plot = sns.catplot(x=\"Is_Cabin\", y=\"Survived\", col=\"Pclass\", data=df_train2, kind=\"bar\", ci=None, aspect=.6)\n",
    "plot.set_axis_labels(\"\", \"Survival Rate\")"
   ]
  },
  {
   "cell_type": "code",
   "execution_count": 51,
   "id": "22cde7fa",
   "metadata": {},
   "outputs": [
    {
     "data": {
      "text/html": [
       "<div>\n",
       "<style scoped>\n",
       "    .dataframe tbody tr th:only-of-type {\n",
       "        vertical-align: middle;\n",
       "    }\n",
       "\n",
       "    .dataframe tbody tr th {\n",
       "        vertical-align: top;\n",
       "    }\n",
       "\n",
       "    .dataframe thead th {\n",
       "        text-align: right;\n",
       "    }\n",
       "</style>\n",
       "<table border=\"1\" class=\"dataframe\">\n",
       "  <thead>\n",
       "    <tr style=\"text-align: right;\">\n",
       "      <th></th>\n",
       "      <th>Survived</th>\n",
       "      <th>0.0</th>\n",
       "      <th>1.0</th>\n",
       "    </tr>\n",
       "    <tr>\n",
       "      <th>Pclass</th>\n",
       "      <th>Is_Cabin</th>\n",
       "      <th></th>\n",
       "      <th></th>\n",
       "    </tr>\n",
       "  </thead>\n",
       "  <tbody>\n",
       "    <tr>\n",
       "      <th rowspan=\"2\" valign=\"top\">1</th>\n",
       "      <th>0</th>\n",
       "      <td>16</td>\n",
       "      <td>14</td>\n",
       "    </tr>\n",
       "    <tr>\n",
       "      <th>1</th>\n",
       "      <td>50</td>\n",
       "      <td>91</td>\n",
       "    </tr>\n",
       "    <tr>\n",
       "      <th rowspan=\"2\" valign=\"top\">2</th>\n",
       "      <th>0</th>\n",
       "      <td>70</td>\n",
       "      <td>57</td>\n",
       "    </tr>\n",
       "    <tr>\n",
       "      <th>1</th>\n",
       "      <td>1</td>\n",
       "      <td>10</td>\n",
       "    </tr>\n",
       "    <tr>\n",
       "      <th rowspan=\"2\" valign=\"top\">3</th>\n",
       "      <th>0</th>\n",
       "      <td>293</td>\n",
       "      <td>98</td>\n",
       "    </tr>\n",
       "    <tr>\n",
       "      <th>1</th>\n",
       "      <td>5</td>\n",
       "      <td>6</td>\n",
       "    </tr>\n",
       "  </tbody>\n",
       "</table>\n",
       "</div>"
      ],
      "text/plain": [
       "Survived         0.0  1.0\n",
       "Pclass Is_Cabin          \n",
       "1      0          16   14\n",
       "       1          50   91\n",
       "2      0          70   57\n",
       "       1           1   10\n",
       "3      0         293   98\n",
       "       1           5    6"
      ]
     },
     "execution_count": 51,
     "metadata": {},
     "output_type": "execute_result"
    }
   ],
   "source": [
    "pd.crosstab([df_train['Pclass'], Is_Cabin], df_train['Survived'], rownames=['Pclass','Is_Cabin'])"
   ]
  },
  {
   "cell_type": "markdown",
   "id": "c2978b9c",
   "metadata": {},
   "source": [
    "Eine Kabine macht Sinn. Selbst innerhalb derselben Klassen steigen die Überlebenschancen, wenn wir Zugang dazu haben. Dies zeigt sich am besten in der Mittelklasse, wo nur einer von elf Personen, die eine Kabine hatten, nicht überlebte."
   ]
  },
  {
   "cell_type": "markdown",
   "id": "80999095",
   "metadata": {},
   "source": [
    "## Embarked"
   ]
  },
  {
   "cell_type": "markdown",
   "id": "141f0761",
   "metadata": {},
   "source": [
    "„Es spielt keine Rolle, woher Sie kommen. Alles, was zählt, ist, wohin du gehst.“\n",
    "\n",
    "Also, Herr Brian Tercy. In diesem Fall liegst du falsch. In diesem Fall interessiert uns nicht das Endziel New York, sondern der Einschiffungshafen. Diese Information wird uns durch die Variable Emmarked gegeben, die einen von drei möglichen Verschiffungshäfen angibt. Im Fall von train_set gibt es zwei Datenlücken, die am besten durch eine einfache Dominante ersetzt werden. Ob der Einschiffungshafen eine Bedeutung für die Überlebensfähigkeit hat, wird sich gleich herausstellen. Sicherlich werden einige interessante Zusammenhänge entdeckt."
   ]
  },
  {
   "cell_type": "code",
   "execution_count": 52,
   "id": "3860d3e0",
   "metadata": {},
   "outputs": [
    {
     "data": {
      "image/png": "[encoded data removed]",
      "text/plain": [
       "<Figure size 432x288 with 1 Axes>"
      ]
     },
     "metadata": {
      "needs_background": "light"
     },
     "output_type": "display_data"
    }
   ],
   "source": [
    "sns.countplot('Embarked',hue='Survived',data=df_train)\n",
    "plt.legend(['No','Yes'], title=\"Survived\", loc=\"upper right\")\n",
    "plt.title(\"Embarked: Survived vs Dead\")\n",
    "plt.show()"
   ]
  },
  {
   "cell_type": "code",
   "execution_count": 53,
   "id": "bb63ace0",
   "metadata": {},
   "outputs": [
    {
     "data": {
      "text/html": [
       "<div>\n",
       "<style scoped>\n",
       "    .dataframe tbody tr th:only-of-type {\n",
       "        vertical-align: middle;\n",
       "    }\n",
       "\n",
       "    .dataframe tbody tr th {\n",
       "        vertical-align: top;\n",
       "    }\n",
       "\n",
       "    .dataframe thead th {\n",
       "        text-align: right;\n",
       "    }\n",
       "</style>\n",
       "<table border=\"1\" class=\"dataframe\">\n",
       "  <thead>\n",
       "    <tr style=\"text-align: right;\">\n",
       "      <th>Embarked</th>\n",
       "      <th>C</th>\n",
       "      <th>Q</th>\n",
       "      <th>S</th>\n",
       "    </tr>\n",
       "    <tr>\n",
       "      <th>Survived</th>\n",
       "      <th></th>\n",
       "      <th></th>\n",
       "      <th></th>\n",
       "    </tr>\n",
       "  </thead>\n",
       "  <tbody>\n",
       "    <tr>\n",
       "      <th>0.0</th>\n",
       "      <td>60</td>\n",
       "      <td>37</td>\n",
       "      <td>338</td>\n",
       "    </tr>\n",
       "    <tr>\n",
       "      <th>1.0</th>\n",
       "      <td>71</td>\n",
       "      <td>26</td>\n",
       "      <td>177</td>\n",
       "    </tr>\n",
       "  </tbody>\n",
       "</table>\n",
       "</div>"
      ],
      "text/plain": [
       "Embarked   C   Q    S\n",
       "Survived             \n",
       "0.0       60  37  338\n",
       "1.0       71  26  177"
      ]
     },
     "execution_count": 53,
     "metadata": {},
     "output_type": "execute_result"
    }
   ],
   "source": [
    "pd.crosstab(df_train['Survived'], df_train['Embarked'])"
   ]
  },
  {
   "cell_type": "markdown",
   "id": "b81948bc",
   "metadata": {},
   "source": [
    "Die folgenden Eigenschaften sind aus dem Diagramm und der Tabelle oben ersichtlich:\n",
    "\n",
    "- Die meisten Passagiere stiegen in Southampton (S) und die wenigsten in Queenstown (Q) ein.\n",
    "\n",
    "- Der einzige Einschiffungshafen mit einer Überlebensrate von über 50 % war Cherbourg (C) mit einer Überlebensrate von 54,5 %.\n",
    "\n",
    "- Das Überleben in den Häfen von Southampton und Queenstown war mit 34,4 % für Southampton bzw. 41,3 % für Queenstown ähnlich.\n",
    "\n",
    "Southampton ist ein Favorit von Männern mittleren Alters der dritten Klasse, die alleine reisen. Das wissen wir bereits aus der Analyse der Is_alone-Variablen. Es lohnt sich jedoch, sich die Einschiffungshäfen genauer anzusehen. Jeder von ihnen befand sich in einem anderen Land (Southampton - England, Queenstown - Irland, Cherbourg - Frankreich), sodass die Passagierstruktur in jedem dieser Länder auch von der politischen Situation beeinflusst werden konnte. Wir haben keine Daten zu diesem Thema, aber wir können immer andere interessante Beziehungen überprüfen."
   ]
  },
  {
   "cell_type": "code",
   "execution_count": 54,
   "id": "1e6f84bd",
   "metadata": {},
   "outputs": [
    {
     "name": "stderr",
     "output_type": "stream",
     "text": [
      "No handles with labels found to put in legend.\n",
      "No handles with labels found to put in legend.\n",
      "No handles with labels found to put in legend.\n"
     ]
    },
    {
     "data": {
      "image/png": "[encoded data removed]",
      "text/plain": [
       "<Figure size 1440x1080 with 4 Axes>"
      ]
     },
     "metadata": {
      "needs_background": "light"
     },
     "output_type": "display_data"
    }
   ],
   "source": [
    "f,ax = plt.subplots(2,2,figsize=(20,15))\n",
    "\n",
    "sns.countplot('Embarked',hue='Sex',data=df_train,ax=ax[0,0])\n",
    "plt.legend(title=\"Sex\", loc=\"upper right\")\n",
    "ax[0,0].set_title('Embarked vs Sex')\n",
    "\n",
    "sns.countplot('Embarked',hue='Pclass',data=df_train,ax=ax[0,1])\n",
    "plt.legend(title=\"Pclass\", loc=\"upper right\")\n",
    "ax[0,1].set_title('Embarked vs Pclass')\n",
    "\n",
    "sns.countplot('Embarked',hue=Title,data=df_train,ax=ax[1,0])\n",
    "plt.legend(title=\"Title\", loc=\"upper right\")\n",
    "ax[1,0].set_title('Embarked vs Title')\n",
    "\n",
    "sns.countplot('Embarked',hue=Family_members,data=df_train,ax=ax[1,1])\n",
    "plt.legend(title=\"Family_members\", loc=\"upper right\")\n",
    "ax[1,1].set_title('Embarked vs Family_members')\n",
    "\n",
    "plt.show()"
   ]
  },
  {
   "cell_type": "code",
   "execution_count": 55,
   "id": "40d81c80",
   "metadata": {},
   "outputs": [
    {
     "name": "stdout",
     "output_type": "stream",
     "text": [
      "Average age of Southampton passenger: 29\n",
      "Average age of Queenstown passenger: 27\n",
      "Average age of Cherbourg passenger: 31\n"
     ]
    }
   ],
   "source": [
    "print(\"Average age of Southampton passenger:\", round(np.nanmean(df_train[df_train['Embarked'] == 'S']['Age'])))\n",
    "print(\"Average age of Queenstown passenger:\", round(np.nanmean(df_train[df_train['Embarked'] == 'Q']['Age'])))\n",
    "print(\"Average age of Cherbourg passenger:\", round(np.nanmean(df_train[df_train['Embarked'] == 'C']['Age'])))\n"
   ]
  },
  {
   "cell_type": "markdown",
   "id": "fef6328c",
   "metadata": {},
   "source": [
    "Die Passagierstruktur in den Häfen war wie folgt:\n",
    "\n",
    "- Southampton: Der statistische Passagier ist hier ein erwachsener Mann dritter Klasse, der allein (bekannter Schluss) oder mit 1-2 Familienmitgliedern reist. Im Vergleich zu anderen Häfen hatten auch Passagiere zweiter Klasse und verheiratete Frauen einen erheblichen Anteil. Von Southampton aus zogen große Familien ab\n",
    "- Queenstown: Der statistische Passagier hier ist eine unverheiratete Frau dritter Klasse, die alleine reist. Dies ist der einzige Hafen mit einer solchen Dominanz von Frauen, aber die Überlebensrate war für den Hafen von Cherbourg höher (der Hafen von Queenstown hatte einen noch größeren Vorteil in Bezug auf Passagiere der dritten Klasse).\n",
    "- Cherbourg: Nicht Port, sondern Halbport. Die Hälfte der Fahrgäste sind Männer, die andere Hälfte Frauen. Die Hälfte war in der dritten oder zweiten Klasse, die andere Hälfte in der ersten. Die Hälfte der Passagiere reiste alleine und die andere Hälfte mit einem oder zwei Familienmitgliedern. Natürlich gab es leichte Schwankungen, aber der Anteil liegt bei etwa der Hälfte\n",
    "\n",
    "Eingeschifft ist definitiv eine Variable, die in das Modell aufgenommen werden soll. Es spielt eine Rolle, woher Sie kommen, Mr. Tercy. "
   ]
  },
  {
   "cell_type": "markdown",
   "id": "a0830710",
   "metadata": {},
   "source": [
    "## Age"
   ]
  },
  {
   "cell_type": "markdown",
   "id": "f41fb3bc",
   "metadata": {},
   "source": [
    "\"Nun, wie alt bist du, wo ist dein Hafen?\". Nicht alle Passagiere wollten den ersten Teil dieser Frage beantworten. Alter zeigte eine große Anzahl fehlender Werte (in train_set sind es 18,8 %). Fehlende Beobachtungen mit einem einzigen Wert vervollständigen, z.B. Durchschnitt, würde einen zu großen Einfluss auf die Standardabweichung der Variable Alter haben. Andererseits erscheint mir das Auffüllen von Datenlücken mit Methoden wie KNN aufgrund des hohen Prozentsatzes an Datenlücken nicht sinnvoll. Es ist auch möglich, dass das Fehlen eines bestimmten Passagieralters mit dem Überleben des Passagiers zusammenhängt. Bei der Profilerstellung von Alleinreisenden konnten wir feststellen, dass etwa 60 % der fehlenden Werte für die Variable \"Alter\" von Alleinreisenden stammten. Mal sehen, ob es etwas gibt, das Menschen eines unbekannten Alters verbindet."
   ]
  },
  {
   "cell_type": "code",
   "execution_count": 56,
   "id": "240b46a2",
   "metadata": {},
   "outputs": [
    {
     "data": {
      "text/html": [
       "<div>\n",
       "<style scoped>\n",
       "    .dataframe tbody tr th:only-of-type {\n",
       "        vertical-align: middle;\n",
       "    }\n",
       "\n",
       "    .dataframe tbody tr th {\n",
       "        vertical-align: top;\n",
       "    }\n",
       "\n",
       "    .dataframe thead tr th {\n",
       "        text-align: left;\n",
       "    }\n",
       "\n",
       "    .dataframe thead tr:last-of-type th {\n",
       "        text-align: right;\n",
       "    }\n",
       "</style>\n",
       "<table border=\"1\" class=\"dataframe\">\n",
       "  <thead>\n",
       "    <tr>\n",
       "      <th></th>\n",
       "      <th>Embarked</th>\n",
       "      <th colspan=\"2\" halign=\"left\">C</th>\n",
       "      <th colspan=\"2\" halign=\"left\">Q</th>\n",
       "      <th colspan=\"2\" halign=\"left\">S</th>\n",
       "    </tr>\n",
       "    <tr>\n",
       "      <th></th>\n",
       "      <th>Is_alone</th>\n",
       "      <th>0</th>\n",
       "      <th>1</th>\n",
       "      <th>0</th>\n",
       "      <th>1</th>\n",
       "      <th>0</th>\n",
       "      <th>1</th>\n",
       "    </tr>\n",
       "    <tr>\n",
       "      <th>Pclass</th>\n",
       "      <th>Sex</th>\n",
       "      <th></th>\n",
       "      <th></th>\n",
       "      <th></th>\n",
       "      <th></th>\n",
       "      <th></th>\n",
       "      <th></th>\n",
       "    </tr>\n",
       "  </thead>\n",
       "  <tbody>\n",
       "    <tr>\n",
       "      <th rowspan=\"2\" valign=\"top\">1</th>\n",
       "      <th>female</th>\n",
       "      <td>5</td>\n",
       "      <td>0</td>\n",
       "      <td>0</td>\n",
       "      <td>0</td>\n",
       "      <td>2</td>\n",
       "      <td>0</td>\n",
       "    </tr>\n",
       "    <tr>\n",
       "      <th>male</th>\n",
       "      <td>0</td>\n",
       "      <td>3</td>\n",
       "      <td>0</td>\n",
       "      <td>0</td>\n",
       "      <td>5</td>\n",
       "      <td>6</td>\n",
       "    </tr>\n",
       "    <tr>\n",
       "      <th rowspan=\"2\" valign=\"top\">2</th>\n",
       "      <th>female</th>\n",
       "      <td>0</td>\n",
       "      <td>0</td>\n",
       "      <td>0</td>\n",
       "      <td>1</td>\n",
       "      <td>1</td>\n",
       "      <td>0</td>\n",
       "    </tr>\n",
       "    <tr>\n",
       "      <th>male</th>\n",
       "      <td>0</td>\n",
       "      <td>1</td>\n",
       "      <td>0</td>\n",
       "      <td>0</td>\n",
       "      <td>3</td>\n",
       "      <td>3</td>\n",
       "    </tr>\n",
       "    <tr>\n",
       "      <th rowspan=\"2\" valign=\"top\">3</th>\n",
       "      <th>female</th>\n",
       "      <td>5</td>\n",
       "      <td>2</td>\n",
       "      <td>6</td>\n",
       "      <td>15</td>\n",
       "      <td>8</td>\n",
       "      <td>2</td>\n",
       "    </tr>\n",
       "    <tr>\n",
       "      <th>male</th>\n",
       "      <td>3</td>\n",
       "      <td>12</td>\n",
       "      <td>6</td>\n",
       "      <td>12</td>\n",
       "      <td>9</td>\n",
       "      <td>24</td>\n",
       "    </tr>\n",
       "  </tbody>\n",
       "</table>\n",
       "</div>"
      ],
      "text/plain": [
       "Embarked       C      Q      S    \n",
       "Is_alone       0   1  0   1  0   1\n",
       "Pclass Sex                        \n",
       "1      female  5   0  0   0  2   0\n",
       "       male    0   3  0   0  5   6\n",
       "2      female  0   0  0   1  1   0\n",
       "       male    0   1  0   0  3   3\n",
       "3      female  5   2  6  15  8   2\n",
       "       male    3  12  6  12  9  24"
      ]
     },
     "execution_count": 56,
     "metadata": {},
     "output_type": "execute_result"
    }
   ],
   "source": [
    "train_set_age = df_train\n",
    "train_set_age['Is_alone'] = np.delete(Is_alone, outlier_ind)\n",
    "train_set_unknown_age = train_set_age[np.isnan(train_set_age['Age'])]\n",
    "\n",
    "pd.crosstab([train_set_unknown_age['Pclass'], train_set_unknown_age['Sex']],\n",
    "            [train_set_unknown_age['Embarked'], train_set_unknown_age['Is_alone']])"
   ]
  },
  {
   "cell_type": "markdown",
   "id": "e6a6be43",
   "metadata": {},
   "source": [
    "Tatsächlich sind etwa 60 % der Datenlücken Personen, die allein reisen. Gleichzeitig sind, wenn wir nur Menschen dritter Klasse betrachten, diese für 77,6 % der Datenlücken verantwortlich. Wenn wir beide Bedingungen (Einzel- und/oder Passagiere der dritten Klasse) kombinieren, erhalten wir 88,1 % der Datenlücken.\n",
    "\n",
    "Ist eine so hohe Prävalenz von Reisenden dritter Klasse und/oder einsamer Reisender für Passagiere bekannten Alters?"
   ]
  },
  {
   "cell_type": "code",
   "execution_count": 57,
   "id": "cdc36ce8",
   "metadata": {},
   "outputs": [
    {
     "name": "stdout",
     "output_type": "stream",
     "text": [
      "Percentage of single and/or third class passengers with a known age: 41.91%\n"
     ]
    }
   ],
   "source": [
    "train_set_known_age = train_set_age[~np.isnan(train_set_age['Age'])]\n",
    "train_set_known_age = train_set_known_age[((train_set_known_age['Pclass']==3) & \n",
    "                                           (train_set_known_age['Is_alone']==1))|(train_set_known_age['Pclass']==3)]\n",
    "\n",
    "print(\"Percentage of single and/or third class passengers with a known age: \", \n",
    "      round(len(train_set_known_age.index)*100/len(df_train.index), 2), \"%\", sep=\"\")\n",
    "\n"
   ]
  },
  {
   "cell_type": "markdown",
   "id": "c09856a5",
   "metadata": {},
   "source": [
    "Anteil der Single- und/oder Third-Class-Passagiere mit bekanntem Alter: 41,91 %\n",
    "Und was ist mit der Überlebensrate?"
   ]
  },
  {
   "cell_type": "code",
   "execution_count": 58,
   "id": "dfbf8bca",
   "metadata": {},
   "outputs": [
    {
     "name": "stdout",
     "output_type": "stream",
     "text": [
      "Survival ratio for people of an unknown age: 31.34%\n",
      "Survival ratio for people of a known age: 25.17%\n"
     ]
    }
   ],
   "source": [
    "print(\"Survival ratio for people of an unknown age: \", \n",
    "      round((np.sum(train_set_unknown_age['Survived']==1)*100/len(train_set_unknown_age.index)),2), \"%\", sep=\"\")\n",
    "print(\"Survival ratio for people of a known age: \", \n",
    "      round((np.sum(train_set_known_age['Survived']==1)*100/len(train_set_known_age.index)),2), \"%\", sep=\"\")"
   ]
  },
  {
   "cell_type": "markdown",
   "id": "8341acc0",
   "metadata": {},
   "source": [
    "Die Überlebensrate ist ziemlich ähnlich, wenn auch etwas höher für Menschen unbekannten Alters. Einzelne und/oder Passagiere der dritten Klasse dominieren in einer Gruppe mit bekanntem Alter nicht so sehr. Obwohl Gruppen einander ähnlich sind, unterscheiden sie sich leicht. Es ist möglich, dass das Fehlen einer Altersangabe einen Sinn ergibt. Aus diesem Grund habe wir uns entschieden, einen separaten Eimer für Menschen mit unbestimmter Anzahl von Jahren zu erstellen. Dieser Schritt zieht einen weiteren Schritt nach sich – das Erstellen weiterer Buckets für die Variable Alter. Um die richtige Wahl zu treffen, betrachten wir die Abhängigkeit des Alters von der Überlebensfähigkeit."
   ]
  },
  {
   "cell_type": "code",
   "execution_count": 59,
   "id": "175c693f",
   "metadata": {},
   "outputs": [
    {
     "data": {
      "image/png": "[encoded data removed]",
      "text/plain": [
       "<Figure size 432x288 with 1 Axes>"
      ]
     },
     "metadata": {
      "needs_background": "light"
     },
     "output_type": "display_data"
    }
   ],
   "source": [
    "df_train.pivot(columns=\"Survived\", values=\"Age\").plot.hist(bins=80, histtype='barstacked', alpha=0.5)\n",
    "plt.legend(['No','Yes'], title=\"Survived\", loc=\"upper right\")\n",
    "plt.title(\"Age: Survived vs Dead\")\n",
    "plt.show()"
   ]
  },
  {
   "cell_type": "markdown",
   "id": "92099ff5",
   "metadata": {},
   "source": [
    "In all diesen Bars kann man sich leicht verirren. Meiner Meinung nach gibt es jedoch drei Hauptaltersbereiche:\n",
    "\n",
    "- Jugendliche - Personen, die höchstens 15 Jahre alt sind. Das Histogramm zeigt, wie die Anzahl der Passagiere und ihre Sterblichkeit nach dem Überqueren dieser Barriere zunehmen\n",
    "- Menschen mittleren Alters - Menschen, die über 15, aber unter 50 Jahre alt sind. Es gab Perioden mit weniger Überleben, aber auch mit mehr Überleben. Allerdings lässt sich kein Zeitraum ausmachen, in dem mehrere gute Jahre hintereinander eine Verbesserung der Überlebensfähigkeit zu beobachten ist\n",
    "- Alte Menschen - Die Lebenserwartung in Großbritannien zu Beginn des 20. Jahrhunderts während der Titanic betrug etwa 50 Jahre (Quelle: https://ourworldindata.org/life-expectancy). Wir nehmen an, dass Frankreich sich von diesem Ergebnis nicht unterscheidet, weil es auch ein hoch entwickeltes Land war. Seit diesem Alter sind auch einige Änderungen im Diagramm zu sehen. Es gibt bereits wenige Passagiere und ihre Sterblichkeitsrate steigt. Deshalb habe wir uns entschieden, diese Gruppe als dritte anzugeben.\n",
    "Es lohnt sich, sich bei der Auswahl zu vergewissern und die Überlebensfähigkeit für jede der aufgeführten Gruppen (auch für Menschen mit fehlendem Alter) zu prüfen."
   ]
  },
  {
   "cell_type": "code",
   "execution_count": 60,
   "id": "6606f8b6",
   "metadata": {},
   "outputs": [
    {
     "data": {
      "text/plain": [
       "(0.0, 1.0)"
      ]
     },
     "execution_count": 60,
     "metadata": {},
     "output_type": "execute_result"
    },
    {
     "data": {
      "image/png": "[encoded data removed]",
      "text/plain": [
       "<Figure size 360x360 with 1 Axes>"
      ]
     },
     "metadata": {
      "needs_background": "light"
     },
     "output_type": "display_data"
    }
   ],
   "source": [
    "Age_group = list()\n",
    "age = list(df_train['Age'])\n",
    "\n",
    "for i in age:\n",
    "    if (i <= 15):\n",
    "        Age_group.append('young') \n",
    "    elif (i < 50):\n",
    "        Age_group.append('mid')\n",
    "    elif (i >= 50):\n",
    "        Age_group.append('old')\n",
    "    else:\n",
    "        Age_group.append('unknown')\n",
    "Age_group = pd.Series(Age_group)\n",
    "\n",
    "train_set_age_groups = df_train\n",
    "train_set_age_groups['Age_group'] = Age_group\n",
    "plot = sns.catplot(x=\"Age_group\", y=\"Survived\", data=train_set_age_groups, kind=\"bar\", ci=None)\n",
    "plot.set_axis_labels(\"\", \"Survival Rate\")\n",
    "plt.title(\"Survivability by Age_group\")\n",
    "plt.gca().set_ylim([0,1])\n"
   ]
  },
  {
   "cell_type": "markdown",
   "id": "df6f7d77",
   "metadata": {},
   "source": [
    "Die Schlussfolgerungen lauten wie folgt:\n",
    "\n",
    "- Junge Menschen hatten die größten Überlebenschancen (ca. 60 %).\n",
    "\n",
    "- Insgesamt überlebten Menschen mittleren Alters etwas häufiger als ältere Menschen (ca. 40 % vs. ca. 35 %).\n",
    "- Menschen unbekannten Alters hatten die geringste Überlebenschance (wie bereits erwähnt, 31,34% Chance)\n",
    "\n",
    "Die Schlussfolgerungen sind die gleichen wie die, die aus dem Diagramm beobachtet wurden. Schön.\n",
    "\n",
    "Das obige „Nett“ hat unser Abenteuer mit explorativer Datenanalyse und Feature-Engineering abgeschlossen. Bis zum Ende des Projekts bleiben jedoch noch einige Schritte, in denen die ursprünglichen Variablen (höchstens in leicht veränderter Form) und ihre neuen Freunde, Variablen: Title, Family_members, People_on_ticket, Is_alone, Fare_class und Is_cabin werden ihre Verwendung finden. Es besteht keine Notwendigkeit, die Dinge aufzuhalten, also lasst uns zur nächsten Stufe übergehen."
   ]
  },
  {
   "cell_type": "markdown",
   "id": "a9278f17",
   "metadata": {},
   "source": [
    "# Datenaufbereitung"
   ]
  },
  {
   "cell_type": "markdown",
   "id": "79d962cf",
   "metadata": {},
   "source": [
    "Es ist an der Zeit, dieses Wissen zu nutzen, um die Daten für das Modelltraining vorzubereiten. In dieser Phase sind sowohl train_set als auch test_set seit Beginn des Projekts unverändert, direkt nach ihrer Trennung. Während der explorativen Datenanalyse und des Feature-Engineerings haben wir keine Änderungen daran vorgenommen. Pipelines werden mir helfen, alle Variablentransformationen anzuwenden, die wir im vorherigen Kapitel vorgeschlagen haben, und die von mir vorgeschlagenen Variablen hinzuzufügen. Dies ist auch beim Konvertieren des Satzes titanic_sub nützlich, der für die Übermittlung von Vorhersagen verwendet wird."
   ]
  },
  {
   "cell_type": "code",
   "execution_count": 61,
   "id": "7b878c1c",
   "metadata": {},
   "outputs": [],
   "source": [
    "from sklearn.base import BaseEstimator, TransformerMixin\n",
    "from sklearn.impute import SimpleImputer\n",
    "from sklearn.compose import ColumnTransformer\n",
    "from sklearn.pipeline import Pipeline\n",
    "from sklearn.preprocessing import OneHotEncoder\n",
    "from sklearn.pipeline import FeatureUnion\n",
    "from sklearn.preprocessing import StandardScaler"
   ]
  },
  {
   "cell_type": "markdown",
   "id": "6a9257e1",
   "metadata": {},
   "source": [
    "Pipelines arbeiten mit Klassen. Die relevanten Klassen geben an, wie die Daten transformiert werden sollen, und die Pipelines wenden diese Transformationen an. Dieses Kapitel wird daher die folgenden drei Teile unterscheiden:\n",
    "- Klassen\n",
    "- Pipelines\n",
    "- Datentransformation"
   ]
  },
  {
   "cell_type": "markdown",
   "id": "1905f3a0",
   "metadata": {},
   "source": [
    "## Klassen"
   ]
  },
  {
   "cell_type": "code",
   "execution_count": 62,
   "id": "8551dc78",
   "metadata": {},
   "outputs": [],
   "source": [
    "class TitleSelector(BaseEstimator, TransformerMixin):\n",
    "    def __init__(self, attribute_names):\n",
    "        self._attribute_names = attribute_names\n",
    "    def fit(self, X, y=None):\n",
    "        return self\n",
    "    def get_title(self, obj):\n",
    "        title = ((obj.rsplit(',', 1)[1]).rsplit('.', 1)[0]).strip()\n",
    "        return title\n",
    "    def transform(self, X):\n",
    "        X.loc[:, 'Title'] = X[self._attribute_names].apply(self.get_title)\n",
    "        X = X.drop(self._attribute_names, 1)\n",
    "        return X.values\n",
    "\n",
    "class TitleCoder(BaseEstimator, TransformerMixin):\n",
    "    def __init__(self, attribute_names):\n",
    "        self._attribute_names = attribute_names\n",
    "    def fit(self, X, y=None):\n",
    "        return self\n",
    "    def code_title(self, obj):\n",
    "        if (obj == 'Mr'):\n",
    "            title_c = 'Mr'\n",
    "        elif (obj == 'Mrs'):\n",
    "            title_c = 'Mrs'\n",
    "        elif (obj == 'Miss'):\n",
    "            title_c = 'Miss'\n",
    "        elif (obj == 'Master'):\n",
    "            title_c = 'Master'\n",
    "        else:\n",
    "            title_c = 'Other'\n",
    "        return title_c\n",
    "    def transform(self, X):\n",
    "        X.loc[:, 'Title_c'] = X[self._attribute_names].apply(self.code_title)\n",
    "        X = X.drop(self._attribute_names, 1)\n",
    "        return X.values\n",
    "\n",
    "class AgeCoder(BaseEstimator, TransformerMixin):\n",
    "    def __init__(self, attribute_names):\n",
    "        self._attribute_names = attribute_names\n",
    "    def fit(self, X, y=None):\n",
    "        return self\n",
    "    def code_age(self, obj):\n",
    "        if (obj <= 15):\n",
    "            age_c = 'young'\n",
    "        elif (obj < 50):\n",
    "            age_c = 'mid'\n",
    "        elif (obj >= 50):\n",
    "            age_c = 'old'\n",
    "        else:\n",
    "            age_c = 'unknown'\n",
    "        return age_c\n",
    "    def transform(self, X):\n",
    "        X.loc[:, 'Age_c'] = X[self._attribute_names].apply(self.code_age)\n",
    "        X = X.drop(self._attribute_names, 1)\n",
    "        return X.values\n",
    "\n",
    "class SibSpCoder(BaseEstimator, TransformerMixin):\n",
    "    def __init__(self, attribute_names):\n",
    "        self._attribute_names = attribute_names\n",
    "    def fit(self, X, y=None):\n",
    "        return self\n",
    "    def code_SibSp(self, obj):\n",
    "        if (obj == 0):\n",
    "            SibSp_c = 'zero'\n",
    "        elif (obj == 1):\n",
    "            SibSp_c = 'one'\n",
    "        else:\n",
    "            SibSp_c = 'more'\n",
    "        return SibSp_c\n",
    "    def transform(self, X):\n",
    "        X.loc[:, 'SibSp_c'] = X[self._attribute_names].apply(self.code_SibSp)\n",
    "        X = X.drop(self._attribute_names, 1)\n",
    "        return X.values\n",
    "\n",
    "class ParchCoder(BaseEstimator, TransformerMixin):\n",
    "    def __init__(self, attribute_names):\n",
    "        self._attribute_names = attribute_names\n",
    "    def fit(self, X, y=None):\n",
    "        return self\n",
    "    def code_Parch(self, obj):\n",
    "        if (obj == 0):\n",
    "            Parch_c = 'zero'\n",
    "        elif (obj == 1 or obj == 2):\n",
    "            Parch_c = 'one/two'\n",
    "        else:\n",
    "            Parch_c = 'more'\n",
    "        return Parch_c\n",
    "    def transform(self, X):\n",
    "        X.loc[:, 'Parch_c'] = X[self._attribute_names].apply(self.code_Parch)\n",
    "        X = X.drop(self._attribute_names, 1)\n",
    "        return X.values\n",
    "\n",
    "class Family_members(BaseEstimator, TransformerMixin):\n",
    "    def __init__(self, attribute_names):\n",
    "        self._attribute_names = attribute_names\n",
    "    def fit(self, X, y=None):\n",
    "        return self\n",
    "    def transform(self, X):\n",
    "        X.loc[:, 'Family_members'] = X[self._attribute_names] + X['Parch']\n",
    "        return X.values\n",
    "\n",
    "class Family_membersCoder(BaseEstimator, TransformerMixin):\n",
    "    def __init__(self, attribute_names):\n",
    "        self._attribute_names = attribute_names\n",
    "    def fit(self, X, y=None):\n",
    "        return self\n",
    "    def code_Family_members(self, obj):\n",
    "        if (obj == 0):\n",
    "            Family_members_c = 'zero'\n",
    "        elif (obj == 1 or obj == 2):\n",
    "            Family_members_c = 'one/two'\n",
    "        elif (obj == 3):\n",
    "            Family_members_c = 'three'\n",
    "        else:\n",
    "            Family_members_c = 'more'\n",
    "        return Family_members_c\n",
    "    def transform(self, X):\n",
    "        X.loc[:, 'Family_members_c'] = X[self._attribute_names].apply(self.code_Family_members)\n",
    "        X = X.drop(self._attribute_names, 1)\n",
    "        return X.values\n",
    "\n",
    "class People_on_ticket(BaseEstimator, TransformerMixin):\n",
    "    def __init__(self, attribute_names):\n",
    "        self._attribute_names = attribute_names\n",
    "    def fit(self, X, y=None):\n",
    "        return self\n",
    "    def transform(self, X):\n",
    "        counts = list()\n",
    "        tickets = list(X[self._attribute_names])\n",
    "        for i in tickets:\n",
    "            counts.append(ticket_base.count(i))\n",
    "        #is_ticket_uni = [x if x == 1 else 0 for x in counts]\n",
    "        X.loc[:, 'People_on_ticket'] = counts\n",
    "        return X.values\n",
    "    \n",
    "class People_on_ticketCoder(BaseEstimator, TransformerMixin):\n",
    "    def __init__(self, attribute_names):\n",
    "        self._attribute_names = attribute_names\n",
    "    def fit(self, X, y=None):\n",
    "        return self\n",
    "    def code_People_on_ticket(self, obj):\n",
    "        if (obj == 1):\n",
    "            People_on_ticket_c = 'one'\n",
    "        elif (obj == 2):\n",
    "            People_on_ticket_c = 'two'\n",
    "        elif (obj == 3):\n",
    "            People_on_ticket_c = 'three'\n",
    "        elif (obj == 4):\n",
    "            People_on_ticket_c = 'four' \n",
    "        else:\n",
    "            People_on_ticket_c = 'more'\n",
    "        return People_on_ticket_c\n",
    "    def transform(self, X):\n",
    "        X.loc[:, 'People_on_ticket_c'] = X[self._attribute_names].apply(self.code_People_on_ticket)\n",
    "        X = X.drop(self._attribute_names, 1)\n",
    "        return X.values\n",
    "\n",
    "class Is_Alone(BaseEstimator, TransformerMixin):\n",
    "    def __init__(self, attribute_names):\n",
    "        self._attribute_names = attribute_names\n",
    "    def fit(self, X, y=None):\n",
    "        return self\n",
    "    def transform(self, X):\n",
    "        family_members = list(X['Family_members'])\n",
    "        ppl_on_ticket = list(X[self._attribute_names])\n",
    "        is_alone = list()\n",
    "        for i in range(0,len(ppl_on_ticket)):\n",
    "            if (ppl_on_ticket[i] == 1 and family_members[i] == 0):\n",
    "                is_alone.append(1)\n",
    "            else:\n",
    "                is_alone.append(0)\n",
    "        X.loc[:, 'Is_alone'] = is_alone\n",
    "        return X.values\n",
    "    \n",
    "class Is_Cabin(BaseEstimator, TransformerMixin):\n",
    "    def __init__(self, attribute_names):\n",
    "        self._attribute_names = attribute_names\n",
    "    def fit(self, X, y=None):\n",
    "        return self\n",
    "    def code_Cabin(self, obj):\n",
    "        if (pd.isnull(obj)):\n",
    "            is_cabin = 0\n",
    "        else:\n",
    "            is_cabin = 1\n",
    "        return is_cabin\n",
    "    def transform(self, X):\n",
    "        X.loc[:, 'Is_cabin'] = X[self._attribute_names].apply(self.code_Cabin)\n",
    "        X = X.drop(self._attribute_names, 1)\n",
    "        return X.values\n",
    "\n",
    "class FareClass(BaseEstimator, TransformerMixin):\n",
    "    def __init__(self, attribute_names):\n",
    "        self._attribute_names = attribute_names\n",
    "    def fit(self, X, y=None):\n",
    "        return self\n",
    "    def transform(self, X):\n",
    "        first_class = X.loc[X['Pclass']==1]\n",
    "        second_class = X.loc[X['Pclass']==2]\n",
    "        third_class = X.loc[X['Pclass']==3]\n",
    "        p_class = list(X['Pclass'])\n",
    "        fare = list(X[self._attribute_names])\n",
    "        fare_class = list()\n",
    "        for i in range(0,len(p_class)):\n",
    "            if (p_class[i] == 1):\n",
    "                if (fare[i] < statistics.mean(second_class['Fare'])):\n",
    "                    fare_class.append(\"cheap\")\n",
    "                else:\n",
    "                    fare_class.append(\"normal\")\n",
    "            elif (p_class[i] == 2):\n",
    "                if (fare[i] < statistics.mean(third_class['Fare'])):\n",
    "                    fare_class.append(\"cheap\")\n",
    "                elif (fare[i] > statistics.mean(first_class['Fare'])):\n",
    "                    fare_class.append(\"expensive\")\n",
    "                else:\n",
    "                    fare_class.append(\"normal\")\n",
    "            else:\n",
    "                if (fare[i] > statistics.mean(second_class['Fare'])):\n",
    "                    fare_class.append(\"expensive\")\n",
    "                else:\n",
    "                    fare_class.append(\"normal\")\n",
    "        X.loc[:, 'Fare_class'] = fare_class\n",
    "        return X.values"
   ]
  },
  {
   "cell_type": "markdown",
   "id": "48ce4e92",
   "metadata": {},
   "source": [
    "## Pipelines"
   ]
  },
  {
   "cell_type": "code",
   "execution_count": 63,
   "id": "f1927877",
   "metadata": {},
   "outputs": [],
   "source": [
    "#Pipelines for creating/transforming variables.\n",
    "name = 'Name'\n",
    "name_pipeline = Pipeline(steps=[\n",
    "    ('get_title', TitleSelector(name))\n",
    "])\n",
    "    \n",
    "title = 'Title'  \n",
    "title_pipeline = Pipeline(steps=[\n",
    "    ('code_title', TitleCoder(title))\n",
    "]) \n",
    "\n",
    "age = 'Age'\n",
    "age_pipeline = Pipeline(steps=[\n",
    "    ('code_age', AgeCoder(age))\n",
    "]) \n",
    "\n",
    "sibsp = 'SibSp'\n",
    "sibsp_pipeline = Pipeline(steps=[\n",
    "    ('code_sibsp', SibSpCoder(sibsp))#,\n",
    "])\n",
    "\n",
    "sibsp_pipeline2 = Pipeline(steps=[\n",
    "    ('create_family_members', Family_members(sibsp))\n",
    "])\n",
    "    \n",
    "parch = 'Parch'\n",
    "parch_pipeline = Pipeline(steps=[\n",
    "    ('code_parch', ParchCoder(parch))\n",
    "])\n",
    "\n",
    "family_members = 'Family_members'\n",
    "family_members_pipeline = Pipeline(steps=[\n",
    "    ('code_family_members', Family_membersCoder(family_members))\n",
    "])\n",
    "\n",
    "ticket = 'Ticket'\n",
    "ticket_pipeline = Pipeline(steps=[\n",
    "    ('create_People_on_ticket', People_on_ticket(ticket)),\n",
    "])\n",
    "\n",
    "people_on_ticket = 'People_on_ticket'\n",
    "ticket_pipeline2 = Pipeline(steps=[\n",
    "    ('code_People_on_ticket', People_on_ticketCoder(people_on_ticket)),\n",
    "])\n",
    "\n",
    "is_alone_pipeline = Pipeline(steps=[\n",
    "    ('create_is_alone', Is_Alone(people_on_ticket)),\n",
    "])\n",
    "\n",
    "cabin = 'Cabin'\n",
    "cabin_pipeline = Pipeline(steps=[\n",
    "    ('code_cabin', Is_Cabin(cabin)),\n",
    "])\n",
    "    \n",
    "fare = 'Fare'\n",
    "fare_pipeline = Pipeline(steps=[\n",
    "    ('fare_class', FareClass(fare)),\n",
    "])\n",
    "\n",
    "#Categorical variables - they need One-Hot Encoding. Missing values are inputed with most frequent values\n",
    "#(a maximum of a few observations may be missing for these variables). All variables are standardized.\n",
    "attribs1 = ['Pclass', 'Title_c', 'Sex', 'Age_c',# 'SibSp_c', 'Parch_c',\n",
    "            #'People_on_ticket_c',\n",
    "            'Family_members_c', 'Embarked', #'Fare_class',\n",
    "            ]\n",
    "attribs1_pipeline = Pipeline(steps=[\n",
    "    ('imputer', SimpleImputer(strategy=\"most_frequent\")),\n",
    "    ('encoder', OneHotEncoder(sparse=False)),\n",
    "    ('standarizer', StandardScaler())\n",
    "])\n",
    "\n",
    "#Numerical variables - no need for One-Hot Encoding. Missing values are inputed with median\n",
    "#(a maximum of a few observations may be missing for these variables). All variables are standardized.\n",
    "attribs2 = ['SibSp', 'Parch', #'Family_members', 'People_on_ticket', 'Is_alone',\n",
    "            'Fare', 'Is_cabin']\n",
    "attribs2_pipeline = Pipeline(steps=[\n",
    "    ('imputer', SimpleImputer(strategy=\"median\")),\n",
    "    ('standarizer', StandardScaler())\n",
    "])\n",
    "\n",
    "#Pipeline dropping unused variables and joining both pipelines from above: one for categorical variables\n",
    "#and one for numerical variables.\n",
    "preprocessor = ColumnTransformer(\n",
    "    remainder = 'drop',\n",
    "    transformers=[\n",
    "        ('first', attribs1_pipeline, attribs1),\n",
    "        ('second', attribs2_pipeline, attribs2)\n",
    "])\n",
    "\n",
    "#Joining all created pipelines into one.\n",
    "full_pipeline = FeatureUnion([\n",
    "    ('name_pipeline', name_pipeline),\n",
    "    ('title_pipeline', title_pipeline),\n",
    "    ('age_pipeline', age_pipeline),\n",
    "    #('sibsp_pipeline', sibsp_pipeline),\n",
    "    ('sibsp_pipeline2', sibsp_pipeline2),\n",
    "    #('parch_pipeline', parch_pipeline),\n",
    "    ('family_members_pipeline', family_members_pipeline),\n",
    "    #('ticket_pipeline', ticket_pipeline),\n",
    "    #('is_alone_pipeline', is_alone_pipeline),\n",
    "    #('ticket_pipeline2', ticket_pipeline2),\n",
    "    ('cabin_pipeline', cabin_pipeline),\n",
    "    #('fare_pipeline', fare_pipeline),\n",
    "    ('preprocessor', preprocessor)\n",
    "])\n",
    "\n",
    "#Pipeline which will definitely drop unused columns after usage of full_pipeline \n",
    "#(one usage of preprocessor is not enough).\n",
    "#Variables won't be transformed again in this pipeline, I checked that.\n",
    "full_pipeline2 = FeatureUnion([\n",
    "    ('preprocessor', preprocessor)\n",
    "])"
   ]
  },
  {
   "cell_type": "markdown",
   "id": "e506d4d9",
   "metadata": {},
   "source": [
    "Wie wir sicherlich im Code bemerkt haben, sind einige der Attribute und Pipelines in full_pipeline gehasht. Das bedeutet nicht, dass diese Zeilen nicht einmal im Code verwendet wurden. In diesem Projekt stelle wir jedoch die Lösung vor, mit der wir das beste Ergebnis erzielt haben. Durch Versuch und Irrtum sind wir zu der oben vorgestellten Lösung gekommen. Das beste Ergebnis wurde ohne Verwendung von Hash-Variablen erzielt. Auf diese Weise wurden im endgültigen Modell die folgenden Variablen verwendet:\n",
    "\n",
    "- Pclass\n",
    "- Title_c\n",
    "- Sex\n",
    "- Age_c\n",
    "- SibSp\n",
    "- Parch\n",
    "- Family_members_c\n",
    "- Fare\n",
    "- Is_cabin\n",
    "- Embarked"
   ]
  },
  {
   "cell_type": "markdown",
   "id": "a41825f3",
   "metadata": {},
   "source": [
    "## Datentransformation"
   ]
  },
  {
   "cell_type": "markdown",
   "id": "4e224502",
   "metadata": {},
   "source": [
    "Die erforderlichen Datensätze werden erhalten, indem nacheinander zwei Pipelines verwendet werden: zuerst eine full_pipeline zum Erstellen und Transformieren der relevanten Variablen und dann eine full_pipeline2 zum Entfernen unnötiger Variablen."
   ]
  },
  {
   "cell_type": "code",
   "execution_count": 64,
   "id": "406bbd52",
   "metadata": {},
   "outputs": [],
   "source": [
    "train_set_prepared = full_pipeline.fit_transform(df_train)\n",
    "train_set_prepared = full_pipeline2.fit_transform(df_train)\n",
    "X_train_prepared = train_set_prepared\n",
    "y_train_prepared = df_train['Survived']\n",
    "\n",
    "test_set_prepared = full_pipeline.fit_transform(df_valid)\n",
    "test_set_prepared = full_pipeline2.fit_transform(df_valid)\n",
    "X_test_prepared = test_set_prepared\n",
    "y_test_prepared = df_valid['Survived']"
   ]
  },
  {
   "cell_type": "markdown",
   "id": "7e9c8e39",
   "metadata": {},
   "source": [
    "# Modelltraining, Evaluation und Tuning"
   ]
  },
  {
   "cell_type": "markdown",
   "id": "3a765a73",
   "metadata": {},
   "source": [
    "Tatsächlich liegt ein Teil der Modellbewertung tatsächlich hinter uns. Im vorigen Kapitel haben wir die Variablen angegeben, mit denen wir das beste Ergebnis erzielen konnten. Dies war offensichtlich Teil der Modellbewertung. Aber in diesem Kapitel werden wir uns direkt auf die Modelle konzentrieren."
   ]
  },
  {
   "cell_type": "markdown",
   "id": "6c64ecf3",
   "metadata": {},
   "source": [
    "## Feature selection"
   ]
  },
  {
   "cell_type": "markdown",
   "id": "4a32967b",
   "metadata": {},
   "source": [
    "Leider hat der KNN-Algorithmus nicht die Möglichkeit, die Wichtigkeit von Merkmalen zu erahnen. Daher kann es nicht verwendet werden, um die Merkmale zu bestimmen, die den größten und den geringsten Einfluss auf die erzielten Ergebnisse haben. Aus diesem Grund habe wir uns entschieden, die Wichtigkeit von Merkmalen zu verwenden, die durch die Random-Forest-Methode angezeigt werden. Es war etwas schlechter als das KNN, aber wir glauben, dass in beiden Fällen die Prioritätsangaben ziemlich ähnlich sind.\n",
    "\n",
    "Wie wird diese Phase des Projekts ablaufen? Mit Hilfe der Rastersuche werden wir ein Random Forest-Modell erstellen, das die beste Genauigkeit für das Trainingsset liefert. Dann werden wir die Wichtigkeit von Features daraus entnehmen. Wir werden es verwenden, um KNN-Modelle zu schätzen, die gemäß dem Random-Forest-Modell bis zu 25 der wichtigsten Variablen haben (eine so hohe Zahl ergibt sich aus der Tatsache, dass einige der Variablen One-Hot-codiert waren). Wir werden das Ergebnis nicht nur gegen das Trainingsset messen, sondern auch gegen das Testset (wie Sie sich aus dem ersten Kapitel erinnern, ist test_set eigentlich ein Validierungsset, das echte Testset wird titanic_sub sein, für das Vorhersagen als generiert werden Endergebnis des Projekts) sowie die Differenz zwischen diesen Werten. Dies ist von entscheidender Bedeutung und ermöglicht die Beurteilung, ob eine Überanpassung mit einer bestimmten Anzahl von Variablen für das Modell vorliegt. Die Ergebnisse werden in einem Datenrahmen gespeichert, der am Ende des nächsten Codeblocks präsentiert wird. "
   ]
  },
  {
   "cell_type": "code",
   "execution_count": 65,
   "id": "c3b3ab27",
   "metadata": {},
   "outputs": [
    {
     "name": "stdout",
     "output_type": "stream",
     "text": [
      "CPU times: user 8min 34s, sys: 7.48 s, total: 8min 42s\n",
      "Wall time: 8min 45s\n"
     ]
    },
    {
     "data": {
      "text/plain": [
       "{'bootstrap': 'True',\n",
       " 'criterion': 'gini',\n",
       " 'max_features': None,\n",
       " 'min_samples_split': 5,\n",
       " 'n_estimators': 200}"
      ]
     },
     "execution_count": 65,
     "metadata": {},
     "output_type": "execute_result"
    }
   ],
   "source": [
    "%%time\n",
    "from sklearn.neighbors import KNeighborsClassifier\n",
    "from sklearn.ensemble import RandomForestClassifier\n",
    "from sklearn.model_selection import GridSearchCV\n",
    "from sklearn.metrics import accuracy_score\n",
    "\n",
    "rf_model = RandomForestClassifier(random_state=42)\n",
    "\n",
    "params_grid = [\n",
    "        {'n_estimators': [100, 200, 300, 400, 500],\n",
    "         'criterion': ['gini', 'entropy'],\n",
    "         'min_samples_split': [2, 3, 4, 5],\n",
    "         'max_features': ['auto', 'log2', None],\n",
    "         'bootstrap': ['True', 'False']}\n",
    "]\n",
    "\n",
    "grid_search = GridSearchCV(rf_model, params_grid, cv=5, scoring=\"accuracy\", n_jobs=1)\n",
    "grid_search.fit(X_train_prepared, y_train_prepared)\n",
    "grid_search.best_params_"
   ]
  },
  {
   "cell_type": "markdown",
   "id": "a74ec2bd",
   "metadata": {},
   "source": [
    "Der obige gab nur eine erste Anzahl von Parametern an, von denen aus eine detailliertere Suche beginnen sollte. "
   ]
  },
  {
   "cell_type": "code",
   "execution_count": 66,
   "id": "c23f905f",
   "metadata": {},
   "outputs": [
    {
     "name": "stdout",
     "output_type": "stream",
     "text": [
      "CPU times: user 14min 1s, sys: 15.8 s, total: 14min 16s\n",
      "Wall time: 6min 35s\n"
     ]
    },
    {
     "data": {
      "text/html": [
       "<div>\n",
       "<style scoped>\n",
       "    .dataframe tbody tr th:only-of-type {\n",
       "        vertical-align: middle;\n",
       "    }\n",
       "\n",
       "    .dataframe tbody tr th {\n",
       "        vertical-align: top;\n",
       "    }\n",
       "\n",
       "    .dataframe thead th {\n",
       "        text-align: right;\n",
       "    }\n",
       "</style>\n",
       "<table border=\"1\" class=\"dataframe\">\n",
       "  <thead>\n",
       "    <tr style=\"text-align: right;\">\n",
       "      <th></th>\n",
       "      <th>train_set</th>\n",
       "      <th>test_set</th>\n",
       "      <th>train-test_difference</th>\n",
       "    </tr>\n",
       "  </thead>\n",
       "  <tbody>\n",
       "    <tr>\n",
       "      <th>10</th>\n",
       "      <td>0.826997</td>\n",
       "      <td>0.849162</td>\n",
       "      <td>-0.022165</td>\n",
       "    </tr>\n",
       "    <tr>\n",
       "      <th>11</th>\n",
       "      <td>0.828425</td>\n",
       "      <td>0.849162</td>\n",
       "      <td>-0.020737</td>\n",
       "    </tr>\n",
       "    <tr>\n",
       "      <th>17</th>\n",
       "      <td>0.831212</td>\n",
       "      <td>0.843575</td>\n",
       "      <td>-0.012363</td>\n",
       "    </tr>\n",
       "    <tr>\n",
       "      <th>9</th>\n",
       "      <td>0.834069</td>\n",
       "      <td>0.843575</td>\n",
       "      <td>-0.009507</td>\n",
       "    </tr>\n",
       "    <tr>\n",
       "      <th>15</th>\n",
       "      <td>0.829824</td>\n",
       "      <td>0.837989</td>\n",
       "      <td>-0.008165</td>\n",
       "    </tr>\n",
       "    <tr>\n",
       "      <th>16</th>\n",
       "      <td>0.829834</td>\n",
       "      <td>0.837989</td>\n",
       "      <td>-0.008155</td>\n",
       "    </tr>\n",
       "    <tr>\n",
       "      <th>13</th>\n",
       "      <td>0.828405</td>\n",
       "      <td>0.832402</td>\n",
       "      <td>-0.003997</td>\n",
       "    </tr>\n",
       "    <tr>\n",
       "      <th>20</th>\n",
       "      <td>0.835458</td>\n",
       "      <td>0.837989</td>\n",
       "      <td>-0.002531</td>\n",
       "    </tr>\n",
       "    <tr>\n",
       "      <th>23</th>\n",
       "      <td>0.831203</td>\n",
       "      <td>0.832402</td>\n",
       "      <td>-0.001200</td>\n",
       "    </tr>\n",
       "    <tr>\n",
       "      <th>14</th>\n",
       "      <td>0.831242</td>\n",
       "      <td>0.832402</td>\n",
       "      <td>-0.001160</td>\n",
       "    </tr>\n",
       "    <tr>\n",
       "      <th>22</th>\n",
       "      <td>0.827007</td>\n",
       "      <td>0.826816</td>\n",
       "      <td>0.000191</td>\n",
       "    </tr>\n",
       "    <tr>\n",
       "      <th>21</th>\n",
       "      <td>0.828425</td>\n",
       "      <td>0.826816</td>\n",
       "      <td>0.001609</td>\n",
       "    </tr>\n",
       "    <tr>\n",
       "      <th>12</th>\n",
       "      <td>0.824200</td>\n",
       "      <td>0.821229</td>\n",
       "      <td>0.002971</td>\n",
       "    </tr>\n",
       "    <tr>\n",
       "      <th>24</th>\n",
       "      <td>0.826967</td>\n",
       "      <td>0.821229</td>\n",
       "      <td>0.005738</td>\n",
       "    </tr>\n",
       "    <tr>\n",
       "      <th>25</th>\n",
       "      <td>0.826987</td>\n",
       "      <td>0.821229</td>\n",
       "      <td>0.005758</td>\n",
       "    </tr>\n",
       "    <tr>\n",
       "      <th>18</th>\n",
       "      <td>0.832621</td>\n",
       "      <td>0.821229</td>\n",
       "      <td>0.011392</td>\n",
       "    </tr>\n",
       "    <tr>\n",
       "      <th>8</th>\n",
       "      <td>0.835526</td>\n",
       "      <td>0.821229</td>\n",
       "      <td>0.014297</td>\n",
       "    </tr>\n",
       "    <tr>\n",
       "      <th>19</th>\n",
       "      <td>0.839663</td>\n",
       "      <td>0.821229</td>\n",
       "      <td>0.018434</td>\n",
       "    </tr>\n",
       "    <tr>\n",
       "      <th>7</th>\n",
       "      <td>0.838314</td>\n",
       "      <td>0.804469</td>\n",
       "      <td>0.033845</td>\n",
       "    </tr>\n",
       "    <tr>\n",
       "      <th>5</th>\n",
       "      <td>0.831301</td>\n",
       "      <td>0.787709</td>\n",
       "      <td>0.043592</td>\n",
       "    </tr>\n",
       "    <tr>\n",
       "      <th>6</th>\n",
       "      <td>0.836925</td>\n",
       "      <td>0.793296</td>\n",
       "      <td>0.043629</td>\n",
       "    </tr>\n",
       "    <tr>\n",
       "      <th>4</th>\n",
       "      <td>0.815808</td>\n",
       "      <td>0.770950</td>\n",
       "      <td>0.044858</td>\n",
       "    </tr>\n",
       "    <tr>\n",
       "      <th>2</th>\n",
       "      <td>0.815818</td>\n",
       "      <td>0.765363</td>\n",
       "      <td>0.050455</td>\n",
       "    </tr>\n",
       "    <tr>\n",
       "      <th>3</th>\n",
       "      <td>0.817207</td>\n",
       "      <td>0.765363</td>\n",
       "      <td>0.051844</td>\n",
       "    </tr>\n",
       "    <tr>\n",
       "      <th>1</th>\n",
       "      <td>0.686339</td>\n",
       "      <td>0.564246</td>\n",
       "      <td>0.122093</td>\n",
       "    </tr>\n",
       "  </tbody>\n",
       "</table>\n",
       "</div>"
      ],
      "text/plain": [
       "    train_set  test_set  train-test_difference\n",
       "10   0.826997  0.849162              -0.022165\n",
       "11   0.828425  0.849162              -0.020737\n",
       "17   0.831212  0.843575              -0.012363\n",
       "9    0.834069  0.843575              -0.009507\n",
       "15   0.829824  0.837989              -0.008165\n",
       "16   0.829834  0.837989              -0.008155\n",
       "13   0.828405  0.832402              -0.003997\n",
       "20   0.835458  0.837989              -0.002531\n",
       "23   0.831203  0.832402              -0.001200\n",
       "14   0.831242  0.832402              -0.001160\n",
       "22   0.827007  0.826816               0.000191\n",
       "21   0.828425  0.826816               0.001609\n",
       "12   0.824200  0.821229               0.002971\n",
       "24   0.826967  0.821229               0.005738\n",
       "25   0.826987  0.821229               0.005758\n",
       "18   0.832621  0.821229               0.011392\n",
       "8    0.835526  0.821229               0.014297\n",
       "19   0.839663  0.821229               0.018434\n",
       "7    0.838314  0.804469               0.033845\n",
       "5    0.831301  0.787709               0.043592\n",
       "6    0.836925  0.793296               0.043629\n",
       "4    0.815808  0.770950               0.044858\n",
       "2    0.815818  0.765363               0.050455\n",
       "3    0.817207  0.765363               0.051844\n",
       "1    0.686339  0.564246               0.122093"
      ]
     },
     "execution_count": 66,
     "metadata": {},
     "output_type": "execute_result"
    }
   ],
   "source": [
    "%%time\n",
    "params_grid2 = [\n",
    "        {'n_estimators': [120, 140, 160, 180, 200, 220, 240, 260, 280],\n",
    "         'criterion': ['gini', 'entropy'],\n",
    "         'min_samples_split': [4, 5],\n",
    "         'max_features': ['auto', None],\n",
    "         'bootstrap': ['True']}\n",
    "]\n",
    "\n",
    "grid_search2 = GridSearchCV(rf_model, params_grid2, cv=5, scoring=\"accuracy\", n_jobs=1)\n",
    "grid_search2.fit(X_train_prepared, y_train_prepared)\n",
    "\n",
    "#Function for getting the importance of top k features \n",
    "def indices_of_top_k(arr, k):\n",
    "    return np.sort(np.argpartition(np.array(arr), -k)[-k:])\n",
    "\n",
    "#Function calculating scores for each restricted data set\n",
    "def fs_calculate_results():\n",
    "    train_prediction = list()\n",
    "    test_prediction = list()\n",
    "    knn_model = KNeighborsClassifier()\n",
    "    feature_importances = grid_search2.best_estimator_.feature_importances_\n",
    "    for i in range(1,26):\n",
    "       indices_of_top = indices_of_top_k(feature_importances, i)\n",
    "       X_train_restricted = X_train_prepared[:, indices_of_top]\n",
    "       X_test_restricted = X_test_prepared[:, indices_of_top]\n",
    "    #The square of the number of observations in train_set is close to 27, so the number\n",
    "    #of neighbours will oscillate around this number\n",
    "       params_grid_fs = [\n",
    "        {'n_neighbors': [20, 21, 22, 23, 24, 25, 26, 27, 28, 29, 30, 31, 32, 33, 34, 35],\n",
    "         'weights': ['uniform', 'distance'],\n",
    "         'algorithm': ['auto', 'ball_tree', 'kd_tree', 'brute'],\n",
    "         'metric': ['minkowski', 'euclidean', 'manhattan']}\n",
    "       ]\n",
    "       #print(i)\n",
    "       grid_search_fs = GridSearchCV(knn_model, params_grid_fs, cv=5, scoring=\"accuracy\", n_jobs=1)\n",
    "       grid_search_fs.fit(X_train_restricted, y_train_prepared)\n",
    "       train_prediction.append(grid_search_fs.best_score_)\n",
    "       #print(\"Train_set: \", grid_search_fs.best_score_)\n",
    "       knn_final_model = grid_search_fs.best_estimator_\n",
    "       knn_predictions = knn_final_model.predict(X_test_restricted)\n",
    "       test_prediction.append(accuracy_score(y_test_prepared, knn_predictions))\n",
    "       #print(\"Test_set: \", accuracy_score(y_test_prepared, knn_predictions))\n",
    "    return train_prediction, test_prediction\n",
    "\n",
    "train_pred, test_pred = fs_calculate_results()\n",
    "fs_results = pd.DataFrame({'train_set': train_pred, 'test_set': test_pred})\n",
    "fs_results['train-test_difference'] = fs_results['train_set'] - fs_results['test_set']\n",
    "fs_results.index += 1\n",
    "fs_results = fs_results.sort_values('train-test_difference')\n",
    "fs_results"
   ]
  },
  {
   "cell_type": "markdown",
   "id": "573a3122",
   "metadata": {},
   "source": [
    "In der oben generierten Tabelle ist die Indexnummer die Anzahl der berücksichtigten Variablen (von 1 bis 25). Die zweite Spalte zeigt das Ergebnis für die 5-fache Kreuzvalidierung auf dem Trainingsset (5-fache Kreuzvalidierung wurde auch verwendet, um das Random-Forest-Modell zu trainieren), während Spalte Nummer drei die Genauigkeit für das Testset zeigt. Die Zeilen im Datenrahmen wurden nach der letzten Spalte sortiert, die den Unterschied zwischen dem Ergebnis für den Trainings- und den Testsatz zeigt. Wir interessieren uns für Werte, die möglichst nahe bei Null liegen, aber positiv, nicht negativ. Ein negativer Wert bedeutet, dass das Modell falsch ist, weil es eine bessere Genauigkeit für das Testset liefert.\n",
    "\n",
    "Nach dem gerade besprochenen Zeitplan ist das beste Modell dasjenige mit den 13 wichtigsten Parametern. Nach der finalen Einreichung stellte sich jedoch heraus, dass er etwas schlechtere Ergebnisse liefert als der zweite Kandidat, nämlich Nummer 25 (maximale Anzahl an Variablen). Die nächsten Variablen auf der Liste haben das Ergebnis von Nummer 25 nicht übertroffen, also habe wir uns entschieden, es zu verlassen und es im nächsten Schritt zu verwenden, der die Schätzung und Validierung des KNN-Modells sein wird. Obwohl dieser Schritt bereits in einer Schleife war, war er nicht so detailliert, wie wir es gerne tun würden. Es ist also an der Zeit, sich die Modelle genauer anzusehen, mit denen wir die Geheimnisse der Titanic lüften können. "
   ]
  },
  {
   "cell_type": "markdown",
   "id": "471a00d3",
   "metadata": {},
   "source": [
    "## K-Nearest Neighbors model"
   ]
  },
  {
   "cell_type": "markdown",
   "id": "afe15881",
   "metadata": {},
   "source": [
    "Es gibt so wenig, was uns vom endgültigen Modell trennt. Vergleichen wir natürlich unsere bisherige Arbeit, denn auch das Training und die Validierung des Modells und dann dessen Tuning sind ein wichtiges Element, das genauer betrachtet werden muss. Und wir werden uns das KNN-Modell ansehen, das seine Konkurrenten ein wenig hinter sich gelassen hat. Lassen Sie uns zuerst prüfen, welche Parameter die besten Ergebnisse für den Trainingssatz liefern. "
   ]
  },
  {
   "cell_type": "code",
   "execution_count": 67,
   "id": "5a30b644",
   "metadata": {},
   "outputs": [
    {
     "name": "stdout",
     "output_type": "stream",
     "text": [
      "CPU times: user 40 s, sys: 777 ms, total: 40.7 s\n",
      "Wall time: 12.9 s\n"
     ]
    },
    {
     "data": {
      "text/plain": [
       "{'algorithm': 'auto',\n",
       " 'metric': 'manhattan',\n",
       " 'n_neighbors': 26,\n",
       " 'weights': 'uniform'}"
      ]
     },
     "execution_count": 67,
     "metadata": {},
     "output_type": "execute_result"
    }
   ],
   "source": [
    "%%time\n",
    "feature_importances = grid_search2.best_estimator_.feature_importances_\n",
    "indices_of_top = indices_of_top_k(feature_importances, 25)\n",
    "X_train_prepared = X_train_prepared[:, indices_of_top]\n",
    "X_test_prepared = X_test_prepared[:, indices_of_top]\n",
    "\n",
    "knn_model = KNeighborsClassifier()\n",
    "params_grid = [\n",
    "        {'n_neighbors': [20, 21, 22, 23, 24, 25, 26, 27, 28, 29, 30, 31, 32, 33, 34, 35],\n",
    "         'weights': ['uniform', 'distance'],\n",
    "         'algorithm': ['auto', 'ball_tree', 'kd_tree', 'brute'],\n",
    "         'metric': ['minkowski', 'euclidean', 'manhattan']}\n",
    "]\n",
    "\n",
    "grid_search = GridSearchCV(knn_model, params_grid, cv=5, scoring=\"accuracy\", n_jobs=1)\n",
    "grid_search.fit(X_train_prepared, y_train_prepared)\n",
    "\n",
    "grid_search.best_params_"
   ]
  },
  {
   "cell_type": "markdown",
   "id": "695199ba",
   "metadata": {},
   "source": [
    "Und nun die Genauigkeit für beide Sätze: "
   ]
  },
  {
   "cell_type": "code",
   "execution_count": 68,
   "id": "53f10bf8",
   "metadata": {},
   "outputs": [
    {
     "name": "stdout",
     "output_type": "stream",
     "text": [
      "Training dataset accuracy: 0.8269870974096326\n",
      "Validation dataset accuracy: 0.8212290502793296\n"
     ]
    }
   ],
   "source": [
    "print(\"Training dataset accuracy: \", grid_search.best_score_, sep=\"\")\n",
    "\n",
    "\n",
    "knn_model = grid_search.best_estimator_\n",
    "knn_predictions = knn_model.predict(X_test_prepared)\n",
    "print(\"Validation dataset accuracy: \", accuracy_score(y_test_prepared, knn_predictions), sep=\"\")"
   ]
  },
  {
   "cell_type": "markdown",
   "id": "630fe24c",
   "metadata": {},
   "source": [
    "Aber bist du sicher? Grid_search hat das beste Modell an das Trainingsset zurückgegeben. Ja, Kreuzvalidierung wurde dort verwendet, aber es ist nicht bekannt, wie das Modell auf dem Validierungsset und auf dem tatsächlichen Testset funktionieren wird. Es wäre also eine gute Idee, eine Liste einiger der besten Modelle zu erstellen, die die besten Ergebnisse für das Trainingsset liefern, und sie im Validierungsset und dann direkt im titanic_sub-Set, dem eigentlichen Testset, für das die Ergebnisse sind Gegenstand des Projekts. Sehen wir uns die Top-Modelle an. "
   ]
  },
  {
   "cell_type": "code",
   "execution_count": 69,
   "id": "afc4c856",
   "metadata": {},
   "outputs": [
    {
     "name": "stdout",
     "output_type": "stream",
     "text": [
      "CPU times: user 52.8 ms, sys: 8.76 ms, total: 61.6 ms\n",
      "Wall time: 83.8 ms\n"
     ]
    },
    {
     "data": {
      "text/html": [
       "<style type=\"text/css\">\n",
       "#T_28438_row0_col0, #T_28438_row1_col0, #T_28438_row2_col0, #T_28438_row3_col0, #T_28438_row4_col0, #T_28438_row5_col0, #T_28438_row6_col0, #T_28438_row7_col0, #T_28438_row8_col0, #T_28438_row9_col0, #T_28438_row10_col0, #T_28438_row11_col0, #T_28438_row12_col0, #T_28438_row13_col0, #T_28438_row14_col0, #T_28438_row15_col0, #T_28438_row16_col0, #T_28438_row17_col0, #T_28438_row18_col0, #T_28438_row19_col0 {\n",
       "  width-min: 300px;\n",
       "}\n",
       "</style>\n",
       "<table id=\"T_28438_\">\n",
       "  <thead>\n",
       "    <tr>\n",
       "      <th class=\"blank level0\" >&nbsp;</th>\n",
       "      <th class=\"col_heading level0 col0\" >params</th>\n",
       "      <th class=\"col_heading level0 col1\" >results</th>\n",
       "    </tr>\n",
       "  </thead>\n",
       "  <tbody>\n",
       "    <tr>\n",
       "      <th id=\"T_28438_level0_row0\" class=\"row_heading level0 row0\" >364</th>\n",
       "      <td id=\"T_28438_row0_col0\" class=\"data row0 col0\" >{'algorithm': 'brute', 'metric': 'manhattan', 'n_neighbors': 26, 'weights': 'uniform'}</td>\n",
       "      <td id=\"T_28438_row0_col1\" class=\"data row0 col1\" >0.826987</td>\n",
       "    </tr>\n",
       "    <tr>\n",
       "      <th id=\"T_28438_level0_row1\" class=\"row_heading level0 row1\" >268</th>\n",
       "      <td id=\"T_28438_row1_col0\" class=\"data row1 col0\" >{'algorithm': 'kd_tree', 'metric': 'manhattan', 'n_neighbors': 26, 'weights': 'uniform'}</td>\n",
       "      <td id=\"T_28438_row1_col1\" class=\"data row1 col1\" >0.826987</td>\n",
       "    </tr>\n",
       "    <tr>\n",
       "      <th id=\"T_28438_level0_row2\" class=\"row_heading level0 row2\" >172</th>\n",
       "      <td id=\"T_28438_row2_col0\" class=\"data row2 col0\" >{'algorithm': 'ball_tree', 'metric': 'manhattan', 'n_neighbors': 26, 'weights': 'uniform'}</td>\n",
       "      <td id=\"T_28438_row2_col1\" class=\"data row2 col1\" >0.826987</td>\n",
       "    </tr>\n",
       "    <tr>\n",
       "      <th id=\"T_28438_level0_row3\" class=\"row_heading level0 row3\" >76</th>\n",
       "      <td id=\"T_28438_row3_col0\" class=\"data row3 col0\" >{'algorithm': 'auto', 'metric': 'manhattan', 'n_neighbors': 26, 'weights': 'uniform'}</td>\n",
       "      <td id=\"T_28438_row3_col1\" class=\"data row3 col1\" >0.826987</td>\n",
       "    </tr>\n",
       "    <tr>\n",
       "      <th id=\"T_28438_level0_row4\" class=\"row_heading level0 row4\" >228</th>\n",
       "      <td id=\"T_28438_row4_col0\" class=\"data row4 col0\" >{'algorithm': 'kd_tree', 'metric': 'euclidean', 'n_neighbors': 22, 'weights': 'uniform'}</td>\n",
       "      <td id=\"T_28438_row4_col1\" class=\"data row4 col1\" >0.826977</td>\n",
       "    </tr>\n",
       "    <tr>\n",
       "      <th id=\"T_28438_level0_row5\" class=\"row_heading level0 row5\" >36</th>\n",
       "      <td id=\"T_28438_row5_col0\" class=\"data row5 col0\" >{'algorithm': 'auto', 'metric': 'euclidean', 'n_neighbors': 22, 'weights': 'uniform'}</td>\n",
       "      <td id=\"T_28438_row5_col1\" class=\"data row5 col1\" >0.826977</td>\n",
       "    </tr>\n",
       "    <tr>\n",
       "      <th id=\"T_28438_level0_row6\" class=\"row_heading level0 row6\" >324</th>\n",
       "      <td id=\"T_28438_row6_col0\" class=\"data row6 col0\" >{'algorithm': 'brute', 'metric': 'euclidean', 'n_neighbors': 22, 'weights': 'uniform'}</td>\n",
       "      <td id=\"T_28438_row6_col1\" class=\"data row6 col1\" >0.826977</td>\n",
       "    </tr>\n",
       "    <tr>\n",
       "      <th id=\"T_28438_level0_row7\" class=\"row_heading level0 row7\" >196</th>\n",
       "      <td id=\"T_28438_row7_col0\" class=\"data row7 col0\" >{'algorithm': 'kd_tree', 'metric': 'minkowski', 'n_neighbors': 22, 'weights': 'uniform'}</td>\n",
       "      <td id=\"T_28438_row7_col1\" class=\"data row7 col1\" >0.826977</td>\n",
       "    </tr>\n",
       "    <tr>\n",
       "      <th id=\"T_28438_level0_row8\" class=\"row_heading level0 row8\" >292</th>\n",
       "      <td id=\"T_28438_row8_col0\" class=\"data row8 col0\" >{'algorithm': 'brute', 'metric': 'minkowski', 'n_neighbors': 22, 'weights': 'uniform'}</td>\n",
       "      <td id=\"T_28438_row8_col1\" class=\"data row8 col1\" >0.826977</td>\n",
       "    </tr>\n",
       "    <tr>\n",
       "      <th id=\"T_28438_level0_row9\" class=\"row_heading level0 row9\" >4</th>\n",
       "      <td id=\"T_28438_row9_col0\" class=\"data row9 col0\" >{'algorithm': 'auto', 'metric': 'minkowski', 'n_neighbors': 22, 'weights': 'uniform'}</td>\n",
       "      <td id=\"T_28438_row9_col1\" class=\"data row9 col1\" >0.826977</td>\n",
       "    </tr>\n",
       "    <tr>\n",
       "      <th id=\"T_28438_level0_row10\" class=\"row_heading level0 row10\" >132</th>\n",
       "      <td id=\"T_28438_row10_col0\" class=\"data row10 col0\" >{'algorithm': 'ball_tree', 'metric': 'euclidean', 'n_neighbors': 22, 'weights': 'uniform'}</td>\n",
       "      <td id=\"T_28438_row10_col1\" class=\"data row10 col1\" >0.824160</td>\n",
       "    </tr>\n",
       "    <tr>\n",
       "      <th id=\"T_28438_level0_row11\" class=\"row_heading level0 row11\" >100</th>\n",
       "      <td id=\"T_28438_row11_col0\" class=\"data row11 col0\" >{'algorithm': 'ball_tree', 'metric': 'minkowski', 'n_neighbors': 22, 'weights': 'uniform'}</td>\n",
       "      <td id=\"T_28438_row11_col1\" class=\"data row11 col1\" >0.824160</td>\n",
       "    </tr>\n",
       "    <tr>\n",
       "      <th id=\"T_28438_level0_row12\" class=\"row_heading level0 row12\" >258</th>\n",
       "      <td id=\"T_28438_row12_col0\" class=\"data row12 col0\" >{'algorithm': 'kd_tree', 'metric': 'manhattan', 'n_neighbors': 21, 'weights': 'uniform'}</td>\n",
       "      <td id=\"T_28438_row12_col1\" class=\"data row12 col1\" >0.822781</td>\n",
       "    </tr>\n",
       "    <tr>\n",
       "      <th id=\"T_28438_level0_row13\" class=\"row_heading level0 row13\" >266</th>\n",
       "      <td id=\"T_28438_row13_col0\" class=\"data row13 col0\" >{'algorithm': 'kd_tree', 'metric': 'manhattan', 'n_neighbors': 25, 'weights': 'uniform'}</td>\n",
       "      <td id=\"T_28438_row13_col1\" class=\"data row13 col1\" >0.822762</td>\n",
       "    </tr>\n",
       "    <tr>\n",
       "      <th id=\"T_28438_level0_row14\" class=\"row_heading level0 row14\" >326</th>\n",
       "      <td id=\"T_28438_row14_col0\" class=\"data row14 col0\" >{'algorithm': 'brute', 'metric': 'euclidean', 'n_neighbors': 23, 'weights': 'uniform'}</td>\n",
       "      <td id=\"T_28438_row14_col1\" class=\"data row14 col1\" >0.822762</td>\n",
       "    </tr>\n",
       "    <tr>\n",
       "      <th id=\"T_28438_level0_row15\" class=\"row_heading level0 row15\" >38</th>\n",
       "      <td id=\"T_28438_row15_col0\" class=\"data row15 col0\" >{'algorithm': 'auto', 'metric': 'euclidean', 'n_neighbors': 23, 'weights': 'uniform'}</td>\n",
       "      <td id=\"T_28438_row15_col1\" class=\"data row15 col1\" >0.822762</td>\n",
       "    </tr>\n",
       "    <tr>\n",
       "      <th id=\"T_28438_level0_row16\" class=\"row_heading level0 row16\" >294</th>\n",
       "      <td id=\"T_28438_row16_col0\" class=\"data row16 col0\" >{'algorithm': 'brute', 'metric': 'minkowski', 'n_neighbors': 23, 'weights': 'uniform'}</td>\n",
       "      <td id=\"T_28438_row16_col1\" class=\"data row16 col1\" >0.822762</td>\n",
       "    </tr>\n",
       "    <tr>\n",
       "      <th id=\"T_28438_level0_row17\" class=\"row_heading level0 row17\" >270</th>\n",
       "      <td id=\"T_28438_row17_col0\" class=\"data row17 col0\" >{'algorithm': 'kd_tree', 'metric': 'manhattan', 'n_neighbors': 27, 'weights': 'uniform'}</td>\n",
       "      <td id=\"T_28438_row17_col1\" class=\"data row17 col1\" >0.822762</td>\n",
       "    </tr>\n",
       "    <tr>\n",
       "      <th id=\"T_28438_level0_row18\" class=\"row_heading level0 row18\" >6</th>\n",
       "      <td id=\"T_28438_row18_col0\" class=\"data row18 col0\" >{'algorithm': 'auto', 'metric': 'minkowski', 'n_neighbors': 23, 'weights': 'uniform'}</td>\n",
       "      <td id=\"T_28438_row18_col1\" class=\"data row18 col1\" >0.822762</td>\n",
       "    </tr>\n",
       "    <tr>\n",
       "      <th id=\"T_28438_level0_row19\" class=\"row_heading level0 row19\" >170</th>\n",
       "      <td id=\"T_28438_row19_col0\" class=\"data row19 col0\" >{'algorithm': 'ball_tree', 'metric': 'manhattan', 'n_neighbors': 25, 'weights': 'uniform'}</td>\n",
       "      <td id=\"T_28438_row19_col1\" class=\"data row19 col1\" >0.822762</td>\n",
       "    </tr>\n",
       "  </tbody>\n",
       "</table>\n"
      ],
      "text/plain": [
       "<pandas.io.formats.style.Styler at 0x7ff54bc52af0>"
      ]
     },
     "execution_count": 69,
     "metadata": {},
     "output_type": "execute_result"
    }
   ],
   "source": [
    "%%time\n",
    "KNN_models = pd.DataFrame({'params': list(grid_search.cv_results_[\"params\"]),\n",
    "                    'results': list(grid_search.cv_results_[\"mean_test_score\"])})\n",
    "KNN_models = KNN_models.sort_values('results', ascending=False)\n",
    "KNN_models = KNN_models.head(20)\n",
    "KNN_models.style.set_properties(subset=['params'], **{'width-min': '300px'})"
   ]
  },
  {
   "cell_type": "markdown",
   "id": "f24a3061",
   "metadata": {},
   "source": [
    "Die obige Tabelle zeigt die 20 effektivsten Modelle. In der ersten Spalte befindet sich ein einfacher Index. In der zweiten Spalte stehen die Parameter des Modells und in der letzten Spalte das Ergebnis dieses Modells in Relation zum Trainingssatz. Auffällig ist, dass einige Modelle die gleiche Genauigkeit aufweisen. Es macht nicht viel Sinn, einige wenige Modelle der gleichen Leistungsstufe zu testen, daher ist es am besten, nur eine von der gegebenen Genauigkeitsstufe zu nehmen.\n",
    "\n",
    "Warum die Zahl 20 in der obigen Tabelle? Es war mehr oder weniger das Testangebot, das es mir ermöglichte, das beste Modell auszuwählen, das bereits auf dieser Liste steht. Und der Gewinner ist ... die mit Nummer 74 markierte Zeile. Lassen Sie uns nun ein Modell erstellen, das die Parameter des Gewinnermodells übernimmt. "
   ]
  },
  {
   "cell_type": "code",
   "execution_count": 70,
   "id": "9a96fe8d",
   "metadata": {},
   "outputs": [
    {
     "name": "stdout",
     "output_type": "stream",
     "text": [
      "CPU times: user 957 µs, sys: 549 µs, total: 1.51 ms\n",
      "Wall time: 1e+03 µs\n"
     ]
    },
    {
     "data": {
      "text/plain": [
       "KNeighborsClassifier(metric='manhattan', n_neighbors=25)"
      ]
     },
     "execution_count": 70,
     "metadata": {},
     "output_type": "execute_result"
    }
   ],
   "source": [
    "%%time\n",
    "knn_final_model = KNeighborsClassifier(algorithm='auto', metric='manhattan', n_neighbors=25, weights='uniform')\n",
    "knn_final_model.fit(X_train_prepared, y_train_prepared)"
   ]
  },
  {
   "cell_type": "markdown",
   "id": "2e79c157",
   "metadata": {},
   "source": [
    "Einfach das beste. Die Entwicklung des Modells schließt dieses Kapitel über Training, Evaluation und Tuning des Modells ab. Mittels Merkmalsauswahl, Parameterabstimmung, Überprüfung der effektivsten Modelle und der Auswahl von Variablen, die im vorherigen Kapitel vorgestellt wurden, wurde das endgültige Modell erreicht. Da die Theorie hinter uns liegt, ist es Zeit für ein wenig Praxis. "
   ]
  },
  {
   "cell_type": "markdown",
   "id": "2066f56f",
   "metadata": {},
   "source": [
    "## Logistic Regression"
   ]
  },
  {
   "cell_type": "code",
   "execution_count": 71,
   "id": "c6c2bb8f",
   "metadata": {},
   "outputs": [
    {
     "name": "stdout",
     "output_type": "stream",
     "text": [
      "83.26\n",
      "82.12\n"
     ]
    }
   ],
   "source": [
    "from sklearn.linear_model import LogisticRegression\n",
    "logreg = LogisticRegression()\n",
    "logreg.fit(X_train_prepared, y_train_prepared)\n",
    "\n",
    "Y_pred = logreg.predict(X_test_prepared)\n",
    "acc_log = round(logreg.score(X_train_prepared, y_train_prepared) * 100, 2)\n",
    "print(acc_log)\n",
    "\n",
    "acc_log_valid = round(logreg.score(X_test_prepared, y_test_prepared) * 100, 2)\n",
    "print(acc_log_valid)"
   ]
  },
  {
   "cell_type": "markdown",
   "id": "57ad8ee6",
   "metadata": {},
   "source": [
    "## LinearSVC"
   ]
  },
  {
   "cell_type": "code",
   "execution_count": 72,
   "id": "0c7aea55",
   "metadata": {
    "scrolled": true
   },
   "outputs": [
    {
     "name": "stdout",
     "output_type": "stream",
     "text": [
      "83.4\n",
      "82.12\n"
     ]
    }
   ],
   "source": [
    "\n",
    "linear_svc = LinearSVC()\n",
    "linear_svc.fit(X_train_prepared, y_train_prepared)\n",
    "\n",
    "Y_pred = linear_svc.predict(X_test_prepared)\n",
    "\n",
    "acc_linear_svc = round(linear_svc.score(X_train_prepared, y_train_prepared) * 100, 2)\n",
    "print(acc_linear_svc)\n",
    "\n",
    "acc_linear_svc_valid = round(linear_svc.score(X_test_prepared, y_test_prepared) * 100, 2)\n",
    "print(acc_linear_svc_valid)"
   ]
  },
  {
   "cell_type": "markdown",
   "id": "fdc76e4c",
   "metadata": {},
   "source": [
    "## GaussianNB"
   ]
  },
  {
   "cell_type": "code",
   "execution_count": 73,
   "id": "bc682407",
   "metadata": {},
   "outputs": [
    {
     "name": "stdout",
     "output_type": "stream",
     "text": [
      "81.86\n",
      "80.45\n"
     ]
    }
   ],
   "source": [
    "gaussian = GaussianNB() \n",
    "gaussian.fit(X_train_prepared, y_train_prepared) \n",
    "Y_pred = gaussian.predict(X_test_prepared) \n",
    "acc_gaussian = round(gaussian.score(X_train_prepared, y_train_prepared) * 100, 2)\n",
    "print(acc_gaussian)\n",
    "acc_gaussian_valid = round(gaussian.score(X_test_prepared, y_test_prepared) * 100, 2)\n",
    "print(acc_gaussian_valid)"
   ]
  },
  {
   "cell_type": "markdown",
   "id": "f1fdbfdc",
   "metadata": {},
   "source": [
    "## Perceptron"
   ]
  },
  {
   "cell_type": "code",
   "execution_count": 74,
   "id": "2ce07f40",
   "metadata": {},
   "outputs": [
    {
     "name": "stdout",
     "output_type": "stream",
     "text": [
      "81.86\n",
      "80.45\n"
     ]
    }
   ],
   "source": [
    "perceptron = Perceptron(max_iter=5)\n",
    "perceptron.fit(X_train_prepared, y_train_prepared)\n",
    "\n",
    "Y_pred = perceptron.predict(X_test_prepared)\n",
    "\n",
    "acc_perceptron = round(perceptron.score(X_train_prepared, y_train_prepared) * 100, 2)\n",
    "print(acc_perceptron)\n",
    "acc_perceptron_valid = round(perceptron.score(X_test_prepared, y_test_prepared) * 100, 2)\n",
    "print(acc_perceptron_valid)"
   ]
  },
  {
   "cell_type": "markdown",
   "id": "9393e6e5",
   "metadata": {},
   "source": [
    "## Decision Tree"
   ]
  },
  {
   "cell_type": "code",
   "execution_count": 75,
   "id": "a75b7cd5",
   "metadata": {},
   "outputs": [
    {
     "name": "stdout",
     "output_type": "stream",
     "text": [
      "94.94\n",
      "77.65\n"
     ]
    }
   ],
   "source": [
    "decision_tree = DecisionTreeClassifier() \n",
    "decision_tree.fit(X_train_prepared, y_train_prepared) \n",
    "Y_pred = decision_tree.predict(X_test_prepared) \n",
    "\n",
    "acc_decision_tree = round(decision_tree.score(X_train_prepared, y_train_prepared) * 100, 2)\n",
    "acc_decision_tree_valid = round(decision_tree.score(X_test_prepared, y_test_prepared) * 100, 2)\n",
    "print(acc_decision_tree)\n",
    "print(acc_decision_tree_valid)"
   ]
  },
  {
   "cell_type": "markdown",
   "id": "475e5e51",
   "metadata": {},
   "source": [
    "## Welches ist das beste Modell?"
   ]
  },
  {
   "cell_type": "code",
   "execution_count": 76,
   "id": "969e40ba",
   "metadata": {},
   "outputs": [
    {
     "data": {
      "text/html": [
       "<div>\n",
       "<style scoped>\n",
       "    .dataframe tbody tr th:only-of-type {\n",
       "        vertical-align: middle;\n",
       "    }\n",
       "\n",
       "    .dataframe tbody tr th {\n",
       "        vertical-align: top;\n",
       "    }\n",
       "\n",
       "    .dataframe thead th {\n",
       "        text-align: right;\n",
       "    }\n",
       "</style>\n",
       "<table border=\"1\" class=\"dataframe\">\n",
       "  <thead>\n",
       "    <tr style=\"text-align: right;\">\n",
       "      <th></th>\n",
       "      <th>Model</th>\n",
       "    </tr>\n",
       "    <tr>\n",
       "      <th>Score</th>\n",
       "      <th></th>\n",
       "    </tr>\n",
       "  </thead>\n",
       "  <tbody>\n",
       "    <tr>\n",
       "      <th>82.122905</th>\n",
       "      <td>KNN</td>\n",
       "    </tr>\n",
       "    <tr>\n",
       "      <th>82.120000</th>\n",
       "      <td>Support Vector Machines</td>\n",
       "    </tr>\n",
       "    <tr>\n",
       "      <th>82.120000</th>\n",
       "      <td>Logistic Regression</td>\n",
       "    </tr>\n",
       "    <tr>\n",
       "      <th>80.450000</th>\n",
       "      <td>Naive Bayes</td>\n",
       "    </tr>\n",
       "    <tr>\n",
       "      <th>80.450000</th>\n",
       "      <td>Perceptron</td>\n",
       "    </tr>\n",
       "    <tr>\n",
       "      <th>77.650000</th>\n",
       "      <td>Decision Tree</td>\n",
       "    </tr>\n",
       "  </tbody>\n",
       "</table>\n",
       "</div>"
      ],
      "text/plain": [
       "                             Model\n",
       "Score                             \n",
       "82.122905                      KNN\n",
       "82.120000  Support Vector Machines\n",
       "82.120000      Logistic Regression\n",
       "80.450000              Naive Bayes\n",
       "80.450000               Perceptron\n",
       "77.650000            Decision Tree"
      ]
     },
     "execution_count": 76,
     "metadata": {},
     "output_type": "execute_result"
    }
   ],
   "source": [
    "results = pd.DataFrame({\n",
    "'Model': ['Support Vector Machines', 'KNN', 'Logistic Regression', \n",
    " 'Naive Bayes', 'Perceptron', \n",
    "'Decision Tree'],\n",
    "'Score': [acc_linear_svc_valid, accuracy_score(y_test_prepared, knn_predictions)*100, acc_log_valid, \n",
    " acc_gaussian_valid, acc_perceptron_valid, \n",
    "acc_decision_tree_valid]})\n",
    "result_df = results.sort_values(by='Score', ascending=False)\n",
    "result_df = result_df.set_index('Score')\n",
    "result_df.head(9)"
   ]
  },
  {
   "cell_type": "markdown",
   "id": "e70349bd",
   "metadata": {},
   "source": [
    "# Voraussage"
   ]
  },
  {
   "cell_type": "markdown",
   "id": "d716af8f",
   "metadata": {},
   "source": [
    "Der Plan ist einfach: Das df_test-Set durch erstellte Pipelines leiten und es dann mit dem KNN-Modell angreifen, das am Ende des vorherigen Teils erhalten wurde. "
   ]
  },
  {
   "cell_type": "code",
   "execution_count": 77,
   "id": "14d764f4",
   "metadata": {},
   "outputs": [
    {
     "name": "stdout",
     "output_type": "stream",
     "text": [
      "CPU times: user 535 ms, sys: 12.6 ms, total: 548 ms\n",
      "Wall time: 69.1 ms\n"
     ]
    }
   ],
   "source": [
    "%%time\n",
    "df_test_prepared = full_pipeline.fit_transform(df_test)\n",
    "df_test_prepared = full_pipeline2.fit_transform(df_test)\n",
    "\n",
    "df_test_prepared = df_test_prepared[:, indices_of_top]\n",
    "\n",
    "df_test_predictions = knn_final_model.predict(df_test_prepared)\n",
    "submission = pd.DataFrame({'PassengerId':df_test['PassengerId'], 'Survived':df_test_predictions})\n",
    "submission.to_csv('Abgabe_GruppeB.csv', sep=',', index=False)"
   ]
  }
 ],
 "metadata": {
  "kernelspec": {
   "display_name": "Python 3 (ipykernel)",
   "language": "python",
   "name": "python3"
  },
  "language_info": {
   "codemirror_mode": {
    "name": "ipython",
    "version": 3
   },
   "file_extension": ".py",
   "mimetype": "text/x-python",
   "name": "python",
   "nbconvert_exporter": "python",
   "pygments_lexer": "ipython3",
   "version": "3.9.7"
  },
  "toc": {
   "base_numbering": 1,
   "nav_menu": {},
   "number_sections": true,
   "sideBar": true,
   "skip_h1_title": false,
   "title_cell": "Table of Contents",
   "title_sidebar": "Contents",
   "toc_cell": false,
   "toc_position": {},
   "toc_section_display": true,
   "toc_window_display": true
  },
  "varInspector": {
   "cols": {
    "lenName": 16,
    "lenType": 16,
    "lenVar": 40
   },
   "kernels_config": {
    "python": {
     "delete_cmd_postfix": "",
     "delete_cmd_prefix": "del ",
     "library": "var_list.py",
     "varRefreshCmd": "print(var_dic_list())"
    },
    "r": {
     "delete_cmd_postfix": ") ",
     "delete_cmd_prefix": "rm(",
     "library": "var_list.r",
     "varRefreshCmd": "cat(var_dic_list()) "
    }
   },
   "types_to_exclude": [
    "module",
    "function",
    "builtin_function_or_method",
    "instance",
    "_Feature"
   ],
   "window_display": false
  }
 },
 "nbformat": 4,
 "nbformat_minor": 5
}
